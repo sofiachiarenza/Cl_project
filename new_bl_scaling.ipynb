{
 "cells": [
  {
   "cell_type": "code",
   "execution_count": 1,
   "id": "61766d20-6ef6-429f-8193-defdb2138fee",
   "metadata": {},
   "outputs": [
    {
     "name": "stderr",
     "output_type": "stream",
     "text": [
      "\u001b[32m\u001b[1m  Activating\u001b[22m\u001b[39m project at `~/Desktop/PhD_Stuff/cheb_bessel_tests-main`\n",
      "\u001b[36m\u001b[1m[ \u001b[22m\u001b[39m\u001b[36m\u001b[1mInfo: \u001b[22m\u001b[39mPrecompiling LoopVectorization [bdcacae8-1622-11e9-2a5c-532679323890]\n",
      "\u001b[36m\u001b[1m[ \u001b[22m\u001b[39m\u001b[36m\u001b[1mInfo: \u001b[22m\u001b[39mPrecompiling Plots [91a5bcdd-55d7-5caf-9e0b-520d859cae80]\n",
      "\u001b[32m\u001b[1mPrecompiling\u001b[22m\u001b[39m IJuliaExt\n",
      "\u001b[32m  ✓ \u001b[39m\u001b[90mXSLT_jll\u001b[39m\n",
      "\u001b[32m  ✓ \u001b[39m\u001b[90mPlots → FileIOExt\u001b[39m\n",
      "\u001b[32m  ✓ \u001b[39m\u001b[90mPlots → UnitfulExt\u001b[39m\n",
      "\u001b[32m  ✓ \u001b[39m\u001b[90mPlots → IJuliaExt\u001b[39m\n",
      "  4 dependencies successfully precompiled in 63 seconds. 167 already precompiled.\n",
      "\u001b[36m\u001b[1m[ \u001b[22m\u001b[39m\u001b[36m\u001b[1mInfo: \u001b[22m\u001b[39mPrecompiling IJuliaExt [2f4121a4-3b3a-5ce6-9c5e-1f2673ce168a]\n",
      "\u001b[33m\u001b[1m┌ \u001b[22m\u001b[39m\u001b[33m\u001b[1mWarning: \u001b[22m\u001b[39mModule Plots with build ID fafbfcfd-5197-7179-000a-bdfbf4c1135a is missing from the cache.\n",
      "\u001b[33m\u001b[1m│ \u001b[22m\u001b[39mThis may mean Plots [91a5bcdd-55d7-5caf-9e0b-520d859cae80] does not support precompilation but is imported by a module that does.\n",
      "\u001b[33m\u001b[1m└ \u001b[22m\u001b[39m\u001b[90m@ Base loading.jl:1942\u001b[39m\n",
      "\u001b[36m\u001b[1m[ \u001b[22m\u001b[39m\u001b[36m\u001b[1mInfo: \u001b[22m\u001b[39mSkipping precompilation since __precompile__(false). Importing IJuliaExt [2f4121a4-3b3a-5ce6-9c5e-1f2673ce168a].\n",
      "\u001b[36m\u001b[1m[ \u001b[22m\u001b[39m\u001b[36m\u001b[1mInfo: \u001b[22m\u001b[39mPrecompiling FastChebInterp [cf66c380-9a80-432c-aff8-4f9c79c0bdde]\n",
      "\u001b[32m\u001b[1mPrecompiling\u001b[22m\u001b[39m StaticArrayInterfaceStaticArraysExt\n",
      "\u001b[32m  ✓ \u001b[39m\u001b[90mStaticArrayInterface → StaticArrayInterfaceStaticArraysExt\u001b[39m\n",
      "  1 dependency successfully precompiled in 3 seconds. 27 already precompiled.\n",
      "\u001b[36m\u001b[1m[ \u001b[22m\u001b[39m\u001b[36m\u001b[1mInfo: \u001b[22m\u001b[39mPrecompiling StaticArrayInterfaceStaticArraysExt [06b0261c-7a9b-5753-9bdf-fd6840237b4a]\n",
      "\u001b[33m\u001b[1m┌ \u001b[22m\u001b[39m\u001b[33m\u001b[1mWarning: \u001b[22m\u001b[39mModule StaticArrayInterface with build ID fafbfcfd-3b3b-8e51-000a-bdf6d73a20c7 is missing from the cache.\n",
      "\u001b[33m\u001b[1m│ \u001b[22m\u001b[39mThis may mean StaticArrayInterface [0d7ed370-da01-4f52-bd93-41d350b8b718] does not support precompilation but is imported by a module that does.\n",
      "\u001b[33m\u001b[1m└ \u001b[22m\u001b[39m\u001b[90m@ Base loading.jl:1942\u001b[39m\n",
      "\u001b[36m\u001b[1m[ \u001b[22m\u001b[39m\u001b[36m\u001b[1mInfo: \u001b[22m\u001b[39mSkipping precompilation since __precompile__(false). Importing StaticArrayInterfaceStaticArraysExt [06b0261c-7a9b-5753-9bdf-fd6840237b4a].\n"
     ]
    }
   ],
   "source": [
    "using Pkg\n",
    "Pkg.activate(\".\")\n",
    "\n",
    "#using CUDA\n",
    "using BenchmarkTools\n",
    "using FFTW\n",
    "using LoopVectorization\n",
    "using Plots\n",
    "using FastChebInterp\n",
    "using Tullio"
   ]
  },
  {
   "cell_type": "markdown",
   "id": "08fbd82f-9b5a-4bac-aafe-7939334e3d48",
   "metadata": {},
   "source": [
    "# Less is more: an approximation theory perspective on cosmological angular statistics computation\n",
    "\n",
    "In this notebook we are gonn benchmark several of the components required to compute the $C_\\ell$ without the Limber approximation in a new way, where we use insights from approximation theory.\n",
    "\n",
    "The integral we wanna compute is\n",
    "\n",
    "$$\n",
    "C^{AB}_{ij}(\\ell)=4 \\pi \\int_0^{\\infty} d \\chi_1 W^A_i\\left(\\chi_1\\right) \\int_0^{\\infty} d \\chi_2 W^B_j\\left(\\chi_2\\right)\\int_0^{\\infty} d k \\,P(k,\\chi_1,\\chi_2) j_{\\ell}\\left(k \\chi_1\\right)j_{\\ell}\\left(k \\chi_2\\right)\n",
    "$$\n",
    "\n",
    "## First step: the inner double Bessel integral\n",
    "\n",
    "The first integral we wanna compute is the inner integral with the two Bessel functions\n",
    "\n",
    "$$\n",
    "w(\\ell,\\,\\chi_1,\\,\\chi_2)=\\int_0^{\\infty} d k \\,P(k,\\chi_1,\\chi_2) j_{\\ell}\\left(k \\chi_1\\right)j_{\\ell}\\left(k \\chi_2\\right)\n",
    "$$\n",
    "\n",
    "The idea is similar to the FFTLog of [Schonber et al., 2018](https://arxiv.org/abs/1807.09540), but with some important differences.\n",
    "We are gonna decompose the Power Spectrum on the Chebyshev Polynomial Basis\n",
    "\n",
    "$$\n",
    "P(k,\\chi_1,\\chi_2) = \\sum_{n=0}^{N_\\mathrm{max}}c_n(\\chi_1, \\chi_2)T_n(k)\n",
    "$$\n",
    "\n",
    "where $T_n$ is the $n$-th Chebyshev polynomial.\n",
    "The key fact here is that Chebyshev polynomial are, in fact, polynomials and we can compute integrals like the one we are interested in an analytical way\n",
    "$$\n",
    "I_{\\ell}(\\nu, t) \\equiv 4 \\pi \\int_0^{\\infty} \\frac{d u}{u} u^\\nu j_{\\ell}(u) j_{\\ell}(u t)=\\frac{2^{\\nu-1} \\pi^2 \\Gamma\\left(\\ell+\\frac{\\nu}{2}\\right)}{\\Gamma\\left(\\frac{3-\\nu}{2}\\right) \\Gamma\\left(\\ell+\\frac{3}{2}\\right)} t_2^{\\ell}{ }_2 F_1\\left(\\frac{\\nu-1}{2}, \\ell+\\frac{\\nu}{2} ; \\ell+\\frac{3}{2} \\mid t^2\\right)\n",
    "$$\n",
    "where $\\Gamma$ is the Gamma function and ${ }_2 F_1$ is a confluent hypergeometric function (hope for you you never saw it while studying Physics on Landau Textbooks).\n",
    "Nils's paper spent quite a decent amount of time to evaluate the ${ }_2 F_1$. However, we are gonna take advantage of some stable Julia implementations, such as [ArbNumerics.jl](https://github.com/JeffreySarnoff/ArbNumerics.jl). However, this is not going to be a minor details: we are gonna compute it only once!\n",
    "\n",
    "But let's benchmark something: the Chebyshev coefficients can be computed by means of an FFT. Here we are gonna take advantage of the Julia wrapper of FFTW.\n",
    "If we use an expansion with $n-1$ coefficients, we are gonna to apply an FFT to an array with $n$ elements. Preliminary tests, show that $n=164$ gives $0.01\\%$ up to $k_\\mathrm{max}=1.0\\,\\mathrm{Mpc}^{-1}$. In order to reach $k_\\mathrm{max}=10.0\\,\\mathrm{Mpc}^{-1}$, $256$ coefficients are needed.\n",
    "The second important thing is the number of redshift combination we are gonna use to compute the final integrals.\n",
    "Given what was done:\n",
    "- for the N5K challenge by the matter entry (see this [config file](https://github.com/LSSTDESC/N5K/blob/master/tests/config_matter_chi02.yml))\n",
    "- the [TwoFast.jl algorithm](https://arxiv.org/abs/1709.02401)\n",
    "- the [Angpow algorith](https://arxiv.org/abs/1701.03592)\n",
    " \n",
    "considering $139$ points in $z$ should be a reasonable choice. This means we are going to compute $\\frac{139\\cdot140}{2}$ FFTs. Let's go!"
   ]
  },
  {
   "cell_type": "markdown",
   "id": "4e2acf1e-3a7a-4b73-bf10-8d806604d24a",
   "metadata": {},
   "source": [
    "### Non mi è super chiaro il numero di FFT :( "
   ]
  },
  {
   "cell_type": "markdown",
   "id": "99d78d55-64b2-463d-85e2-05fb928393b7",
   "metadata": {},
   "source": [
    "Questo primo benchmark è per la scomposizione di P(k, $\\chi_1$, $\\chi_2$) sulla base dei Cheb"
   ]
  },
  {
   "cell_type": "code",
   "execution_count": 3,
   "id": "18074842-311e-4044-879a-0b8aeca7b04c",
   "metadata": {},
   "outputs": [
    {
     "data": {
      "text/plain": [
       "BenchmarkTools.Trial: 1294 samples with 1 evaluation.\n",
       " Range \u001b[90m(\u001b[39m\u001b[36m\u001b[1mmin\u001b[22m\u001b[39m … \u001b[35mmax\u001b[39m\u001b[90m):  \u001b[39m\u001b[36m\u001b[1m3.472 ms\u001b[22m\u001b[39m … \u001b[35m  5.971 ms\u001b[39m  \u001b[90m┊\u001b[39m GC \u001b[90m(\u001b[39mmin … max\u001b[90m): \u001b[39m0.00% … 15.80%\n",
       " Time  \u001b[90m(\u001b[39m\u001b[34m\u001b[1mmedian\u001b[22m\u001b[39m\u001b[90m):     \u001b[39m\u001b[34m\u001b[1m3.723 ms               \u001b[22m\u001b[39m\u001b[90m┊\u001b[39m GC \u001b[90m(\u001b[39mmedian\u001b[90m):    \u001b[39m0.00%\n",
       " Time  \u001b[90m(\u001b[39m\u001b[32m\u001b[1mmean\u001b[22m\u001b[39m ± \u001b[32mσ\u001b[39m\u001b[90m):   \u001b[39m\u001b[32m\u001b[1m3.851 ms\u001b[22m\u001b[39m ± \u001b[32m365.201 μs\u001b[39m  \u001b[90m┊\u001b[39m GC \u001b[90m(\u001b[39mmean ± σ\u001b[90m):  \u001b[39m3.72% ±  6.45%\n",
       "\n",
       "  \u001b[39m \u001b[39m▂\u001b[39m▇\u001b[39m█\u001b[39m▆\u001b[39m▂\u001b[39m \u001b[39m \u001b[39m \u001b[39m \u001b[34m▁\u001b[39m\u001b[39m \u001b[39m \u001b[39m \u001b[39m \u001b[32m \u001b[39m\u001b[39m \u001b[39m \u001b[39m \u001b[39m \u001b[39m \u001b[39m \u001b[39m \u001b[39m \u001b[39m \u001b[39m \u001b[39m \u001b[39m \u001b[39m \u001b[39m \u001b[39m \u001b[39m \u001b[39m \u001b[39m \u001b[39m \u001b[39m \u001b[39m \u001b[39m \u001b[39m \u001b[39m \u001b[39m \u001b[39m \u001b[39m \u001b[39m \u001b[39m \u001b[39m \u001b[39m \u001b[39m \u001b[39m \u001b[39m \u001b[39m \u001b[39m \u001b[39m \u001b[39m \u001b[39m \u001b[39m \u001b[39m \u001b[39m \u001b[39m \u001b[39m \u001b[39m \n",
       "  \u001b[39m▆\u001b[39m█\u001b[39m█\u001b[39m█\u001b[39m█\u001b[39m█\u001b[39m▆\u001b[39m▆\u001b[39m▆\u001b[39m▆\u001b[34m█\u001b[39m\u001b[39m▇\u001b[39m▆\u001b[39m▆\u001b[39m▆\u001b[32m▄\u001b[39m\u001b[39m▄\u001b[39m▅\u001b[39m▄\u001b[39m▃\u001b[39m▂\u001b[39m▃\u001b[39m▃\u001b[39m▃\u001b[39m▃\u001b[39m▃\u001b[39m▁\u001b[39m▃\u001b[39m▃\u001b[39m▄\u001b[39m▆\u001b[39m▇\u001b[39m▅\u001b[39m▄\u001b[39m▄\u001b[39m▃\u001b[39m▃\u001b[39m▃\u001b[39m▃\u001b[39m▄\u001b[39m▃\u001b[39m▃\u001b[39m▃\u001b[39m▃\u001b[39m▃\u001b[39m▃\u001b[39m▂\u001b[39m▂\u001b[39m▂\u001b[39m▂\u001b[39m▂\u001b[39m▂\u001b[39m▂\u001b[39m▂\u001b[39m▂\u001b[39m▂\u001b[39m▂\u001b[39m▂\u001b[39m▂\u001b[39m \u001b[39m▃\n",
       "  3.47 ms\u001b[90m         Histogram: frequency by time\u001b[39m        4.96 ms \u001b[0m\u001b[1m<\u001b[22m\n",
       "\n",
       " Memory estimate\u001b[90m: \u001b[39m\u001b[33m10.99 MiB\u001b[39m, allocs estimate\u001b[90m: \u001b[39m\u001b[33m2\u001b[39m."
      ]
     },
     "execution_count": 3,
     "metadata": {},
     "output_type": "execute_result"
    }
   ],
   "source": [
    "n_k = 128 # Perchè non 256?\n",
    "n_z1=150 #numero di punti in chi_1 e 2 rispettivamente \n",
    "n_z2=75\n",
    "n_z1_z2 = Int(n_z1*n_z2)\n",
    "n_l = 18 #numero di multipoli (l values)\n",
    "n_tomo1 = 10 #combinazioni tomografiche (indici i e j)\n",
    "n_tomo2 = 5 #replicano il numero di bin in N5K\n",
    "\n",
    "\n",
    "x = rand(n_z1_z2, n_k) #FFT per i coefficienti di Cheb in direzione k \n",
    "FFTW.set_num_threads(1) # c'è una trasformata per ogni punto sulla griglia-> quindi sono 150*75*128 no?\n",
    "y = FFTW.plan_r2r(x, FFTW.DHT, [2]) #operazioni once for all salvate (2 è l'asse lungo cui trasformare) operatore trasformata \n",
    "b1 = @benchmark $y*$x #benchmark è una macro di julia + sintassi per FFT--> applico l'operatore trasformata a x!\n",
    "#i dollari sono sintassi del benchmark, meglio metterli ma non fondamentali "
   ]
  },
  {
   "cell_type": "markdown",
   "id": "30607215-ecb2-4130-839e-a147e680a853",
   "metadata": {},
   "source": [
    "    GC: julia è garbage collected. La memoria è gestita automaticamente, cancella variabili inutili. Più è basso meglio è, sto ottimizzando la memoria. \n",
    "    DHT: discrete Hartley transform"
   ]
  },
  {
   "cell_type": "code",
   "execution_count": 4,
   "id": "4e7e608f-8bc6-44a0-94f0-47b4cdb6e430",
   "metadata": {},
   "outputs": [
    {
     "data": {
      "text/plain": [
       "BenchmarkTools.Trial: 2096 samples with 1 evaluation.\n",
       " Range \u001b[90m(\u001b[39m\u001b[36m\u001b[1mmin\u001b[22m\u001b[39m … \u001b[35mmax\u001b[39m\u001b[90m):  \u001b[39m\u001b[36m\u001b[1m1.978 ms\u001b[22m\u001b[39m … \u001b[35m 11.808 ms\u001b[39m  \u001b[90m┊\u001b[39m GC \u001b[90m(\u001b[39mmin … max\u001b[90m): \u001b[39m0.00% …  0.00%\n",
       " Time  \u001b[90m(\u001b[39m\u001b[34m\u001b[1mmedian\u001b[22m\u001b[39m\u001b[90m):     \u001b[39m\u001b[34m\u001b[1m2.118 ms               \u001b[22m\u001b[39m\u001b[90m┊\u001b[39m GC \u001b[90m(\u001b[39mmedian\u001b[90m):    \u001b[39m0.00%\n",
       " Time  \u001b[90m(\u001b[39m\u001b[32m\u001b[1mmean\u001b[22m\u001b[39m ± \u001b[32mσ\u001b[39m\u001b[90m):   \u001b[39m\u001b[32m\u001b[1m2.374 ms\u001b[22m\u001b[39m ± \u001b[32m628.772 μs\u001b[39m  \u001b[90m┊\u001b[39m GC \u001b[90m(\u001b[39mmean ± σ\u001b[90m):  \u001b[39m6.92% ± 10.68%\n",
       "\n",
       "  \u001b[39m▅\u001b[39m█\u001b[39m█\u001b[34m▆\u001b[39m\u001b[39m▄\u001b[39m▄\u001b[39m▃\u001b[39m▁\u001b[32m \u001b[39m\u001b[39m \u001b[39m \u001b[39m \u001b[39m \u001b[39m \u001b[39m \u001b[39m \u001b[39m▂\u001b[39m▄\u001b[39m▄\u001b[39m▃\u001b[39m▂\u001b[39m▁\u001b[39m \u001b[39m \u001b[39m▁\u001b[39m \u001b[39m \u001b[39m \u001b[39m \u001b[39m \u001b[39m \u001b[39m \u001b[39m \u001b[39m \u001b[39m \u001b[39m \u001b[39m \u001b[39m \u001b[39m \u001b[39m \u001b[39m \u001b[39m \u001b[39m \u001b[39m \u001b[39m \u001b[39m \u001b[39m \u001b[39m \u001b[39m \u001b[39m \u001b[39m \u001b[39m \u001b[39m \u001b[39m \u001b[39m \u001b[39m \u001b[39m \u001b[39m \u001b[39m \u001b[39m \u001b[39m▁\n",
       "  \u001b[39m█\u001b[39m█\u001b[39m█\u001b[34m█\u001b[39m\u001b[39m█\u001b[39m█\u001b[39m█\u001b[39m█\u001b[32m█\u001b[39m\u001b[39m█\u001b[39m█\u001b[39m▇\u001b[39m▆\u001b[39m▇\u001b[39m▄\u001b[39m█\u001b[39m█\u001b[39m█\u001b[39m█\u001b[39m█\u001b[39m█\u001b[39m█\u001b[39m█\u001b[39m▇\u001b[39m█\u001b[39m▇\u001b[39m▅\u001b[39m▆\u001b[39m▇\u001b[39m▄\u001b[39m▆\u001b[39m▆\u001b[39m▄\u001b[39m▆\u001b[39m▄\u001b[39m▁\u001b[39m▄\u001b[39m▁\u001b[39m▁\u001b[39m▁\u001b[39m▄\u001b[39m▁\u001b[39m▆\u001b[39m▁\u001b[39m▄\u001b[39m▁\u001b[39m▄\u001b[39m▁\u001b[39m▄\u001b[39m▁\u001b[39m▄\u001b[39m▁\u001b[39m▄\u001b[39m▄\u001b[39m▁\u001b[39m▄\u001b[39m▁\u001b[39m▄\u001b[39m▄\u001b[39m \u001b[39m█\n",
       "  1.98 ms\u001b[90m      \u001b[39m\u001b[90mHistogram: \u001b[39m\u001b[90m\u001b[1mlog(\u001b[22m\u001b[39m\u001b[90mfrequency\u001b[39m\u001b[90m\u001b[1m)\u001b[22m\u001b[39m\u001b[90m by time\u001b[39m      4.99 ms \u001b[0m\u001b[1m<\u001b[22m\n",
       "\n",
       " Memory estimate\u001b[90m: \u001b[39m\u001b[33m10.99 MiB\u001b[39m, allocs estimate\u001b[90m: \u001b[39m\u001b[33m26\u001b[39m."
      ]
     },
     "execution_count": 4,
     "metadata": {},
     "output_type": "execute_result"
    }
   ],
   "source": [
    "FFTW.set_num_threads(2)\n",
    "y = FFTW.plan_r2r(x, FFTW.DHT, [2])\n",
    "b2 = @benchmark $y*$x"
   ]
  },
  {
   "cell_type": "code",
   "execution_count": 5,
   "id": "feb5ec97-791c-4404-8700-bb448e7b1365",
   "metadata": {},
   "outputs": [
    {
     "data": {
      "text/plain": [
       "BenchmarkTools.Trial: 3138 samples with 1 evaluation.\n",
       " Range \u001b[90m(\u001b[39m\u001b[36m\u001b[1mmin\u001b[22m\u001b[39m … \u001b[35mmax\u001b[39m\u001b[90m):  \u001b[39m\u001b[36m\u001b[1m1.114 ms\u001b[22m\u001b[39m … \u001b[35m 10.475 ms\u001b[39m  \u001b[90m┊\u001b[39m GC \u001b[90m(\u001b[39mmin … max\u001b[90m): \u001b[39m 0.00% … 83.29%\n",
       " Time  \u001b[90m(\u001b[39m\u001b[34m\u001b[1mmedian\u001b[22m\u001b[39m\u001b[90m):     \u001b[39m\u001b[34m\u001b[1m1.268 ms               \u001b[22m\u001b[39m\u001b[90m┊\u001b[39m GC \u001b[90m(\u001b[39mmedian\u001b[90m):    \u001b[39m 0.00%\n",
       " Time  \u001b[90m(\u001b[39m\u001b[32m\u001b[1mmean\u001b[22m\u001b[39m ± \u001b[32mσ\u001b[39m\u001b[90m):   \u001b[39m\u001b[32m\u001b[1m1.583 ms\u001b[22m\u001b[39m ± \u001b[32m533.812 μs\u001b[39m  \u001b[90m┊\u001b[39m GC \u001b[90m(\u001b[39mmean ± σ\u001b[90m):  \u001b[39m10.52% ± 14.25%\n",
       "\n",
       "  \u001b[39m▇\u001b[39m█\u001b[39m▅\u001b[39m▅\u001b[39m▄\u001b[34m▂\u001b[39m\u001b[39m▂\u001b[39m \u001b[39m \u001b[39m \u001b[39m \u001b[39m \u001b[39m \u001b[39m \u001b[39m \u001b[32m \u001b[39m\u001b[39m \u001b[39m \u001b[39m \u001b[39m▄\u001b[39m▄\u001b[39m▄\u001b[39m▄\u001b[39m▃\u001b[39m▂\u001b[39m▁\u001b[39m \u001b[39m▁\u001b[39m▁\u001b[39m▃\u001b[39m▃\u001b[39m▄\u001b[39m▄\u001b[39m▂\u001b[39m \u001b[39m \u001b[39m \u001b[39m \u001b[39m \u001b[39m \u001b[39m \u001b[39m \u001b[39m \u001b[39m \u001b[39m \u001b[39m \u001b[39m \u001b[39m▁\u001b[39m▁\u001b[39m \u001b[39m▁\u001b[39m \u001b[39m \u001b[39m \u001b[39m \u001b[39m \u001b[39m \u001b[39m \u001b[39m \u001b[39m \u001b[39m▁\n",
       "  \u001b[39m█\u001b[39m█\u001b[39m█\u001b[39m█\u001b[39m█\u001b[34m█\u001b[39m\u001b[39m█\u001b[39m█\u001b[39m█\u001b[39m▆\u001b[39m▆\u001b[39m▇\u001b[39m▆\u001b[39m▅\u001b[39m▆\u001b[32m▄\u001b[39m\u001b[39m▆\u001b[39m█\u001b[39m█\u001b[39m█\u001b[39m█\u001b[39m█\u001b[39m█\u001b[39m█\u001b[39m█\u001b[39m█\u001b[39m█\u001b[39m█\u001b[39m█\u001b[39m█\u001b[39m█\u001b[39m█\u001b[39m█\u001b[39m█\u001b[39m█\u001b[39m▇\u001b[39m▆\u001b[39m▄\u001b[39m▄\u001b[39m▅\u001b[39m▆\u001b[39m▅\u001b[39m▄\u001b[39m▅\u001b[39m▅\u001b[39m▇\u001b[39m▆\u001b[39m█\u001b[39m█\u001b[39m▇\u001b[39m█\u001b[39m█\u001b[39m▇\u001b[39m▆\u001b[39m▆\u001b[39m▆\u001b[39m▄\u001b[39m▅\u001b[39m▅\u001b[39m \u001b[39m█\n",
       "  1.11 ms\u001b[90m      \u001b[39m\u001b[90mHistogram: \u001b[39m\u001b[90m\u001b[1mlog(\u001b[22m\u001b[39m\u001b[90mfrequency\u001b[39m\u001b[90m\u001b[1m)\u001b[22m\u001b[39m\u001b[90m by time\u001b[39m      2.98 ms \u001b[0m\u001b[1m<\u001b[22m\n",
       "\n",
       " Memory estimate\u001b[90m: \u001b[39m\u001b[33m10.99 MiB\u001b[39m, allocs estimate\u001b[90m: \u001b[39m\u001b[33m38\u001b[39m."
      ]
     },
     "execution_count": 5,
     "metadata": {},
     "output_type": "execute_result"
    }
   ],
   "source": [
    "FFTW.set_num_threads(4)\n",
    "y = FFTW.plan_r2r(x, FFTW.DHT, [2])\n",
    "b3 = @benchmark $y*$x"
   ]
  },
  {
   "cell_type": "code",
   "execution_count": 6,
   "id": "f44f0306-118e-4158-bbfc-a976b0d8bbaa",
   "metadata": {},
   "outputs": [
    {
     "data": {
      "text/plain": [
       "BenchmarkTools.Trial: 2863 samples with 1 evaluation.\n",
       " Range \u001b[90m(\u001b[39m\u001b[36m\u001b[1mmin\u001b[22m\u001b[39m … \u001b[35mmax\u001b[39m\u001b[90m):  \u001b[39m\u001b[36m\u001b[1m1.129 ms\u001b[22m\u001b[39m … \u001b[35m 11.828 ms\u001b[39m  \u001b[90m┊\u001b[39m GC \u001b[90m(\u001b[39mmin … max\u001b[90m): \u001b[39m0.00% …  7.02%\n",
       " Time  \u001b[90m(\u001b[39m\u001b[34m\u001b[1mmedian\u001b[22m\u001b[39m\u001b[90m):     \u001b[39m\u001b[34m\u001b[1m1.528 ms               \u001b[22m\u001b[39m\u001b[90m┊\u001b[39m GC \u001b[90m(\u001b[39mmedian\u001b[90m):    \u001b[39m0.00%\n",
       " Time  \u001b[90m(\u001b[39m\u001b[32m\u001b[1mmean\u001b[22m\u001b[39m ± \u001b[32mσ\u001b[39m\u001b[90m):   \u001b[39m\u001b[32m\u001b[1m1.734 ms\u001b[22m\u001b[39m ± \u001b[32m474.713 μs\u001b[39m  \u001b[90m┊\u001b[39m GC \u001b[90m(\u001b[39mmean ± σ\u001b[90m):  \u001b[39m9.64% ± 13.53%\n",
       "\n",
       "  \u001b[39m \u001b[39m▁\u001b[39m▁\u001b[39m \u001b[39m \u001b[39m \u001b[39m \u001b[39m▃\u001b[39m▆\u001b[39m▇\u001b[39m█\u001b[39m█\u001b[39m▇\u001b[34m▆\u001b[39m\u001b[39m▅\u001b[39m▄\u001b[39m▃\u001b[39m▃\u001b[39m▂\u001b[32m▂\u001b[39m\u001b[39m▁\u001b[39m \u001b[39m▁\u001b[39m \u001b[39m \u001b[39m \u001b[39m \u001b[39m \u001b[39m \u001b[39m \u001b[39m \u001b[39m \u001b[39m \u001b[39m \u001b[39m \u001b[39m▁\u001b[39m▂\u001b[39m▂\u001b[39m▃\u001b[39m▄\u001b[39m▄\u001b[39m▃\u001b[39m▂\u001b[39m▂\u001b[39m▁\u001b[39m \u001b[39m \u001b[39m \u001b[39m \u001b[39m \u001b[39m \u001b[39m \u001b[39m \u001b[39m \u001b[39m \u001b[39m \u001b[39m \u001b[39m \u001b[39m \u001b[39m \u001b[39m▁\n",
       "  \u001b[39m▇\u001b[39m█\u001b[39m█\u001b[39m▇\u001b[39m█\u001b[39m▇\u001b[39m▇\u001b[39m█\u001b[39m█\u001b[39m█\u001b[39m█\u001b[39m█\u001b[39m█\u001b[34m█\u001b[39m\u001b[39m█\u001b[39m█\u001b[39m█\u001b[39m█\u001b[39m█\u001b[32m█\u001b[39m\u001b[39m█\u001b[39m█\u001b[39m█\u001b[39m█\u001b[39m█\u001b[39m█\u001b[39m▇\u001b[39m█\u001b[39m▇\u001b[39m█\u001b[39m█\u001b[39m▇\u001b[39m▇\u001b[39m▅\u001b[39m▇\u001b[39m█\u001b[39m█\u001b[39m█\u001b[39m█\u001b[39m█\u001b[39m█\u001b[39m█\u001b[39m█\u001b[39m█\u001b[39m█\u001b[39m█\u001b[39m█\u001b[39m▆\u001b[39m▇\u001b[39m█\u001b[39m▇\u001b[39m▇\u001b[39m▇\u001b[39m▄\u001b[39m▆\u001b[39m▆\u001b[39m▆\u001b[39m▄\u001b[39m▅\u001b[39m \u001b[39m█\n",
       "  1.13 ms\u001b[90m      \u001b[39m\u001b[90mHistogram: \u001b[39m\u001b[90m\u001b[1mlog(\u001b[22m\u001b[39m\u001b[90mfrequency\u001b[39m\u001b[90m\u001b[1m)\u001b[22m\u001b[39m\u001b[90m by time\u001b[39m      2.99 ms \u001b[0m\u001b[1m<\u001b[22m\n",
       "\n",
       " Memory estimate\u001b[90m: \u001b[39m\u001b[33m10.99 MiB\u001b[39m, allocs estimate\u001b[90m: \u001b[39m\u001b[33m62\u001b[39m."
      ]
     },
     "execution_count": 6,
     "metadata": {},
     "output_type": "execute_result"
    }
   ],
   "source": [
    "FFTW.set_num_threads(8)\n",
    "y = FFTW.plan_r2r(x, FFTW.DHT, [2])\n",
    "b4 = @benchmark $y*$x"
   ]
  },
  {
   "cell_type": "code",
   "execution_count": 7,
   "id": "960e8ad9-f274-4204-b437-fbc4dc8f7402",
   "metadata": {},
   "outputs": [
    {
     "data": {
      "text/plain": [
       "BenchmarkTools.Trial: 3084 samples with 1 evaluation.\n",
       " Range \u001b[90m(\u001b[39m\u001b[36m\u001b[1mmin\u001b[22m\u001b[39m … \u001b[35mmax\u001b[39m\u001b[90m):  \u001b[39m\u001b[36m\u001b[1m1.094 ms\u001b[22m\u001b[39m … \u001b[35m  5.425 ms\u001b[39m  \u001b[90m┊\u001b[39m GC \u001b[90m(\u001b[39mmin … max\u001b[90m): \u001b[39m 0.00% … 21.86%\n",
       " Time  \u001b[90m(\u001b[39m\u001b[34m\u001b[1mmedian\u001b[22m\u001b[39m\u001b[90m):     \u001b[39m\u001b[34m\u001b[1m1.427 ms               \u001b[22m\u001b[39m\u001b[90m┊\u001b[39m GC \u001b[90m(\u001b[39mmedian\u001b[90m):    \u001b[39m 0.00%\n",
       " Time  \u001b[90m(\u001b[39m\u001b[32m\u001b[1mmean\u001b[22m\u001b[39m ± \u001b[32mσ\u001b[39m\u001b[90m):   \u001b[39m\u001b[32m\u001b[1m1.605 ms\u001b[22m\u001b[39m ± \u001b[32m436.434 μs\u001b[39m  \u001b[90m┊\u001b[39m GC \u001b[90m(\u001b[39mmean ± σ\u001b[90m):  \u001b[39m10.21% ± 14.18%\n",
       "\n",
       "  \u001b[39m \u001b[39m \u001b[39m \u001b[39m \u001b[39m \u001b[39m \u001b[39m \u001b[39m▂\u001b[39m▆\u001b[39m█\u001b[39m█\u001b[39m▆\u001b[34m▃\u001b[39m\u001b[39m▁\u001b[39m \u001b[39m \u001b[39m \u001b[39m \u001b[32m \u001b[39m\u001b[39m \u001b[39m \u001b[39m \u001b[39m \u001b[39m \u001b[39m \u001b[39m \u001b[39m \u001b[39m \u001b[39m \u001b[39m \u001b[39m \u001b[39m \u001b[39m \u001b[39m \u001b[39m \u001b[39m \u001b[39m \u001b[39m \u001b[39m \u001b[39m \u001b[39m \u001b[39m \u001b[39m \u001b[39m \u001b[39m \u001b[39m \u001b[39m \u001b[39m \u001b[39m \u001b[39m \u001b[39m \u001b[39m \u001b[39m \u001b[39m \u001b[39m \u001b[39m \u001b[39m \u001b[39m \u001b[39m \u001b[39m \u001b[39m \n",
       "  \u001b[39m▂\u001b[39m▄\u001b[39m▆\u001b[39m▅\u001b[39m▄\u001b[39m▅\u001b[39m▇\u001b[39m█\u001b[39m█\u001b[39m█\u001b[39m█\u001b[39m█\u001b[34m█\u001b[39m\u001b[39m█\u001b[39m▆\u001b[39m▆\u001b[39m▅\u001b[39m▄\u001b[32m▃\u001b[39m\u001b[39m▃\u001b[39m▃\u001b[39m▂\u001b[39m▂\u001b[39m▂\u001b[39m▂\u001b[39m▂\u001b[39m▁\u001b[39m▂\u001b[39m▁\u001b[39m▂\u001b[39m▂\u001b[39m▂\u001b[39m▂\u001b[39m▂\u001b[39m▂\u001b[39m▂\u001b[39m▃\u001b[39m▃\u001b[39m▃\u001b[39m▄\u001b[39m▄\u001b[39m▄\u001b[39m▄\u001b[39m▃\u001b[39m▂\u001b[39m▂\u001b[39m▂\u001b[39m▂\u001b[39m▂\u001b[39m▂\u001b[39m▁\u001b[39m▂\u001b[39m▁\u001b[39m▁\u001b[39m▂\u001b[39m▁\u001b[39m▁\u001b[39m▁\u001b[39m▁\u001b[39m \u001b[39m▃\n",
       "  1.09 ms\u001b[90m         Histogram: frequency by time\u001b[39m        2.77 ms \u001b[0m\u001b[1m<\u001b[22m\n",
       "\n",
       " Memory estimate\u001b[90m: \u001b[39m\u001b[33m10.99 MiB\u001b[39m, allocs estimate\u001b[90m: \u001b[39m\u001b[33m87\u001b[39m."
      ]
     },
     "execution_count": 7,
     "metadata": {},
     "output_type": "execute_result"
    }
   ],
   "source": [
    "FFTW.set_num_threads(12)\n",
    "y = FFTW.plan_r2r(x, FFTW.DHT, [2])\n",
    "b5 = @benchmark $y*$x"
   ]
  },
  {
   "cell_type": "code",
   "execution_count": 8,
   "id": "d69200ca-ff58-41de-820d-43f2d21ce3f0",
   "metadata": {},
   "outputs": [
    {
     "data": {
      "text/plain": [
       "BenchmarkTools.Trial: 3327 samples with 1 evaluation.\n",
       " Range \u001b[90m(\u001b[39m\u001b[36m\u001b[1mmin\u001b[22m\u001b[39m … \u001b[35mmax\u001b[39m\u001b[90m):  \u001b[39m\u001b[36m\u001b[1m1.048 ms\u001b[22m\u001b[39m … \u001b[35m  3.315 ms\u001b[39m  \u001b[90m┊\u001b[39m GC \u001b[90m(\u001b[39mmin … max\u001b[90m): \u001b[39m 0.00% … 37.23%\n",
       " Time  \u001b[90m(\u001b[39m\u001b[34m\u001b[1mmedian\u001b[22m\u001b[39m\u001b[90m):     \u001b[39m\u001b[34m\u001b[1m1.324 ms               \u001b[22m\u001b[39m\u001b[90m┊\u001b[39m GC \u001b[90m(\u001b[39mmedian\u001b[90m):    \u001b[39m 0.00%\n",
       " Time  \u001b[90m(\u001b[39m\u001b[32m\u001b[1mmean\u001b[22m\u001b[39m ± \u001b[32mσ\u001b[39m\u001b[90m):   \u001b[39m\u001b[32m\u001b[1m1.490 ms\u001b[22m\u001b[39m ± \u001b[32m386.077 μs\u001b[39m  \u001b[90m┊\u001b[39m GC \u001b[90m(\u001b[39mmean ± σ\u001b[90m):  \u001b[39m10.65% ± 14.58%\n",
       "\n",
       "  \u001b[39m \u001b[39m \u001b[39m \u001b[39m▁\u001b[39m▃\u001b[39m▅\u001b[39m▆\u001b[39m█\u001b[39m▅\u001b[39m▆\u001b[39m▃\u001b[34m▂\u001b[39m\u001b[39m \u001b[39m \u001b[39m \u001b[39m \u001b[39m \u001b[32m \u001b[39m\u001b[39m \u001b[39m \u001b[39m \u001b[39m \u001b[39m \u001b[39m \u001b[39m \u001b[39m \u001b[39m \u001b[39m \u001b[39m \u001b[39m \u001b[39m \u001b[39m \u001b[39m \u001b[39m \u001b[39m \u001b[39m \u001b[39m \u001b[39m \u001b[39m \u001b[39m \u001b[39m \u001b[39m \u001b[39m \u001b[39m \u001b[39m \u001b[39m \u001b[39m \u001b[39m \u001b[39m \u001b[39m \u001b[39m \u001b[39m \u001b[39m \u001b[39m \u001b[39m \u001b[39m \u001b[39m \u001b[39m \u001b[39m \u001b[39m \u001b[39m \n",
       "  \u001b[39m▂\u001b[39m▂\u001b[39m▆\u001b[39m█\u001b[39m█\u001b[39m█\u001b[39m█\u001b[39m█\u001b[39m█\u001b[39m█\u001b[39m█\u001b[34m█\u001b[39m\u001b[39m█\u001b[39m█\u001b[39m▇\u001b[39m▇\u001b[39m▆\u001b[32m▅\u001b[39m\u001b[39m▄\u001b[39m▄\u001b[39m▄\u001b[39m▃\u001b[39m▃\u001b[39m▃\u001b[39m▂\u001b[39m▂\u001b[39m▂\u001b[39m▂\u001b[39m▂\u001b[39m▂\u001b[39m▁\u001b[39m▂\u001b[39m▂\u001b[39m▃\u001b[39m▃\u001b[39m▄\u001b[39m▅\u001b[39m▄\u001b[39m▄\u001b[39m▄\u001b[39m▄\u001b[39m▄\u001b[39m▄\u001b[39m▄\u001b[39m▄\u001b[39m▃\u001b[39m▃\u001b[39m▃\u001b[39m▃\u001b[39m▃\u001b[39m▃\u001b[39m▃\u001b[39m▂\u001b[39m▃\u001b[39m▂\u001b[39m▂\u001b[39m▂\u001b[39m▂\u001b[39m▂\u001b[39m \u001b[39m▄\n",
       "  1.05 ms\u001b[90m         Histogram: frequency by time\u001b[39m        2.59 ms \u001b[0m\u001b[1m<\u001b[22m\n",
       "\n",
       " Memory estimate\u001b[90m: \u001b[39m\u001b[33m11.00 MiB\u001b[39m, allocs estimate\u001b[90m: \u001b[39m\u001b[33m111\u001b[39m."
      ]
     },
     "execution_count": 8,
     "metadata": {},
     "output_type": "execute_result"
    }
   ],
   "source": [
    "FFTW.set_num_threads(16)\n",
    "y = FFTW.plan_r2r(x, FFTW.DHT, [2])\n",
    "b6 = @benchmark $y*$x"
   ]
  },
  {
   "cell_type": "markdown",
   "id": "9524eb07-c294-4ee4-92d0-23c38688eb8c",
   "metadata": {},
   "source": [
    "My laptop doesn't have more than 8 threads, so the last two benchmarks are kind of useless"
   ]
  },
  {
   "cell_type": "code",
   "execution_count": 9,
   "id": "1d73ecaa-0d72-4010-8ee8-36dfcf7f435e",
   "metadata": {},
   "outputs": [
    {
     "data": {
      "image/svg+xml": [
       "<?xml version=\"1.0\" encoding=\"utf-8\"?>\n",
       "<svg xmlns=\"http://www.w3.org/2000/svg\" xmlns:xlink=\"http://www.w3.org/1999/xlink\" width=\"600\" height=\"400\" viewBox=\"0 0 2400 1600\">\n",
       "<defs>\n",
       "  <clipPath id=\"clip260\">\n",
       "    <rect x=\"0\" y=\"0\" width=\"2400\" height=\"1600\"/>\n",
       "  </clipPath>\n",
       "</defs>\n",
       "<path clip-path=\"url(#clip260)\" d=\"M0 1600 L2400 1600 L2400 0 L0 0  Z\" fill=\"#ffffff\" fill-rule=\"evenodd\" fill-opacity=\"1\"/>\n",
       "<defs>\n",
       "  <clipPath id=\"clip261\">\n",
       "    <rect x=\"480\" y=\"0\" width=\"1681\" height=\"1600\"/>\n",
       "  </clipPath>\n",
       "</defs>\n",
       "<path clip-path=\"url(#clip260)\" d=\"M305.363 1486.45 L2352.76 1486.45 L2352.76 47.2441 L305.363 47.2441  Z\" fill=\"#ffffff\" fill-rule=\"evenodd\" fill-opacity=\"1\"/>\n",
       "<defs>\n",
       "  <clipPath id=\"clip262\">\n",
       "    <rect x=\"305\" y=\"47\" width=\"2048\" height=\"1440\"/>\n",
       "  </clipPath>\n",
       "</defs>\n",
       "<polyline clip-path=\"url(#clip262)\" style=\"stroke:#000000; stroke-linecap:round; stroke-linejoin:round; stroke-width:2; stroke-opacity:0.1; fill:none\" points=\"620.842,1486.45 620.842,47.2441 \"/>\n",
       "<polyline clip-path=\"url(#clip262)\" style=\"stroke:#000000; stroke-linecap:round; stroke-linejoin:round; stroke-width:2; stroke-opacity:0.1; fill:none\" points=\"1007.14,1486.45 1007.14,47.2441 \"/>\n",
       "<polyline clip-path=\"url(#clip262)\" style=\"stroke:#000000; stroke-linecap:round; stroke-linejoin:round; stroke-width:2; stroke-opacity:0.1; fill:none\" points=\"1393.44,1486.45 1393.44,47.2441 \"/>\n",
       "<polyline clip-path=\"url(#clip262)\" style=\"stroke:#000000; stroke-linecap:round; stroke-linejoin:round; stroke-width:2; stroke-opacity:0.1; fill:none\" points=\"1779.74,1486.45 1779.74,47.2441 \"/>\n",
       "<polyline clip-path=\"url(#clip262)\" style=\"stroke:#000000; stroke-linecap:round; stroke-linejoin:round; stroke-width:2; stroke-opacity:0.1; fill:none\" points=\"2166.04,1486.45 2166.04,47.2441 \"/>\n",
       "<polyline clip-path=\"url(#clip260)\" style=\"stroke:#000000; stroke-linecap:round; stroke-linejoin:round; stroke-width:4; stroke-opacity:1; fill:none\" points=\"305.363,1486.45 2352.76,1486.45 \"/>\n",
       "<polyline clip-path=\"url(#clip260)\" style=\"stroke:#000000; stroke-linecap:round; stroke-linejoin:round; stroke-width:4; stroke-opacity:1; fill:none\" points=\"620.842,1486.45 620.842,1467.55 \"/>\n",
       "<polyline clip-path=\"url(#clip260)\" style=\"stroke:#000000; stroke-linecap:round; stroke-linejoin:round; stroke-width:4; stroke-opacity:1; fill:none\" points=\"1007.14,1486.45 1007.14,1467.55 \"/>\n",
       "<polyline clip-path=\"url(#clip260)\" style=\"stroke:#000000; stroke-linecap:round; stroke-linejoin:round; stroke-width:4; stroke-opacity:1; fill:none\" points=\"1393.44,1486.45 1393.44,1467.55 \"/>\n",
       "<polyline clip-path=\"url(#clip260)\" style=\"stroke:#000000; stroke-linecap:round; stroke-linejoin:round; stroke-width:4; stroke-opacity:1; fill:none\" points=\"1779.74,1486.45 1779.74,1467.55 \"/>\n",
       "<polyline clip-path=\"url(#clip260)\" style=\"stroke:#000000; stroke-linecap:round; stroke-linejoin:round; stroke-width:4; stroke-opacity:1; fill:none\" points=\"2166.04,1486.45 2166.04,1467.55 \"/>\n",
       "<path clip-path=\"url(#clip260)\" d=\"M625.09 1530.21 Q628.446 1530.93 630.321 1533.2 Q632.219 1535.47 632.219 1538.8 Q632.219 1543.92 628.701 1546.72 Q625.182 1549.52 618.701 1549.52 Q616.525 1549.52 614.21 1549.08 Q611.919 1548.66 609.465 1547.81 L609.465 1543.29 Q611.409 1544.43 613.724 1545.01 Q616.039 1545.58 618.562 1545.58 Q622.96 1545.58 625.252 1543.85 Q627.567 1542.11 627.567 1538.8 Q627.567 1535.75 625.414 1534.03 Q623.284 1532.3 619.465 1532.3 L615.437 1532.3 L615.437 1528.45 L619.65 1528.45 Q623.099 1528.45 624.928 1527.09 Q626.756 1525.7 626.756 1523.11 Q626.756 1520.45 624.858 1519.03 Q622.983 1517.6 619.465 1517.6 Q617.543 1517.6 615.344 1518.01 Q613.145 1518.43 610.506 1519.31 L610.506 1515.14 Q613.169 1514.4 615.483 1514.03 Q617.821 1513.66 619.881 1513.66 Q625.205 1513.66 628.307 1516.09 Q631.409 1518.5 631.409 1522.62 Q631.409 1525.49 629.766 1527.48 Q628.122 1529.45 625.09 1530.21 Z\" fill=\"#000000\" fill-rule=\"nonzero\" fill-opacity=\"1\" /><path clip-path=\"url(#clip260)\" d=\"M1007.55 1529.7 Q1004.4 1529.7 1002.55 1531.86 Q1000.72 1534.01 1000.72 1537.76 Q1000.72 1541.49 1002.55 1543.66 Q1004.4 1545.82 1007.55 1545.82 Q1010.7 1545.82 1012.52 1543.66 Q1014.38 1541.49 1014.38 1537.76 Q1014.38 1534.01 1012.52 1531.86 Q1010.7 1529.7 1007.55 1529.7 M1016.83 1515.05 L1016.83 1519.31 Q1015.07 1518.48 1013.27 1518.04 Q1011.48 1517.6 1009.72 1517.6 Q1005.09 1517.6 1002.64 1520.72 Q1000.21 1523.85 999.863 1530.17 Q1001.23 1528.15 1003.29 1527.09 Q1005.35 1526 1007.83 1526 Q1013.03 1526 1016.04 1529.17 Q1019.08 1532.32 1019.08 1537.76 Q1019.08 1543.08 1015.93 1546.3 Q1012.78 1549.52 1007.55 1549.52 Q1001.55 1549.52 998.381 1544.94 Q995.21 1540.33 995.21 1531.6 Q995.21 1523.41 999.099 1518.55 Q1002.99 1513.66 1009.54 1513.66 Q1011.3 1513.66 1013.08 1514.01 Q1014.89 1514.36 1016.83 1515.05 Z\" fill=\"#000000\" fill-rule=\"nonzero\" fill-opacity=\"1\" /><path clip-path=\"url(#clip260)\" d=\"M1383.74 1548.13 L1383.74 1543.87 Q1385.5 1544.7 1387.31 1545.14 Q1389.11 1545.58 1390.85 1545.58 Q1395.48 1545.58 1397.91 1542.48 Q1400.36 1539.36 1400.71 1533.01 Q1399.37 1535.01 1397.31 1536.07 Q1395.25 1537.13 1392.75 1537.13 Q1387.56 1537.13 1384.53 1534.01 Q1381.52 1530.86 1381.52 1525.42 Q1381.52 1520.1 1384.67 1516.88 Q1387.82 1513.66 1393.05 1513.66 Q1399.04 1513.66 1402.19 1518.27 Q1405.36 1522.85 1405.36 1531.6 Q1405.36 1539.77 1401.48 1544.66 Q1397.61 1549.52 1391.06 1549.52 Q1389.3 1549.52 1387.49 1549.17 Q1385.69 1548.82 1383.74 1548.13 M1393.05 1533.48 Q1396.2 1533.48 1398.03 1531.32 Q1399.88 1529.17 1399.88 1525.42 Q1399.88 1521.7 1398.03 1519.54 Q1396.2 1517.37 1393.05 1517.37 Q1389.9 1517.37 1388.05 1519.54 Q1386.22 1521.7 1386.22 1525.42 Q1386.22 1529.17 1388.05 1531.32 Q1389.9 1533.48 1393.05 1533.48 Z\" fill=\"#000000\" fill-rule=\"nonzero\" fill-opacity=\"1\" /><path clip-path=\"url(#clip260)\" d=\"M1755.23 1544.91 L1762.87 1544.91 L1762.87 1518.55 L1754.56 1520.21 L1754.56 1515.95 L1762.82 1514.29 L1767.5 1514.29 L1767.5 1544.91 L1775.14 1544.91 L1775.14 1548.85 L1755.23 1548.85 L1755.23 1544.91 Z\" fill=\"#000000\" fill-rule=\"nonzero\" fill-opacity=\"1\" /><path clip-path=\"url(#clip260)\" d=\"M1788.61 1544.91 L1804.93 1544.91 L1804.93 1548.85 L1782.98 1548.85 L1782.98 1544.91 Q1785.65 1542.16 1790.23 1537.53 Q1794.84 1532.88 1796.02 1531.53 Q1798.26 1529.01 1799.14 1527.27 Q1800.04 1525.51 1800.04 1523.82 Q1800.04 1521.07 1798.1 1519.33 Q1796.18 1517.6 1793.08 1517.6 Q1790.88 1517.6 1788.42 1518.36 Q1785.99 1519.13 1783.22 1520.68 L1783.22 1515.95 Q1786.04 1514.82 1788.49 1514.24 Q1790.95 1513.66 1792.98 1513.66 Q1798.35 1513.66 1801.55 1516.35 Q1804.74 1519.03 1804.74 1523.52 Q1804.74 1525.65 1803.93 1527.57 Q1803.15 1529.47 1801.04 1532.07 Q1800.46 1532.74 1797.36 1535.95 Q1794.26 1539.15 1788.61 1544.91 Z\" fill=\"#000000\" fill-rule=\"nonzero\" fill-opacity=\"1\" /><path clip-path=\"url(#clip260)\" d=\"M2141.23 1544.91 L2148.87 1544.91 L2148.87 1518.55 L2140.56 1520.21 L2140.56 1515.95 L2148.82 1514.29 L2153.5 1514.29 L2153.5 1544.91 L2161.14 1544.91 L2161.14 1548.85 L2141.23 1548.85 L2141.23 1544.91 Z\" fill=\"#000000\" fill-rule=\"nonzero\" fill-opacity=\"1\" /><path clip-path=\"url(#clip260)\" d=\"M2170.63 1514.29 L2188.98 1514.29 L2188.98 1518.22 L2174.91 1518.22 L2174.91 1526.7 Q2175.93 1526.35 2176.95 1526.19 Q2177.97 1526 2178.98 1526 Q2184.77 1526 2188.15 1529.17 Q2191.53 1532.34 2191.53 1537.76 Q2191.53 1543.34 2188.06 1546.44 Q2184.59 1549.52 2178.27 1549.52 Q2176.09 1549.52 2173.82 1549.15 Q2171.58 1548.78 2169.17 1548.04 L2169.17 1543.34 Q2171.25 1544.47 2173.47 1545.03 Q2175.7 1545.58 2178.17 1545.58 Q2182.18 1545.58 2184.52 1543.48 Q2186.85 1541.37 2186.85 1537.76 Q2186.85 1534.15 2184.52 1532.04 Q2182.18 1529.94 2178.17 1529.94 Q2176.3 1529.94 2174.42 1530.35 Q2172.57 1530.77 2170.63 1531.65 L2170.63 1514.29 Z\" fill=\"#000000\" fill-rule=\"nonzero\" fill-opacity=\"1\" /><polyline clip-path=\"url(#clip262)\" style=\"stroke:#000000; stroke-linecap:round; stroke-linejoin:round; stroke-width:2; stroke-opacity:0.1; fill:none\" points=\"305.363,1439.86 2352.76,1439.86 \"/>\n",
       "<polyline clip-path=\"url(#clip262)\" style=\"stroke:#000000; stroke-linecap:round; stroke-linejoin:round; stroke-width:2; stroke-opacity:0.1; fill:none\" points=\"305.363,1152.38 2352.76,1152.38 \"/>\n",
       "<polyline clip-path=\"url(#clip262)\" style=\"stroke:#000000; stroke-linecap:round; stroke-linejoin:round; stroke-width:2; stroke-opacity:0.1; fill:none\" points=\"305.363,864.909 2352.76,864.909 \"/>\n",
       "<polyline clip-path=\"url(#clip262)\" style=\"stroke:#000000; stroke-linecap:round; stroke-linejoin:round; stroke-width:2; stroke-opacity:0.1; fill:none\" points=\"305.363,577.435 2352.76,577.435 \"/>\n",
       "<polyline clip-path=\"url(#clip262)\" style=\"stroke:#000000; stroke-linecap:round; stroke-linejoin:round; stroke-width:2; stroke-opacity:0.1; fill:none\" points=\"305.363,289.962 2352.76,289.962 \"/>\n",
       "<polyline clip-path=\"url(#clip260)\" style=\"stroke:#000000; stroke-linecap:round; stroke-linejoin:round; stroke-width:4; stroke-opacity:1; fill:none\" points=\"305.363,1486.45 305.363,47.2441 \"/>\n",
       "<polyline clip-path=\"url(#clip260)\" style=\"stroke:#000000; stroke-linecap:round; stroke-linejoin:round; stroke-width:4; stroke-opacity:1; fill:none\" points=\"305.363,1439.86 324.261,1439.86 \"/>\n",
       "<polyline clip-path=\"url(#clip260)\" style=\"stroke:#000000; stroke-linecap:round; stroke-linejoin:round; stroke-width:4; stroke-opacity:1; fill:none\" points=\"305.363,1152.38 324.261,1152.38 \"/>\n",
       "<polyline clip-path=\"url(#clip260)\" style=\"stroke:#000000; stroke-linecap:round; stroke-linejoin:round; stroke-width:4; stroke-opacity:1; fill:none\" points=\"305.363,864.909 324.261,864.909 \"/>\n",
       "<polyline clip-path=\"url(#clip260)\" style=\"stroke:#000000; stroke-linecap:round; stroke-linejoin:round; stroke-width:4; stroke-opacity:1; fill:none\" points=\"305.363,577.435 324.261,577.435 \"/>\n",
       "<polyline clip-path=\"url(#clip260)\" style=\"stroke:#000000; stroke-linecap:round; stroke-linejoin:round; stroke-width:4; stroke-opacity:1; fill:none\" points=\"305.363,289.962 324.261,289.962 \"/>\n",
       "<path clip-path=\"url(#clip260)\" d=\"M53.3995 1459.65 L61.0384 1459.65 L61.0384 1433.28 L52.7282 1434.95 L52.7282 1430.69 L60.9921 1429.02 L65.668 1429.02 L65.668 1459.65 L73.3068 1459.65 L73.3068 1463.58 L53.3995 1463.58 L53.3995 1459.65 Z\" fill=\"#000000\" fill-rule=\"nonzero\" fill-opacity=\"1\" /><path clip-path=\"url(#clip260)\" d=\"M82.7512 1457.7 L87.6354 1457.7 L87.6354 1463.58 L82.7512 1463.58 L82.7512 1457.7 Z\" fill=\"#000000\" fill-rule=\"nonzero\" fill-opacity=\"1\" /><path clip-path=\"url(#clip260)\" d=\"M97.8669 1429.02 L116.223 1429.02 L116.223 1432.96 L102.149 1432.96 L102.149 1441.43 Q103.168 1441.08 104.186 1440.92 Q105.205 1440.74 106.223 1440.74 Q112.01 1440.74 115.39 1443.91 Q118.77 1447.08 118.77 1452.5 Q118.77 1458.07 115.297 1461.18 Q111.825 1464.26 105.506 1464.26 Q103.33 1464.26 101.061 1463.88 Q98.8159 1463.51 96.4085 1462.77 L96.4085 1458.07 Q98.4919 1459.21 100.714 1459.76 Q102.936 1460.32 105.413 1460.32 Q109.418 1460.32 111.756 1458.21 Q114.094 1456.11 114.094 1452.5 Q114.094 1448.88 111.756 1446.78 Q109.418 1444.67 105.413 1444.67 Q103.538 1444.67 101.663 1445.09 Q99.8113 1445.51 97.8669 1446.38 L97.8669 1429.02 Z\" fill=\"#000000\" fill-rule=\"nonzero\" fill-opacity=\"1\" /><path clip-path=\"url(#clip260)\" d=\"M137.982 1432.1 Q134.371 1432.1 132.543 1435.67 Q130.737 1439.21 130.737 1446.34 Q130.737 1453.44 132.543 1457.01 Q134.371 1460.55 137.982 1460.55 Q141.617 1460.55 143.422 1457.01 Q145.251 1453.44 145.251 1446.34 Q145.251 1439.21 143.422 1435.67 Q141.617 1432.1 137.982 1432.1 M137.982 1428.4 Q143.793 1428.4 146.848 1433.01 Q149.927 1437.59 149.927 1446.34 Q149.927 1455.07 146.848 1459.67 Q143.793 1464.26 137.982 1464.26 Q132.172 1464.26 129.094 1459.67 Q126.038 1455.07 126.038 1446.34 Q126.038 1437.59 129.094 1433.01 Q132.172 1428.4 137.982 1428.4 Z\" fill=\"#000000\" fill-rule=\"nonzero\" fill-opacity=\"1\" /><path clip-path=\"url(#clip260)\" d=\"M186.315 1438.12 L175.737 1448.75 L186.315 1459.32 L183.561 1462.13 L172.936 1451.5 L162.311 1462.13 L159.58 1459.32 L170.135 1448.75 L159.58 1438.12 L162.311 1435.32 L172.936 1445.94 L183.561 1435.32 L186.315 1438.12 Z\" fill=\"#000000\" fill-rule=\"nonzero\" fill-opacity=\"1\" /><path clip-path=\"url(#clip260)\" d=\"M198.677 1459.65 L206.315 1459.65 L206.315 1433.28 L198.005 1434.95 L198.005 1430.69 L206.269 1429.02 L210.945 1429.02 L210.945 1459.65 L218.584 1459.65 L218.584 1463.58 L198.677 1463.58 L198.677 1459.65 Z\" fill=\"#000000\" fill-rule=\"nonzero\" fill-opacity=\"1\" /><path clip-path=\"url(#clip260)\" d=\"M238.028 1432.1 Q234.417 1432.1 232.588 1435.67 Q230.783 1439.21 230.783 1446.34 Q230.783 1453.44 232.588 1457.01 Q234.417 1460.55 238.028 1460.55 Q241.662 1460.55 243.468 1457.01 Q245.297 1453.44 245.297 1446.34 Q245.297 1439.21 243.468 1435.67 Q241.662 1432.1 238.028 1432.1 M238.028 1428.4 Q243.838 1428.4 246.894 1433.01 Q249.973 1437.59 249.973 1446.34 Q249.973 1455.07 246.894 1459.67 Q243.838 1464.26 238.028 1464.26 Q232.218 1464.26 229.139 1459.67 Q226.084 1455.07 226.084 1446.34 Q226.084 1437.59 229.139 1433.01 Q232.218 1428.4 238.028 1428.4 Z\" fill=\"#000000\" fill-rule=\"nonzero\" fill-opacity=\"1\" /><path clip-path=\"url(#clip260)\" d=\"M259.997 1420.62 Q257.439 1420.62 255.935 1422.37 Q254.449 1424.12 254.449 1427.16 Q254.449 1430.19 255.935 1431.96 Q257.439 1433.71 259.997 1433.71 Q262.555 1433.71 264.041 1431.96 Q265.545 1430.19 265.545 1427.16 Q265.545 1424.12 264.041 1422.37 Q262.555 1420.62 259.997 1420.62 M267.539 1408.71 L267.539 1412.17 Q266.11 1411.5 264.643 1411.14 Q263.194 1410.78 261.765 1410.78 Q258.003 1410.78 256.01 1413.32 Q254.035 1415.86 253.753 1421 Q254.863 1419.36 256.536 1418.49 Q258.21 1417.61 260.223 1417.61 Q264.455 1417.61 266.9 1420.19 Q269.363 1422.74 269.363 1427.16 Q269.363 1431.49 266.805 1434.1 Q264.248 1436.72 259.997 1436.72 Q255.126 1436.72 252.549 1432.99 Q249.973 1429.25 249.973 1422.16 Q249.973 1415.5 253.132 1411.55 Q256.292 1407.59 261.615 1407.59 Q263.044 1407.59 264.492 1407.87 Q265.959 1408.15 267.539 1408.71 Z\" fill=\"#000000\" fill-rule=\"nonzero\" fill-opacity=\"1\" /><path clip-path=\"url(#clip260)\" d=\"M56.6171 1172.17 L72.9365 1172.17 L72.9365 1176.11 L50.9921 1176.11 L50.9921 1172.17 Q53.6541 1169.42 58.2375 1164.79 Q62.8439 1160.14 64.0245 1158.8 Q66.2698 1156.27 67.1494 1154.54 Q68.0522 1152.78 68.0522 1151.09 Q68.0522 1148.33 66.1078 1146.6 Q64.1865 1144.86 61.0847 1144.86 Q58.8856 1144.86 56.4319 1145.62 Q54.0014 1146.39 51.2236 1147.94 L51.2236 1143.22 Q54.0477 1142.08 56.5014 1141.5 Q58.955 1140.93 60.9921 1140.93 Q66.3624 1140.93 69.5568 1143.61 Q72.7513 1146.3 72.7513 1150.79 Q72.7513 1152.92 71.9411 1154.84 Q71.1541 1156.74 69.0476 1159.33 Q68.4689 1160 65.367 1163.22 Q62.2652 1166.41 56.6171 1172.17 Z\" fill=\"#000000\" fill-rule=\"nonzero\" fill-opacity=\"1\" /><path clip-path=\"url(#clip260)\" d=\"M82.7512 1170.23 L87.6354 1170.23 L87.6354 1176.11 L82.7512 1176.11 L82.7512 1170.23 Z\" fill=\"#000000\" fill-rule=\"nonzero\" fill-opacity=\"1\" /><path clip-path=\"url(#clip260)\" d=\"M107.821 1144.63 Q104.209 1144.63 102.381 1148.19 Q100.575 1151.74 100.575 1158.86 Q100.575 1165.97 102.381 1169.54 Q104.209 1173.08 107.821 1173.08 Q111.455 1173.08 113.26 1169.54 Q115.089 1165.97 115.089 1158.86 Q115.089 1151.74 113.26 1148.19 Q111.455 1144.63 107.821 1144.63 M107.821 1140.93 Q113.631 1140.93 116.686 1145.53 Q119.765 1150.11 119.765 1158.86 Q119.765 1167.59 116.686 1172.2 Q113.631 1176.78 107.821 1176.78 Q102.01 1176.78 98.9317 1172.2 Q95.8761 1167.59 95.8761 1158.86 Q95.8761 1150.11 98.9317 1145.53 Q102.01 1140.93 107.821 1140.93 Z\" fill=\"#000000\" fill-rule=\"nonzero\" fill-opacity=\"1\" /><path clip-path=\"url(#clip260)\" d=\"M137.982 1144.63 Q134.371 1144.63 132.543 1148.19 Q130.737 1151.74 130.737 1158.86 Q130.737 1165.97 132.543 1169.54 Q134.371 1173.08 137.982 1173.08 Q141.617 1173.08 143.422 1169.54 Q145.251 1165.97 145.251 1158.86 Q145.251 1151.74 143.422 1148.19 Q141.617 1144.63 137.982 1144.63 M137.982 1140.93 Q143.793 1140.93 146.848 1145.53 Q149.927 1150.11 149.927 1158.86 Q149.927 1167.59 146.848 1172.2 Q143.793 1176.78 137.982 1176.78 Q132.172 1176.78 129.094 1172.2 Q126.038 1167.59 126.038 1158.86 Q126.038 1150.11 129.094 1145.53 Q132.172 1140.93 137.982 1140.93 Z\" fill=\"#000000\" fill-rule=\"nonzero\" fill-opacity=\"1\" /><path clip-path=\"url(#clip260)\" d=\"M186.315 1150.65 L175.737 1161.27 L186.315 1171.85 L183.561 1174.65 L172.936 1164.03 L162.311 1174.65 L159.58 1171.85 L170.135 1161.27 L159.58 1150.65 L162.311 1147.85 L172.936 1158.47 L183.561 1147.85 L186.315 1150.65 Z\" fill=\"#000000\" fill-rule=\"nonzero\" fill-opacity=\"1\" /><path clip-path=\"url(#clip260)\" d=\"M198.677 1172.17 L206.315 1172.17 L206.315 1145.81 L198.005 1147.48 L198.005 1143.22 L206.269 1141.55 L210.945 1141.55 L210.945 1172.17 L218.584 1172.17 L218.584 1176.11 L198.677 1176.11 L198.677 1172.17 Z\" fill=\"#000000\" fill-rule=\"nonzero\" fill-opacity=\"1\" /><path clip-path=\"url(#clip260)\" d=\"M238.028 1144.63 Q234.417 1144.63 232.588 1148.19 Q230.783 1151.74 230.783 1158.86 Q230.783 1165.97 232.588 1169.54 Q234.417 1173.08 238.028 1173.08 Q241.662 1173.08 243.468 1169.54 Q245.297 1165.97 245.297 1158.86 Q245.297 1151.74 243.468 1148.19 Q241.662 1144.63 238.028 1144.63 M238.028 1140.93 Q243.838 1140.93 246.894 1145.53 Q249.973 1150.11 249.973 1158.86 Q249.973 1167.59 246.894 1172.2 Q243.838 1176.78 238.028 1176.78 Q232.218 1176.78 229.139 1172.2 Q226.084 1167.59 226.084 1158.86 Q226.084 1150.11 229.139 1145.53 Q232.218 1140.93 238.028 1140.93 Z\" fill=\"#000000\" fill-rule=\"nonzero\" fill-opacity=\"1\" /><path clip-path=\"url(#clip260)\" d=\"M259.997 1133.15 Q257.439 1133.15 255.935 1134.89 Q254.449 1136.64 254.449 1139.69 Q254.449 1142.72 255.935 1144.49 Q257.439 1146.24 259.997 1146.24 Q262.555 1146.24 264.041 1144.49 Q265.545 1142.72 265.545 1139.69 Q265.545 1136.64 264.041 1134.89 Q262.555 1133.15 259.997 1133.15 M267.539 1121.24 L267.539 1124.7 Q266.11 1124.02 264.643 1123.67 Q263.194 1123.31 261.765 1123.31 Q258.003 1123.31 256.01 1125.85 Q254.035 1128.39 253.753 1133.52 Q254.863 1131.89 256.536 1131.02 Q258.21 1130.14 260.223 1130.14 Q264.455 1130.14 266.9 1132.71 Q269.363 1135.27 269.363 1139.69 Q269.363 1144.02 266.805 1146.63 Q264.248 1149.25 259.997 1149.25 Q255.126 1149.25 252.549 1145.52 Q249.973 1141.78 249.973 1134.69 Q249.973 1128.03 253.132 1124.08 Q256.292 1120.11 261.615 1120.11 Q263.044 1120.11 264.492 1120.39 Q265.959 1120.68 267.539 1121.24 Z\" fill=\"#000000\" fill-rule=\"nonzero\" fill-opacity=\"1\" /><path clip-path=\"url(#clip260)\" d=\"M56.6171 884.701 L72.9365 884.701 L72.9365 888.637 L50.9921 888.637 L50.9921 884.701 Q53.6541 881.947 58.2375 877.317 Q62.8439 872.664 64.0245 871.322 Q66.2698 868.799 67.1494 867.063 Q68.0522 865.303 68.0522 863.614 Q68.0522 860.859 66.1078 859.123 Q64.1865 857.387 61.0847 857.387 Q58.8856 857.387 56.4319 858.151 Q54.0014 858.914 51.2236 860.465 L51.2236 855.743 Q54.0477 854.609 56.5014 854.03 Q58.955 853.452 60.9921 853.452 Q66.3624 853.452 69.5568 856.137 Q72.7513 858.822 72.7513 863.313 Q72.7513 865.442 71.9411 867.364 Q71.1541 869.262 69.0476 871.854 Q68.4689 872.526 65.367 875.743 Q62.2652 878.938 56.6171 884.701 Z\" fill=\"#000000\" fill-rule=\"nonzero\" fill-opacity=\"1\" /><path clip-path=\"url(#clip260)\" d=\"M82.7512 882.757 L87.6354 882.757 L87.6354 888.637 L82.7512 888.637 L82.7512 882.757 Z\" fill=\"#000000\" fill-rule=\"nonzero\" fill-opacity=\"1\" /><path clip-path=\"url(#clip260)\" d=\"M97.8669 854.077 L116.223 854.077 L116.223 858.012 L102.149 858.012 L102.149 866.484 Q103.168 866.137 104.186 865.975 Q105.205 865.789 106.223 865.789 Q112.01 865.789 115.39 868.961 Q118.77 872.132 118.77 877.549 Q118.77 883.127 115.297 886.229 Q111.825 889.308 105.506 889.308 Q103.33 889.308 101.061 888.937 Q98.8159 888.567 96.4085 887.826 L96.4085 883.127 Q98.4919 884.262 100.714 884.817 Q102.936 885.373 105.413 885.373 Q109.418 885.373 111.756 883.266 Q114.094 881.16 114.094 877.549 Q114.094 873.938 111.756 871.831 Q109.418 869.725 105.413 869.725 Q103.538 869.725 101.663 870.141 Q99.8113 870.558 97.8669 871.438 L97.8669 854.077 Z\" fill=\"#000000\" fill-rule=\"nonzero\" fill-opacity=\"1\" /><path clip-path=\"url(#clip260)\" d=\"M137.982 857.155 Q134.371 857.155 132.543 860.72 Q130.737 864.262 130.737 871.391 Q130.737 878.498 132.543 882.063 Q134.371 885.604 137.982 885.604 Q141.617 885.604 143.422 882.063 Q145.251 878.498 145.251 871.391 Q145.251 864.262 143.422 860.72 Q141.617 857.155 137.982 857.155 M137.982 853.452 Q143.793 853.452 146.848 858.058 Q149.927 862.641 149.927 871.391 Q149.927 880.118 146.848 884.725 Q143.793 889.308 137.982 889.308 Q132.172 889.308 129.094 884.725 Q126.038 880.118 126.038 871.391 Q126.038 862.641 129.094 858.058 Q132.172 853.452 137.982 853.452 Z\" fill=\"#000000\" fill-rule=\"nonzero\" fill-opacity=\"1\" /><path clip-path=\"url(#clip260)\" d=\"M186.315 863.174 L175.737 873.799 L186.315 884.377 L183.561 887.178 L172.936 876.553 L162.311 887.178 L159.58 884.377 L170.135 873.799 L159.58 863.174 L162.311 860.373 L172.936 870.998 L183.561 860.373 L186.315 863.174 Z\" fill=\"#000000\" fill-rule=\"nonzero\" fill-opacity=\"1\" /><path clip-path=\"url(#clip260)\" d=\"M198.677 884.701 L206.315 884.701 L206.315 858.336 L198.005 860.002 L198.005 855.743 L206.269 854.077 L210.945 854.077 L210.945 884.701 L218.584 884.701 L218.584 888.637 L198.677 888.637 L198.677 884.701 Z\" fill=\"#000000\" fill-rule=\"nonzero\" fill-opacity=\"1\" /><path clip-path=\"url(#clip260)\" d=\"M238.028 857.155 Q234.417 857.155 232.588 860.72 Q230.783 864.262 230.783 871.391 Q230.783 878.498 232.588 882.063 Q234.417 885.604 238.028 885.604 Q241.662 885.604 243.468 882.063 Q245.297 878.498 245.297 871.391 Q245.297 864.262 243.468 860.72 Q241.662 857.155 238.028 857.155 M238.028 853.452 Q243.838 853.452 246.894 858.058 Q249.973 862.641 249.973 871.391 Q249.973 880.118 246.894 884.725 Q243.838 889.308 238.028 889.308 Q232.218 889.308 229.139 884.725 Q226.084 880.118 226.084 871.391 Q226.084 862.641 229.139 858.058 Q232.218 853.452 238.028 853.452 Z\" fill=\"#000000\" fill-rule=\"nonzero\" fill-opacity=\"1\" /><path clip-path=\"url(#clip260)\" d=\"M259.997 845.672 Q257.439 845.672 255.935 847.421 Q254.449 849.17 254.449 852.217 Q254.449 855.245 255.935 857.013 Q257.439 858.762 259.997 858.762 Q262.555 858.762 264.041 857.013 Q265.545 855.245 265.545 852.217 Q265.545 849.17 264.041 847.421 Q262.555 845.672 259.997 845.672 M267.539 833.767 L267.539 837.227 Q266.11 836.55 264.643 836.193 Q263.194 835.836 261.765 835.836 Q258.003 835.836 256.01 838.375 Q254.035 840.914 253.753 846.048 Q254.863 844.412 256.536 843.547 Q258.21 842.663 260.223 842.663 Q264.455 842.663 266.9 845.24 Q269.363 847.797 269.363 852.217 Q269.363 856.543 266.805 859.157 Q264.248 861.772 259.997 861.772 Q255.126 861.772 252.549 858.048 Q249.973 854.305 249.973 847.214 Q249.973 840.556 253.132 836.607 Q256.292 832.638 261.615 832.638 Q263.044 832.638 264.492 832.92 Q265.959 833.203 267.539 833.767 Z\" fill=\"#000000\" fill-rule=\"nonzero\" fill-opacity=\"1\" /><path clip-path=\"url(#clip260)\" d=\"M66.7559 582.529 Q70.1124 583.246 71.9874 585.515 Q73.8855 587.783 73.8855 591.117 Q73.8855 596.232 70.367 599.033 Q66.8485 601.834 60.3671 601.834 Q58.1912 601.834 55.8764 601.394 Q53.5847 600.978 51.131 600.121 L51.131 595.607 Q53.0754 596.742 55.3903 597.32 Q57.7051 597.899 60.2282 597.899 Q64.6263 597.899 66.918 596.163 Q69.2328 594.427 69.2328 591.117 Q69.2328 588.061 67.08 586.348 Q64.9504 584.612 61.131 584.612 L57.1032 584.612 L57.1032 580.77 L61.3161 580.77 Q64.7652 580.77 66.5939 579.404 Q68.4226 578.015 68.4226 575.422 Q68.4226 572.76 66.5245 571.348 Q64.6495 569.913 61.131 569.913 Q59.2097 569.913 57.0106 570.33 Q54.8115 570.746 52.1727 571.626 L52.1727 567.459 Q54.8347 566.719 57.1495 566.348 Q59.4875 565.978 61.5476 565.978 Q66.8717 565.978 69.9735 568.408 Q73.0753 570.816 73.0753 574.936 Q73.0753 577.807 71.4318 579.797 Q69.7883 581.765 66.7559 582.529 Z\" fill=\"#000000\" fill-rule=\"nonzero\" fill-opacity=\"1\" /><path clip-path=\"url(#clip260)\" d=\"M82.7512 595.283 L87.6354 595.283 L87.6354 601.163 L82.7512 601.163 L82.7512 595.283 Z\" fill=\"#000000\" fill-rule=\"nonzero\" fill-opacity=\"1\" /><path clip-path=\"url(#clip260)\" d=\"M107.821 569.682 Q104.209 569.682 102.381 573.246 Q100.575 576.788 100.575 583.918 Q100.575 591.024 102.381 594.589 Q104.209 598.131 107.821 598.131 Q111.455 598.131 113.26 594.589 Q115.089 591.024 115.089 583.918 Q115.089 576.788 113.26 573.246 Q111.455 569.682 107.821 569.682 M107.821 565.978 Q113.631 565.978 116.686 570.584 Q119.765 575.168 119.765 583.918 Q119.765 592.644 116.686 597.251 Q113.631 601.834 107.821 601.834 Q102.01 601.834 98.9317 597.251 Q95.8761 592.644 95.8761 583.918 Q95.8761 575.168 98.9317 570.584 Q102.01 565.978 107.821 565.978 Z\" fill=\"#000000\" fill-rule=\"nonzero\" fill-opacity=\"1\" /><path clip-path=\"url(#clip260)\" d=\"M137.982 569.682 Q134.371 569.682 132.543 573.246 Q130.737 576.788 130.737 583.918 Q130.737 591.024 132.543 594.589 Q134.371 598.131 137.982 598.131 Q141.617 598.131 143.422 594.589 Q145.251 591.024 145.251 583.918 Q145.251 576.788 143.422 573.246 Q141.617 569.682 137.982 569.682 M137.982 565.978 Q143.793 565.978 146.848 570.584 Q149.927 575.168 149.927 583.918 Q149.927 592.644 146.848 597.251 Q143.793 601.834 137.982 601.834 Q132.172 601.834 129.094 597.251 Q126.038 592.644 126.038 583.918 Q126.038 575.168 129.094 570.584 Q132.172 565.978 137.982 565.978 Z\" fill=\"#000000\" fill-rule=\"nonzero\" fill-opacity=\"1\" /><path clip-path=\"url(#clip260)\" d=\"M186.315 575.7 L175.737 586.325 L186.315 596.904 L183.561 599.705 L172.936 589.08 L162.311 599.705 L159.58 596.904 L170.135 586.325 L159.58 575.7 L162.311 572.899 L172.936 583.524 L183.561 572.899 L186.315 575.7 Z\" fill=\"#000000\" fill-rule=\"nonzero\" fill-opacity=\"1\" /><path clip-path=\"url(#clip260)\" d=\"M198.677 597.228 L206.315 597.228 L206.315 570.862 L198.005 572.529 L198.005 568.27 L206.269 566.603 L210.945 566.603 L210.945 597.228 L218.584 597.228 L218.584 601.163 L198.677 601.163 L198.677 597.228 Z\" fill=\"#000000\" fill-rule=\"nonzero\" fill-opacity=\"1\" /><path clip-path=\"url(#clip260)\" d=\"M238.028 569.682 Q234.417 569.682 232.588 573.246 Q230.783 576.788 230.783 583.918 Q230.783 591.024 232.588 594.589 Q234.417 598.131 238.028 598.131 Q241.662 598.131 243.468 594.589 Q245.297 591.024 245.297 583.918 Q245.297 576.788 243.468 573.246 Q241.662 569.682 238.028 569.682 M238.028 565.978 Q243.838 565.978 246.894 570.584 Q249.973 575.168 249.973 583.918 Q249.973 592.644 246.894 597.251 Q243.838 601.834 238.028 601.834 Q232.218 601.834 229.139 597.251 Q226.084 592.644 226.084 583.918 Q226.084 575.168 229.139 570.584 Q232.218 565.978 238.028 565.978 Z\" fill=\"#000000\" fill-rule=\"nonzero\" fill-opacity=\"1\" /><path clip-path=\"url(#clip260)\" d=\"M259.997 558.199 Q257.439 558.199 255.935 559.948 Q254.449 561.697 254.449 564.744 Q254.449 567.772 255.935 569.54 Q257.439 571.289 259.997 571.289 Q262.555 571.289 264.041 569.54 Q265.545 567.772 265.545 564.744 Q265.545 561.697 264.041 559.948 Q262.555 558.199 259.997 558.199 M267.539 546.293 L267.539 549.754 Q266.11 549.077 264.643 548.719 Q263.194 548.362 261.765 548.362 Q258.003 548.362 256.01 550.901 Q254.035 553.44 253.753 558.575 Q254.863 556.938 256.536 556.073 Q258.21 555.189 260.223 555.189 Q264.455 555.189 266.9 557.766 Q269.363 560.324 269.363 564.744 Q269.363 569.069 266.805 571.684 Q264.248 574.298 259.997 574.298 Q255.126 574.298 252.549 570.574 Q249.973 566.831 249.973 559.741 Q249.973 553.083 253.132 549.133 Q256.292 545.165 261.615 545.165 Q263.044 545.165 264.492 545.447 Q265.959 545.729 267.539 546.293 Z\" fill=\"#000000\" fill-rule=\"nonzero\" fill-opacity=\"1\" /><path clip-path=\"url(#clip260)\" d=\"M66.7559 295.055 Q70.1124 295.773 71.9874 298.041 Q73.8855 300.31 73.8855 303.643 Q73.8855 308.759 70.367 311.56 Q66.8485 314.361 60.3671 314.361 Q58.1912 314.361 55.8764 313.921 Q53.5847 313.504 51.131 312.648 L51.131 308.134 Q53.0754 309.268 55.3903 309.847 Q57.7051 310.425 60.2282 310.425 Q64.6263 310.425 66.918 308.689 Q69.2328 306.953 69.2328 303.643 Q69.2328 300.588 67.08 298.875 Q64.9504 297.138 61.131 297.138 L57.1032 297.138 L57.1032 293.296 L61.3161 293.296 Q64.7652 293.296 66.5939 291.93 Q68.4226 290.541 68.4226 287.949 Q68.4226 285.287 66.5245 283.875 Q64.6495 282.44 61.131 282.44 Q59.2097 282.44 57.0106 282.856 Q54.8115 283.273 52.1727 284.152 L52.1727 279.986 Q54.8347 279.245 57.1495 278.875 Q59.4875 278.504 61.5476 278.504 Q66.8717 278.504 69.9735 280.935 Q73.0753 283.342 73.0753 287.463 Q73.0753 290.333 71.4318 292.324 Q69.7883 294.291 66.7559 295.055 Z\" fill=\"#000000\" fill-rule=\"nonzero\" fill-opacity=\"1\" /><path clip-path=\"url(#clip260)\" d=\"M82.7512 307.81 L87.6354 307.81 L87.6354 313.689 L82.7512 313.689 L82.7512 307.81 Z\" fill=\"#000000\" fill-rule=\"nonzero\" fill-opacity=\"1\" /><path clip-path=\"url(#clip260)\" d=\"M97.8669 279.129 L116.223 279.129 L116.223 283.064 L102.149 283.064 L102.149 291.537 Q103.168 291.189 104.186 291.027 Q105.205 290.842 106.223 290.842 Q112.01 290.842 115.39 294.014 Q118.77 297.185 118.77 302.601 Q118.77 308.18 115.297 311.282 Q111.825 314.361 105.506 314.361 Q103.33 314.361 101.061 313.99 Q98.8159 313.62 96.4085 312.879 L96.4085 308.18 Q98.4919 309.314 100.714 309.87 Q102.936 310.425 105.413 310.425 Q109.418 310.425 111.756 308.319 Q114.094 306.213 114.094 302.601 Q114.094 298.99 111.756 296.884 Q109.418 294.777 105.413 294.777 Q103.538 294.777 101.663 295.194 Q99.8113 295.611 97.8669 296.49 L97.8669 279.129 Z\" fill=\"#000000\" fill-rule=\"nonzero\" fill-opacity=\"1\" /><path clip-path=\"url(#clip260)\" d=\"M137.982 282.208 Q134.371 282.208 132.543 285.773 Q130.737 289.314 130.737 296.444 Q130.737 303.55 132.543 307.115 Q134.371 310.657 137.982 310.657 Q141.617 310.657 143.422 307.115 Q145.251 303.55 145.251 296.444 Q145.251 289.314 143.422 285.773 Q141.617 282.208 137.982 282.208 M137.982 278.504 Q143.793 278.504 146.848 283.111 Q149.927 287.694 149.927 296.444 Q149.927 305.171 146.848 309.777 Q143.793 314.361 137.982 314.361 Q132.172 314.361 129.094 309.777 Q126.038 305.171 126.038 296.444 Q126.038 287.694 129.094 283.111 Q132.172 278.504 137.982 278.504 Z\" fill=\"#000000\" fill-rule=\"nonzero\" fill-opacity=\"1\" /><path clip-path=\"url(#clip260)\" d=\"M186.315 288.227 L175.737 298.851 L186.315 309.43 L183.561 312.231 L172.936 301.606 L162.311 312.231 L159.58 309.43 L170.135 298.851 L159.58 288.227 L162.311 285.426 L172.936 296.051 L183.561 285.426 L186.315 288.227 Z\" fill=\"#000000\" fill-rule=\"nonzero\" fill-opacity=\"1\" /><path clip-path=\"url(#clip260)\" d=\"M198.677 309.754 L206.315 309.754 L206.315 283.389 L198.005 285.055 L198.005 280.796 L206.269 279.129 L210.945 279.129 L210.945 309.754 L218.584 309.754 L218.584 313.689 L198.677 313.689 L198.677 309.754 Z\" fill=\"#000000\" fill-rule=\"nonzero\" fill-opacity=\"1\" /><path clip-path=\"url(#clip260)\" d=\"M238.028 282.208 Q234.417 282.208 232.588 285.773 Q230.783 289.314 230.783 296.444 Q230.783 303.55 232.588 307.115 Q234.417 310.657 238.028 310.657 Q241.662 310.657 243.468 307.115 Q245.297 303.55 245.297 296.444 Q245.297 289.314 243.468 285.773 Q241.662 282.208 238.028 282.208 M238.028 278.504 Q243.838 278.504 246.894 283.111 Q249.973 287.694 249.973 296.444 Q249.973 305.171 246.894 309.777 Q243.838 314.361 238.028 314.361 Q232.218 314.361 229.139 309.777 Q226.084 305.171 226.084 296.444 Q226.084 287.694 229.139 283.111 Q232.218 278.504 238.028 278.504 Z\" fill=\"#000000\" fill-rule=\"nonzero\" fill-opacity=\"1\" /><path clip-path=\"url(#clip260)\" d=\"M259.997 270.725 Q257.439 270.725 255.935 272.474 Q254.449 274.223 254.449 277.27 Q254.449 280.298 255.935 282.066 Q257.439 283.815 259.997 283.815 Q262.555 283.815 264.041 282.066 Q265.545 280.298 265.545 277.27 Q265.545 274.223 264.041 272.474 Q262.555 270.725 259.997 270.725 M267.539 258.82 L267.539 262.28 Q266.11 261.603 264.643 261.246 Q263.194 260.888 261.765 260.888 Q258.003 260.888 256.01 263.427 Q254.035 265.967 253.753 271.101 Q254.863 269.465 256.536 268.6 Q258.21 267.716 260.223 267.716 Q264.455 267.716 266.9 270.292 Q269.363 272.85 269.363 277.27 Q269.363 281.596 266.805 284.21 Q264.248 286.824 259.997 286.824 Q255.126 286.824 252.549 283.1 Q249.973 279.358 249.973 272.267 Q249.973 265.609 253.132 261.66 Q256.292 257.691 261.615 257.691 Q263.044 257.691 264.492 257.973 Q265.959 258.255 267.539 258.82 Z\" fill=\"#000000\" fill-rule=\"nonzero\" fill-opacity=\"1\" /><polyline clip-path=\"url(#clip262)\" style=\"stroke:#009af9; stroke-linecap:round; stroke-linejoin:round; stroke-width:4; stroke-opacity:1; fill:none\" points=\"363.308,87.9763 492.075,937.342 749.609,1392.38 1264.68,1305.52 1779.74,1379.76 2294.81,1445.72 \"/>\n",
       "<path clip-path=\"url(#clip260)\" d=\"M2027.34 198.898 L2284.51 198.898 L2284.51 95.2176 L2027.34 95.2176  Z\" fill=\"#ffffff\" fill-rule=\"evenodd\" fill-opacity=\"1\"/>\n",
       "<polyline clip-path=\"url(#clip260)\" style=\"stroke:#000000; stroke-linecap:round; stroke-linejoin:round; stroke-width:4; stroke-opacity:1; fill:none\" points=\"2027.34,198.898 2284.51,198.898 2284.51,95.2176 2027.34,95.2176 2027.34,198.898 \"/>\n",
       "<polyline clip-path=\"url(#clip260)\" style=\"stroke:#009af9; stroke-linecap:round; stroke-linejoin:round; stroke-width:4; stroke-opacity:1; fill:none\" points=\"2050.09,147.058 2186.58,147.058 \"/>\n",
       "<path clip-path=\"url(#clip260)\" d=\"M2223.17 166.745 Q2221.37 171.375 2219.65 172.787 Q2217.94 174.199 2215.07 174.199 L2211.67 174.199 L2211.67 170.634 L2214.17 170.634 Q2215.93 170.634 2216.9 169.8 Q2217.87 168.967 2219.05 165.865 L2219.82 163.921 L2209.33 138.412 L2213.84 138.412 L2221.95 158.689 L2230.05 138.412 L2234.56 138.412 L2223.17 166.745 Z\" fill=\"#000000\" fill-rule=\"nonzero\" fill-opacity=\"1\" /><path clip-path=\"url(#clip260)\" d=\"M2241.85 160.402 L2249.49 160.402 L2249.49 134.037 L2241.18 135.703 L2241.18 131.444 L2249.45 129.778 L2254.12 129.778 L2254.12 160.402 L2261.76 160.402 L2261.76 164.338 L2241.85 164.338 L2241.85 160.402 Z\" fill=\"#000000\" fill-rule=\"nonzero\" fill-opacity=\"1\" /></svg>\n"
      ]
     },
     "execution_count": 9,
     "metadata": {},
     "output_type": "execute_result"
    }
   ],
   "source": [
    "plot([1,2,4,8,12,16], [mean(b1.times), mean(b2.times), mean(b3.times), mean(b4.times), mean(b5.times),mean(b6.times)])"
   ]
  },
  {
   "cell_type": "code",
   "execution_count": 10,
   "id": "ee0a162b-eae4-4ff4-b399-7612084de181",
   "metadata": {},
   "outputs": [
    {
     "data": {
      "image/svg+xml": [
       "<?xml version=\"1.0\" encoding=\"utf-8\"?>\n",
       "<svg xmlns=\"http://www.w3.org/2000/svg\" xmlns:xlink=\"http://www.w3.org/1999/xlink\" width=\"600\" height=\"400\" viewBox=\"0 0 2400 1600\">\n",
       "<defs>\n",
       "  <clipPath id=\"clip300\">\n",
       "    <rect x=\"0\" y=\"0\" width=\"2400\" height=\"1600\"/>\n",
       "  </clipPath>\n",
       "</defs>\n",
       "<path clip-path=\"url(#clip300)\" d=\"M0 1600 L2400 1600 L2400 0 L0 0  Z\" fill=\"#ffffff\" fill-rule=\"evenodd\" fill-opacity=\"1\"/>\n",
       "<defs>\n",
       "  <clipPath id=\"clip301\">\n",
       "    <rect x=\"480\" y=\"0\" width=\"1681\" height=\"1600\"/>\n",
       "  </clipPath>\n",
       "</defs>\n",
       "<path clip-path=\"url(#clip300)\" d=\"M305.178 1486.45 L2352.76 1486.45 L2352.76 47.2441 L305.178 47.2441  Z\" fill=\"#ffffff\" fill-rule=\"evenodd\" fill-opacity=\"1\"/>\n",
       "<defs>\n",
       "  <clipPath id=\"clip302\">\n",
       "    <rect x=\"305\" y=\"47\" width=\"2049\" height=\"1440\"/>\n",
       "  </clipPath>\n",
       "</defs>\n",
       "<polyline clip-path=\"url(#clip302)\" style=\"stroke:#000000; stroke-linecap:round; stroke-linejoin:round; stroke-width:2; stroke-opacity:0.1; fill:none\" points=\"620.685,1486.45 620.685,47.2441 \"/>\n",
       "<polyline clip-path=\"url(#clip302)\" style=\"stroke:#000000; stroke-linecap:round; stroke-linejoin:round; stroke-width:2; stroke-opacity:0.1; fill:none\" points=\"1007.02,1486.45 1007.02,47.2441 \"/>\n",
       "<polyline clip-path=\"url(#clip302)\" style=\"stroke:#000000; stroke-linecap:round; stroke-linejoin:round; stroke-width:2; stroke-opacity:0.1; fill:none\" points=\"1393.36,1486.45 1393.36,47.2441 \"/>\n",
       "<polyline clip-path=\"url(#clip302)\" style=\"stroke:#000000; stroke-linecap:round; stroke-linejoin:round; stroke-width:2; stroke-opacity:0.1; fill:none\" points=\"1779.69,1486.45 1779.69,47.2441 \"/>\n",
       "<polyline clip-path=\"url(#clip302)\" style=\"stroke:#000000; stroke-linecap:round; stroke-linejoin:round; stroke-width:2; stroke-opacity:0.1; fill:none\" points=\"2166.03,1486.45 2166.03,47.2441 \"/>\n",
       "<polyline clip-path=\"url(#clip300)\" style=\"stroke:#000000; stroke-linecap:round; stroke-linejoin:round; stroke-width:4; stroke-opacity:1; fill:none\" points=\"305.178,1486.45 2352.76,1486.45 \"/>\n",
       "<polyline clip-path=\"url(#clip300)\" style=\"stroke:#000000; stroke-linecap:round; stroke-linejoin:round; stroke-width:4; stroke-opacity:1; fill:none\" points=\"620.685,1486.45 620.685,1467.55 \"/>\n",
       "<polyline clip-path=\"url(#clip300)\" style=\"stroke:#000000; stroke-linecap:round; stroke-linejoin:round; stroke-width:4; stroke-opacity:1; fill:none\" points=\"1007.02,1486.45 1007.02,1467.55 \"/>\n",
       "<polyline clip-path=\"url(#clip300)\" style=\"stroke:#000000; stroke-linecap:round; stroke-linejoin:round; stroke-width:4; stroke-opacity:1; fill:none\" points=\"1393.36,1486.45 1393.36,1467.55 \"/>\n",
       "<polyline clip-path=\"url(#clip300)\" style=\"stroke:#000000; stroke-linecap:round; stroke-linejoin:round; stroke-width:4; stroke-opacity:1; fill:none\" points=\"1779.69,1486.45 1779.69,1467.55 \"/>\n",
       "<polyline clip-path=\"url(#clip300)\" style=\"stroke:#000000; stroke-linecap:round; stroke-linejoin:round; stroke-width:4; stroke-opacity:1; fill:none\" points=\"2166.03,1486.45 2166.03,1467.55 \"/>\n",
       "<path clip-path=\"url(#clip300)\" d=\"M624.933 1530.21 Q628.29 1530.93 630.165 1533.2 Q632.063 1535.47 632.063 1538.8 Q632.063 1543.92 628.544 1546.72 Q625.026 1549.52 618.544 1549.52 Q616.368 1549.52 614.054 1549.08 Q611.762 1548.66 609.308 1547.81 L609.308 1543.29 Q611.253 1544.43 613.567 1545.01 Q615.882 1545.58 618.405 1545.58 Q622.803 1545.58 625.095 1543.85 Q627.41 1542.11 627.41 1538.8 Q627.41 1535.75 625.257 1534.03 Q623.128 1532.3 619.308 1532.3 L615.28 1532.3 L615.28 1528.45 L619.493 1528.45 Q622.942 1528.45 624.771 1527.09 Q626.6 1525.7 626.6 1523.11 Q626.6 1520.45 624.702 1519.03 Q622.827 1517.6 619.308 1517.6 Q617.387 1517.6 615.188 1518.01 Q612.989 1518.43 610.35 1519.31 L610.35 1515.14 Q613.012 1514.4 615.327 1514.03 Q617.665 1513.66 619.725 1513.66 Q625.049 1513.66 628.151 1516.09 Q631.253 1518.5 631.253 1522.62 Q631.253 1525.49 629.609 1527.48 Q627.965 1529.45 624.933 1530.21 Z\" fill=\"#000000\" fill-rule=\"nonzero\" fill-opacity=\"1\" /><path clip-path=\"url(#clip300)\" d=\"M1007.43 1529.7 Q1004.28 1529.7 1002.43 1531.86 Q1000.6 1534.01 1000.6 1537.76 Q1000.6 1541.49 1002.43 1543.66 Q1004.28 1545.82 1007.43 1545.82 Q1010.57 1545.82 1012.4 1543.66 Q1014.25 1541.49 1014.25 1537.76 Q1014.25 1534.01 1012.4 1531.86 Q1010.57 1529.7 1007.43 1529.7 M1016.71 1515.05 L1016.71 1519.31 Q1014.95 1518.48 1013.14 1518.04 Q1011.36 1517.6 1009.6 1517.6 Q1004.97 1517.6 1002.52 1520.72 Q1000.09 1523.85 999.741 1530.17 Q1001.11 1528.15 1003.17 1527.09 Q1005.23 1526 1007.7 1526 Q1012.91 1526 1015.92 1529.17 Q1018.95 1532.32 1018.95 1537.76 Q1018.95 1543.08 1015.81 1546.3 Q1012.66 1549.52 1007.43 1549.52 Q1001.43 1549.52 998.259 1544.94 Q995.088 1540.33 995.088 1531.6 Q995.088 1523.41 998.977 1518.55 Q1002.87 1513.66 1009.42 1513.66 Q1011.18 1513.66 1012.96 1514.01 Q1014.76 1514.36 1016.71 1515.05 Z\" fill=\"#000000\" fill-rule=\"nonzero\" fill-opacity=\"1\" /><path clip-path=\"url(#clip300)\" d=\"M1383.66 1548.13 L1383.66 1543.87 Q1385.42 1544.7 1387.22 1545.14 Q1389.03 1545.58 1390.76 1545.58 Q1395.39 1545.58 1397.82 1542.48 Q1400.28 1539.36 1400.62 1533.01 Q1399.28 1535.01 1397.22 1536.07 Q1395.16 1537.13 1392.66 1537.13 Q1387.48 1537.13 1384.44 1534.01 Q1381.44 1530.86 1381.44 1525.42 Q1381.44 1520.1 1384.58 1516.88 Q1387.73 1513.66 1392.96 1513.66 Q1398.96 1513.66 1402.11 1518.27 Q1405.28 1522.85 1405.28 1531.6 Q1405.28 1539.77 1401.39 1544.66 Q1397.52 1549.52 1390.97 1549.52 Q1389.21 1549.52 1387.41 1549.17 Q1385.6 1548.82 1383.66 1548.13 M1392.96 1533.48 Q1396.11 1533.48 1397.94 1531.32 Q1399.79 1529.17 1399.79 1525.42 Q1399.79 1521.7 1397.94 1519.54 Q1396.11 1517.37 1392.96 1517.37 Q1389.81 1517.37 1387.96 1519.54 Q1386.13 1521.7 1386.13 1525.42 Q1386.13 1529.17 1387.96 1531.32 Q1389.81 1533.48 1392.96 1533.48 Z\" fill=\"#000000\" fill-rule=\"nonzero\" fill-opacity=\"1\" /><path clip-path=\"url(#clip300)\" d=\"M1755.18 1544.91 L1762.82 1544.91 L1762.82 1518.55 L1754.51 1520.21 L1754.51 1515.95 L1762.77 1514.29 L1767.45 1514.29 L1767.45 1544.91 L1775.09 1544.91 L1775.09 1548.85 L1755.18 1548.85 L1755.18 1544.91 Z\" fill=\"#000000\" fill-rule=\"nonzero\" fill-opacity=\"1\" /><path clip-path=\"url(#clip300)\" d=\"M1788.56 1544.91 L1804.88 1544.91 L1804.88 1548.85 L1782.93 1548.85 L1782.93 1544.91 Q1785.59 1542.16 1790.18 1537.53 Q1794.78 1532.88 1795.96 1531.53 Q1798.21 1529.01 1799.09 1527.27 Q1799.99 1525.51 1799.99 1523.82 Q1799.99 1521.07 1798.05 1519.33 Q1796.13 1517.6 1793.02 1517.6 Q1790.83 1517.6 1788.37 1518.36 Q1785.94 1519.13 1783.16 1520.68 L1783.16 1515.95 Q1785.99 1514.82 1788.44 1514.24 Q1790.9 1513.66 1792.93 1513.66 Q1798.3 1513.66 1801.5 1516.35 Q1804.69 1519.03 1804.69 1523.52 Q1804.69 1525.65 1803.88 1527.57 Q1803.09 1529.47 1800.99 1532.07 Q1800.41 1532.74 1797.31 1535.95 Q1794.21 1539.15 1788.56 1544.91 Z\" fill=\"#000000\" fill-rule=\"nonzero\" fill-opacity=\"1\" /><path clip-path=\"url(#clip300)\" d=\"M2141.21 1544.91 L2148.85 1544.91 L2148.85 1518.55 L2140.54 1520.21 L2140.54 1515.95 L2148.8 1514.29 L2153.48 1514.29 L2153.48 1544.91 L2161.12 1544.91 L2161.12 1548.85 L2141.21 1548.85 L2141.21 1544.91 Z\" fill=\"#000000\" fill-rule=\"nonzero\" fill-opacity=\"1\" /><path clip-path=\"url(#clip300)\" d=\"M2170.61 1514.29 L2188.97 1514.29 L2188.97 1518.22 L2174.89 1518.22 L2174.89 1526.7 Q2175.91 1526.35 2176.93 1526.19 Q2177.95 1526 2178.97 1526 Q2184.75 1526 2188.13 1529.17 Q2191.51 1532.34 2191.51 1537.76 Q2191.51 1543.34 2188.04 1546.44 Q2184.57 1549.52 2178.25 1549.52 Q2176.07 1549.52 2173.8 1549.15 Q2171.56 1548.78 2169.15 1548.04 L2169.15 1543.34 Q2171.24 1544.47 2173.46 1545.03 Q2175.68 1545.58 2178.16 1545.58 Q2182.16 1545.58 2184.5 1543.48 Q2186.84 1541.37 2186.84 1537.76 Q2186.84 1534.15 2184.5 1532.04 Q2182.16 1529.94 2178.16 1529.94 Q2176.28 1529.94 2174.41 1530.35 Q2172.55 1530.77 2170.61 1531.65 L2170.61 1514.29 Z\" fill=\"#000000\" fill-rule=\"nonzero\" fill-opacity=\"1\" /><polyline clip-path=\"url(#clip302)\" style=\"stroke:#000000; stroke-linecap:round; stroke-linejoin:round; stroke-width:2; stroke-opacity:0.1; fill:none\" points=\"305.178,1367.68 2352.76,1367.68 \"/>\n",
       "<polyline clip-path=\"url(#clip302)\" style=\"stroke:#000000; stroke-linecap:round; stroke-linejoin:round; stroke-width:2; stroke-opacity:0.1; fill:none\" points=\"305.178,1028 2352.76,1028 \"/>\n",
       "<polyline clip-path=\"url(#clip302)\" style=\"stroke:#000000; stroke-linecap:round; stroke-linejoin:round; stroke-width:2; stroke-opacity:0.1; fill:none\" points=\"305.178,688.321 2352.76,688.321 \"/>\n",
       "<polyline clip-path=\"url(#clip302)\" style=\"stroke:#000000; stroke-linecap:round; stroke-linejoin:round; stroke-width:2; stroke-opacity:0.1; fill:none\" points=\"305.178,348.642 2352.76,348.642 \"/>\n",
       "<polyline clip-path=\"url(#clip300)\" style=\"stroke:#000000; stroke-linecap:round; stroke-linejoin:round; stroke-width:4; stroke-opacity:1; fill:none\" points=\"305.178,1486.45 305.178,47.2441 \"/>\n",
       "<polyline clip-path=\"url(#clip300)\" style=\"stroke:#000000; stroke-linecap:round; stroke-linejoin:round; stroke-width:4; stroke-opacity:1; fill:none\" points=\"305.178,1367.68 324.076,1367.68 \"/>\n",
       "<polyline clip-path=\"url(#clip300)\" style=\"stroke:#000000; stroke-linecap:round; stroke-linejoin:round; stroke-width:4; stroke-opacity:1; fill:none\" points=\"305.178,1028 324.076,1028 \"/>\n",
       "<polyline clip-path=\"url(#clip300)\" style=\"stroke:#000000; stroke-linecap:round; stroke-linejoin:round; stroke-width:4; stroke-opacity:1; fill:none\" points=\"305.178,688.321 324.076,688.321 \"/>\n",
       "<polyline clip-path=\"url(#clip300)\" style=\"stroke:#000000; stroke-linecap:round; stroke-linejoin:round; stroke-width:4; stroke-opacity:1; fill:none\" points=\"305.178,348.642 324.076,348.642 \"/>\n",
       "<path clip-path=\"url(#clip300)\" d=\"M52.4505 1356.85 L70.8068 1356.85 L70.8068 1360.78 L56.7328 1360.78 L56.7328 1369.25 Q57.7513 1368.91 58.7699 1368.74 Q59.7884 1368.56 60.8069 1368.56 Q66.5939 1368.56 69.9735 1371.73 Q73.3531 1374.9 73.3531 1380.32 Q73.3531 1385.9 69.8809 1389 Q66.4087 1392.08 60.0893 1392.08 Q57.9134 1392.08 55.6449 1391.71 Q53.3995 1391.34 50.9921 1390.6 L50.9921 1385.9 Q53.0754 1387.03 55.2977 1387.59 Q57.5199 1388.14 59.9967 1388.14 Q64.0013 1388.14 66.3393 1386.04 Q68.6772 1383.93 68.6772 1380.32 Q68.6772 1376.71 66.3393 1374.6 Q64.0013 1372.49 59.9967 1372.49 Q58.1217 1372.49 56.2467 1372.91 Q54.3949 1373.33 52.4505 1374.21 L52.4505 1356.85 Z\" fill=\"#000000\" fill-rule=\"nonzero\" fill-opacity=\"1\" /><path clip-path=\"url(#clip300)\" d=\"M82.566 1385.53 L87.4503 1385.53 L87.4503 1391.41 L82.566 1391.41 L82.566 1385.53 Z\" fill=\"#000000\" fill-rule=\"nonzero\" fill-opacity=\"1\" /><path clip-path=\"url(#clip300)\" d=\"M107.635 1359.92 Q104.024 1359.92 102.196 1363.49 Q100.39 1367.03 100.39 1374.16 Q100.39 1381.27 102.196 1384.83 Q104.024 1388.37 107.635 1388.37 Q111.27 1388.37 113.075 1384.83 Q114.904 1381.27 114.904 1374.16 Q114.904 1367.03 113.075 1363.49 Q111.27 1359.92 107.635 1359.92 M107.635 1356.22 Q113.445 1356.22 116.501 1360.83 Q119.58 1365.41 119.58 1374.16 Q119.58 1382.89 116.501 1387.49 Q113.445 1392.08 107.635 1392.08 Q101.825 1392.08 98.7465 1387.49 Q95.691 1382.89 95.691 1374.16 Q95.691 1365.41 98.7465 1360.83 Q101.825 1356.22 107.635 1356.22 Z\" fill=\"#000000\" fill-rule=\"nonzero\" fill-opacity=\"1\" /><path clip-path=\"url(#clip300)\" d=\"M137.797 1359.92 Q134.186 1359.92 132.357 1363.49 Q130.552 1367.03 130.552 1374.16 Q130.552 1381.27 132.357 1384.83 Q134.186 1388.37 137.797 1388.37 Q141.431 1388.37 143.237 1384.83 Q145.066 1381.27 145.066 1374.16 Q145.066 1367.03 143.237 1363.49 Q141.431 1359.92 137.797 1359.92 M137.797 1356.22 Q143.607 1356.22 146.663 1360.83 Q149.742 1365.41 149.742 1374.16 Q149.742 1382.89 146.663 1387.49 Q143.607 1392.08 137.797 1392.08 Q131.987 1392.08 128.908 1387.49 Q125.853 1382.89 125.853 1374.16 Q125.853 1365.41 128.908 1360.83 Q131.987 1356.22 137.797 1356.22 Z\" fill=\"#000000\" fill-rule=\"nonzero\" fill-opacity=\"1\" /><path clip-path=\"url(#clip300)\" d=\"M186.13 1365.94 L175.552 1376.57 L186.13 1387.15 L183.376 1389.95 L172.751 1379.32 L162.126 1389.95 L159.394 1387.15 L169.95 1376.57 L159.394 1365.94 L162.126 1363.14 L172.751 1373.77 L183.376 1363.14 L186.13 1365.94 Z\" fill=\"#000000\" fill-rule=\"nonzero\" fill-opacity=\"1\" /><path clip-path=\"url(#clip300)\" d=\"M198.491 1387.47 L206.13 1387.47 L206.13 1361.11 L197.82 1362.77 L197.82 1358.51 L206.084 1356.85 L210.76 1356.85 L210.76 1387.47 L218.399 1387.47 L218.399 1391.41 L198.491 1391.41 L198.491 1387.47 Z\" fill=\"#000000\" fill-rule=\"nonzero\" fill-opacity=\"1\" /><path clip-path=\"url(#clip300)\" d=\"M237.843 1359.92 Q234.232 1359.92 232.403 1363.49 Q230.598 1367.03 230.598 1374.16 Q230.598 1381.27 232.403 1384.83 Q234.232 1388.37 237.843 1388.37 Q241.477 1388.37 243.283 1384.83 Q245.111 1381.27 245.111 1374.16 Q245.111 1367.03 243.283 1363.49 Q241.477 1359.92 237.843 1359.92 M237.843 1356.22 Q243.653 1356.22 246.709 1360.83 Q249.787 1365.41 249.787 1374.16 Q249.787 1382.89 246.709 1387.49 Q243.653 1392.08 237.843 1392.08 Q232.033 1392.08 228.954 1387.49 Q225.899 1382.89 225.899 1374.16 Q225.899 1365.41 228.954 1360.83 Q232.033 1356.22 237.843 1356.22 Z\" fill=\"#000000\" fill-rule=\"nonzero\" fill-opacity=\"1\" /><path clip-path=\"url(#clip300)\" d=\"M259.812 1348.44 Q257.254 1348.44 255.749 1350.19 Q254.264 1351.94 254.264 1354.99 Q254.264 1358.01 255.749 1359.78 Q257.254 1361.53 259.812 1361.53 Q262.37 1361.53 263.856 1359.78 Q265.36 1358.01 265.36 1354.99 Q265.36 1351.94 263.856 1350.19 Q262.37 1348.44 259.812 1348.44 M267.354 1336.54 L267.354 1340 Q265.924 1339.32 264.457 1338.96 Q263.009 1338.61 261.58 1338.61 Q257.818 1338.61 255.825 1341.14 Q253.85 1343.68 253.568 1348.82 Q254.677 1347.18 256.351 1346.32 Q258.025 1345.43 260.038 1345.43 Q264.269 1345.43 266.714 1348.01 Q269.178 1350.57 269.178 1354.99 Q269.178 1359.31 266.62 1361.93 Q264.062 1364.54 259.812 1364.54 Q254.941 1364.54 252.364 1360.82 Q249.787 1357.07 249.787 1349.98 Q249.787 1343.33 252.947 1339.38 Q256.107 1335.41 261.429 1335.41 Q262.859 1335.41 264.307 1335.69 Q265.774 1335.97 267.354 1336.54 Z\" fill=\"#000000\" fill-rule=\"nonzero\" fill-opacity=\"1\" /><path clip-path=\"url(#clip300)\" d=\"M54.5497 1047.79 L62.1885 1047.79 L62.1885 1021.43 L53.8784 1023.09 L53.8784 1018.83 L62.1422 1017.17 L66.8181 1017.17 L66.8181 1047.79 L74.457 1047.79 L74.457 1051.73 L54.5497 1051.73 L54.5497 1047.79 Z\" fill=\"#000000\" fill-rule=\"nonzero\" fill-opacity=\"1\" /><path clip-path=\"url(#clip300)\" d=\"M83.9014 1045.85 L88.7856 1045.85 L88.7856 1051.73 L83.9014 1051.73 L83.9014 1045.85 Z\" fill=\"#000000\" fill-rule=\"nonzero\" fill-opacity=\"1\" /><path clip-path=\"url(#clip300)\" d=\"M108.971 1020.25 Q105.36 1020.25 103.531 1023.81 Q101.725 1027.35 101.725 1034.48 Q101.725 1041.59 103.531 1045.15 Q105.36 1048.69 108.971 1048.69 Q112.605 1048.69 114.41 1045.15 Q116.239 1041.59 116.239 1034.48 Q116.239 1027.35 114.41 1023.81 Q112.605 1020.25 108.971 1020.25 M108.971 1016.54 Q114.781 1016.54 117.836 1021.15 Q120.915 1025.73 120.915 1034.48 Q120.915 1043.21 117.836 1047.82 Q114.781 1052.4 108.971 1052.4 Q103.161 1052.4 100.082 1047.82 Q97.0263 1043.21 97.0263 1034.48 Q97.0263 1025.73 100.082 1021.15 Q103.161 1016.54 108.971 1016.54 Z\" fill=\"#000000\" fill-rule=\"nonzero\" fill-opacity=\"1\" /><path clip-path=\"url(#clip300)\" d=\"M139.133 1020.25 Q135.521 1020.25 133.693 1023.81 Q131.887 1027.35 131.887 1034.48 Q131.887 1041.59 133.693 1045.15 Q135.521 1048.69 139.133 1048.69 Q142.767 1048.69 144.572 1045.15 Q146.401 1041.59 146.401 1034.48 Q146.401 1027.35 144.572 1023.81 Q142.767 1020.25 139.133 1020.25 M139.133 1016.54 Q144.943 1016.54 147.998 1021.15 Q151.077 1025.73 151.077 1034.48 Q151.077 1043.21 147.998 1047.82 Q144.943 1052.4 139.133 1052.4 Q133.322 1052.4 130.244 1047.82 Q127.188 1043.21 127.188 1034.48 Q127.188 1025.73 130.244 1021.15 Q133.322 1016.54 139.133 1016.54 Z\" fill=\"#000000\" fill-rule=\"nonzero\" fill-opacity=\"1\" /><path clip-path=\"url(#clip300)\" d=\"M187.466 1026.26 L176.887 1036.89 L187.466 1047.47 L184.711 1050.27 L174.086 1039.64 L163.461 1050.27 L160.73 1047.47 L171.285 1036.89 L160.73 1026.26 L163.461 1023.46 L174.086 1034.09 L184.711 1023.46 L187.466 1026.26 Z\" fill=\"#000000\" fill-rule=\"nonzero\" fill-opacity=\"1\" /><path clip-path=\"url(#clip300)\" d=\"M199.827 1047.79 L207.466 1047.79 L207.466 1021.43 L199.155 1023.09 L199.155 1018.83 L207.419 1017.17 L212.095 1017.17 L212.095 1047.79 L219.734 1047.79 L219.734 1051.73 L199.827 1051.73 L199.827 1047.79 Z\" fill=\"#000000\" fill-rule=\"nonzero\" fill-opacity=\"1\" /><path clip-path=\"url(#clip300)\" d=\"M239.178 1020.25 Q235.567 1020.25 233.739 1023.81 Q231.933 1027.35 231.933 1034.48 Q231.933 1041.59 233.739 1045.15 Q235.567 1048.69 239.178 1048.69 Q242.813 1048.69 244.618 1045.15 Q246.447 1041.59 246.447 1034.48 Q246.447 1027.35 244.618 1023.81 Q242.813 1020.25 239.178 1020.25 M239.178 1016.54 Q244.988 1016.54 248.044 1021.15 Q251.123 1025.73 251.123 1034.48 Q251.123 1043.21 248.044 1047.82 Q244.988 1052.4 239.178 1052.4 Q233.368 1052.4 230.289 1047.82 Q227.234 1043.21 227.234 1034.48 Q227.234 1025.73 230.289 1021.15 Q233.368 1016.54 239.178 1016.54 Z\" fill=\"#000000\" fill-rule=\"nonzero\" fill-opacity=\"1\" /><path clip-path=\"url(#clip300)\" d=\"M251.123 996.237 L269.178 996.237 L269.178 997.854 L258.984 1024.32 L255.016 1024.32 L264.608 999.434 L251.123 999.434 L251.123 996.237 Z\" fill=\"#000000\" fill-rule=\"nonzero\" fill-opacity=\"1\" /><path clip-path=\"url(#clip300)\" d=\"M54.5497 708.113 L62.1885 708.113 L62.1885 681.747 L53.8784 683.414 L53.8784 679.155 L62.1422 677.488 L66.8181 677.488 L66.8181 708.113 L74.457 708.113 L74.457 712.048 L54.5497 712.048 L54.5497 708.113 Z\" fill=\"#000000\" fill-rule=\"nonzero\" fill-opacity=\"1\" /><path clip-path=\"url(#clip300)\" d=\"M83.9014 706.169 L88.7856 706.169 L88.7856 712.048 L83.9014 712.048 L83.9014 706.169 Z\" fill=\"#000000\" fill-rule=\"nonzero\" fill-opacity=\"1\" /><path clip-path=\"url(#clip300)\" d=\"M99.017 677.488 L117.373 677.488 L117.373 681.423 L103.299 681.423 L103.299 689.896 Q104.318 689.548 105.336 689.386 Q106.355 689.201 107.373 689.201 Q113.16 689.201 116.54 692.372 Q119.92 695.544 119.92 700.96 Q119.92 706.539 116.448 709.641 Q112.975 712.72 106.656 712.72 Q104.48 712.72 102.211 712.349 Q99.9661 711.979 97.5587 711.238 L97.5587 706.539 Q99.642 707.673 101.864 708.229 Q104.086 708.784 106.563 708.784 Q110.568 708.784 112.906 706.678 Q115.244 704.571 115.244 700.96 Q115.244 697.349 112.906 695.243 Q110.568 693.136 106.563 693.136 Q104.688 693.136 102.813 693.553 Q100.961 693.97 99.017 694.849 L99.017 677.488 Z\" fill=\"#000000\" fill-rule=\"nonzero\" fill-opacity=\"1\" /><path clip-path=\"url(#clip300)\" d=\"M139.133 680.567 Q135.521 680.567 133.693 684.132 Q131.887 687.673 131.887 694.803 Q131.887 701.909 133.693 705.474 Q135.521 709.016 139.133 709.016 Q142.767 709.016 144.572 705.474 Q146.401 701.909 146.401 694.803 Q146.401 687.673 144.572 684.132 Q142.767 680.567 139.133 680.567 M139.133 676.863 Q144.943 676.863 147.998 681.47 Q151.077 686.053 151.077 694.803 Q151.077 703.53 147.998 708.136 Q144.943 712.72 139.133 712.72 Q133.322 712.72 130.244 708.136 Q127.188 703.53 127.188 694.803 Q127.188 686.053 130.244 681.47 Q133.322 676.863 139.133 676.863 Z\" fill=\"#000000\" fill-rule=\"nonzero\" fill-opacity=\"1\" /><path clip-path=\"url(#clip300)\" d=\"M187.466 686.585 L176.887 697.21 L187.466 707.789 L184.711 710.59 L174.086 699.965 L163.461 710.59 L160.73 707.789 L171.285 697.21 L160.73 686.585 L163.461 683.785 L174.086 694.409 L184.711 683.785 L187.466 686.585 Z\" fill=\"#000000\" fill-rule=\"nonzero\" fill-opacity=\"1\" /><path clip-path=\"url(#clip300)\" d=\"M199.827 708.113 L207.466 708.113 L207.466 681.747 L199.155 683.414 L199.155 679.155 L207.419 677.488 L212.095 677.488 L212.095 708.113 L219.734 708.113 L219.734 712.048 L199.827 712.048 L199.827 708.113 Z\" fill=\"#000000\" fill-rule=\"nonzero\" fill-opacity=\"1\" /><path clip-path=\"url(#clip300)\" d=\"M239.178 680.567 Q235.567 680.567 233.739 684.132 Q231.933 687.673 231.933 694.803 Q231.933 701.909 233.739 705.474 Q235.567 709.016 239.178 709.016 Q242.813 709.016 244.618 705.474 Q246.447 701.909 246.447 694.803 Q246.447 687.673 244.618 684.132 Q242.813 680.567 239.178 680.567 M239.178 676.863 Q244.988 676.863 248.044 681.47 Q251.123 686.053 251.123 694.803 Q251.123 703.53 248.044 708.136 Q244.988 712.72 239.178 712.72 Q233.368 712.72 230.289 708.136 Q227.234 703.53 227.234 694.803 Q227.234 686.053 230.289 681.47 Q233.368 676.863 239.178 676.863 Z\" fill=\"#000000\" fill-rule=\"nonzero\" fill-opacity=\"1\" /><path clip-path=\"url(#clip300)\" d=\"M251.123 656.558 L269.178 656.558 L269.178 658.175 L258.984 684.638 L255.016 684.638 L264.608 659.755 L251.123 659.755 L251.123 656.558 Z\" fill=\"#000000\" fill-rule=\"nonzero\" fill-opacity=\"1\" /><path clip-path=\"url(#clip300)\" d=\"M57.7673 368.434 L74.0866 368.434 L74.0866 372.369 L52.1423 372.369 L52.1423 368.434 Q54.8043 365.68 59.3876 361.05 Q63.9941 356.397 65.1746 355.055 Q67.42 352.531 68.2996 350.795 Q69.2024 349.036 69.2024 347.346 Q69.2024 344.592 67.258 342.856 Q65.3367 341.119 62.2348 341.119 Q60.0358 341.119 57.5821 341.883 Q55.1515 342.647 52.3738 344.198 L52.3738 339.476 Q55.1978 338.342 57.6515 337.763 Q60.1052 337.184 62.1422 337.184 Q67.5126 337.184 70.707 339.869 Q73.9014 342.555 73.9014 347.045 Q73.9014 349.175 73.0913 351.096 Q72.3042 352.994 70.1978 355.587 Q69.6191 356.258 66.5172 359.476 Q63.4154 362.67 57.7673 368.434 Z\" fill=\"#000000\" fill-rule=\"nonzero\" fill-opacity=\"1\" /><path clip-path=\"url(#clip300)\" d=\"M83.9014 366.49 L88.7856 366.49 L88.7856 372.369 L83.9014 372.369 L83.9014 366.49 Z\" fill=\"#000000\" fill-rule=\"nonzero\" fill-opacity=\"1\" /><path clip-path=\"url(#clip300)\" d=\"M108.971 340.888 Q105.36 340.888 103.531 344.453 Q101.725 347.994 101.725 355.124 Q101.725 362.23 103.531 365.795 Q105.36 369.337 108.971 369.337 Q112.605 369.337 114.41 365.795 Q116.239 362.23 116.239 355.124 Q116.239 347.994 114.41 344.453 Q112.605 340.888 108.971 340.888 M108.971 337.184 Q114.781 337.184 117.836 341.791 Q120.915 346.374 120.915 355.124 Q120.915 363.851 117.836 368.457 Q114.781 373.041 108.971 373.041 Q103.161 373.041 100.082 368.457 Q97.0263 363.851 97.0263 355.124 Q97.0263 346.374 100.082 341.791 Q103.161 337.184 108.971 337.184 Z\" fill=\"#000000\" fill-rule=\"nonzero\" fill-opacity=\"1\" /><path clip-path=\"url(#clip300)\" d=\"M139.133 340.888 Q135.521 340.888 133.693 344.453 Q131.887 347.994 131.887 355.124 Q131.887 362.23 133.693 365.795 Q135.521 369.337 139.133 369.337 Q142.767 369.337 144.572 365.795 Q146.401 362.23 146.401 355.124 Q146.401 347.994 144.572 344.453 Q142.767 340.888 139.133 340.888 M139.133 337.184 Q144.943 337.184 147.998 341.791 Q151.077 346.374 151.077 355.124 Q151.077 363.851 147.998 368.457 Q144.943 373.041 139.133 373.041 Q133.322 373.041 130.244 368.457 Q127.188 363.851 127.188 355.124 Q127.188 346.374 130.244 341.791 Q133.322 337.184 139.133 337.184 Z\" fill=\"#000000\" fill-rule=\"nonzero\" fill-opacity=\"1\" /><path clip-path=\"url(#clip300)\" d=\"M187.466 346.906 L176.887 357.531 L187.466 368.11 L184.711 370.911 L174.086 360.286 L163.461 370.911 L160.73 368.11 L171.285 357.531 L160.73 346.906 L163.461 344.106 L174.086 354.73 L184.711 344.106 L187.466 346.906 Z\" fill=\"#000000\" fill-rule=\"nonzero\" fill-opacity=\"1\" /><path clip-path=\"url(#clip300)\" d=\"M199.827 368.434 L207.466 368.434 L207.466 342.069 L199.155 343.735 L199.155 339.476 L207.419 337.809 L212.095 337.809 L212.095 368.434 L219.734 368.434 L219.734 372.369 L199.827 372.369 L199.827 368.434 Z\" fill=\"#000000\" fill-rule=\"nonzero\" fill-opacity=\"1\" /><path clip-path=\"url(#clip300)\" d=\"M239.178 340.888 Q235.567 340.888 233.739 344.453 Q231.933 347.994 231.933 355.124 Q231.933 362.23 233.739 365.795 Q235.567 369.337 239.178 369.337 Q242.813 369.337 244.618 365.795 Q246.447 362.23 246.447 355.124 Q246.447 347.994 244.618 344.453 Q242.813 340.888 239.178 340.888 M239.178 337.184 Q244.988 337.184 248.044 341.791 Q251.123 346.374 251.123 355.124 Q251.123 363.851 248.044 368.457 Q244.988 373.041 239.178 373.041 Q233.368 373.041 230.289 368.457 Q227.234 363.851 227.234 355.124 Q227.234 346.374 230.289 341.791 Q233.368 337.184 239.178 337.184 Z\" fill=\"#000000\" fill-rule=\"nonzero\" fill-opacity=\"1\" /><path clip-path=\"url(#clip300)\" d=\"M251.123 316.879 L269.178 316.879 L269.178 318.496 L258.984 344.959 L255.016 344.959 L264.608 320.076 L251.123 320.076 L251.123 316.879 Z\" fill=\"#000000\" fill-rule=\"nonzero\" fill-opacity=\"1\" /><polyline clip-path=\"url(#clip302)\" style=\"stroke:#009af9; stroke-linecap:round; stroke-linejoin:round; stroke-width:4; stroke-opacity:1; fill:none\" points=\"363.128,1445.72 491.907,1384.8 749.464,1277.31 1264.58,765.146 1779.69,399.304 2294.81,87.9763 \"/>\n",
       "<path clip-path=\"url(#clip300)\" d=\"M373.431 198.898 L630.619 198.898 L630.619 95.2176 L373.431 95.2176  Z\" fill=\"#ffffff\" fill-rule=\"evenodd\" fill-opacity=\"1\"/>\n",
       "<polyline clip-path=\"url(#clip300)\" style=\"stroke:#000000; stroke-linecap:round; stroke-linejoin:round; stroke-width:4; stroke-opacity:1; fill:none\" points=\"373.431,198.898 630.619,198.898 630.619,95.2176 373.431,95.2176 373.431,198.898 \"/>\n",
       "<polyline clip-path=\"url(#clip300)\" style=\"stroke:#009af9; stroke-linecap:round; stroke-linejoin:round; stroke-width:4; stroke-opacity:1; fill:none\" points=\"396.182,147.058 532.687,147.058 \"/>\n",
       "<path clip-path=\"url(#clip300)\" d=\"M569.28 166.745 Q567.475 171.375 565.762 172.787 Q564.049 174.199 561.178 174.199 L557.776 174.199 L557.776 170.634 L560.276 170.634 Q562.035 170.634 563.007 169.8 Q563.979 168.967 565.16 165.865 L565.924 163.921 L555.438 138.412 L559.952 138.412 L568.053 158.689 L576.155 138.412 L580.669 138.412 L569.28 166.745 Z\" fill=\"#000000\" fill-rule=\"nonzero\" fill-opacity=\"1\" /><path clip-path=\"url(#clip300)\" d=\"M587.961 160.402 L595.599 160.402 L595.599 134.037 L587.289 135.703 L587.289 131.444 L595.553 129.778 L600.229 129.778 L600.229 160.402 L607.868 160.402 L607.868 164.338 L587.961 164.338 L587.961 160.402 Z\" fill=\"#000000\" fill-rule=\"nonzero\" fill-opacity=\"1\" /></svg>\n"
      ]
     },
     "execution_count": 10,
     "metadata": {},
     "output_type": "execute_result"
    }
   ],
   "source": [
    "plot([1,2,4,8,12,16], [1*mean(b1.times), 2*mean(b2.times), 4*mean(b3.times), 8*mean(b4.times), 12*mean(b5.times), 16*mean(b6.times)])"
   ]
  },
  {
   "cell_type": "markdown",
   "id": "c4be2491-eada-428d-be27-37bea7ccfd61",
   "metadata": {},
   "source": [
    "Does using single floating precision help?"
   ]
  },
  {
   "cell_type": "code",
   "execution_count": 11,
   "id": "9c79f5a4-6d3f-416a-8911-3e9a07e04dc5",
   "metadata": {},
   "outputs": [
    {
     "data": {
      "text/plain": [
       "BenchmarkTools.Trial: 4094 samples with 1 evaluation.\n",
       " Range \u001b[90m(\u001b[39m\u001b[36m\u001b[1mmin\u001b[22m\u001b[39m … \u001b[35mmax\u001b[39m\u001b[90m):  \u001b[39m\u001b[36m\u001b[1m807.333 μs\u001b[22m\u001b[39m … \u001b[35m  8.317 ms\u001b[39m  \u001b[90m┊\u001b[39m GC \u001b[90m(\u001b[39mmin … max\u001b[90m): \u001b[39m 0.00% … 85.26%\n",
       " Time  \u001b[90m(\u001b[39m\u001b[34m\u001b[1mmedian\u001b[22m\u001b[39m\u001b[90m):     \u001b[39m\u001b[34m\u001b[1m979.792 μs               \u001b[22m\u001b[39m\u001b[90m┊\u001b[39m GC \u001b[90m(\u001b[39mmedian\u001b[90m):    \u001b[39m 0.00%\n",
       " Time  \u001b[90m(\u001b[39m\u001b[32m\u001b[1mmean\u001b[22m\u001b[39m ± \u001b[32mσ\u001b[39m\u001b[90m):   \u001b[39m\u001b[32m\u001b[1m  1.213 ms\u001b[22m\u001b[39m ± \u001b[32m689.625 μs\u001b[39m  \u001b[90m┊\u001b[39m GC \u001b[90m(\u001b[39mmean ± σ\u001b[90m):  \u001b[39m16.78% ± 19.39%\n",
       "\n",
       "  \u001b[39m▃\u001b[39m▇\u001b[39m█\u001b[34m▇\u001b[39m\u001b[39m▇\u001b[39m▅\u001b[39m▄\u001b[39m▂\u001b[32m▁\u001b[39m\u001b[39m▁\u001b[39m \u001b[39m \u001b[39m \u001b[39m \u001b[39m \u001b[39m \u001b[39m \u001b[39m \u001b[39m \u001b[39m \u001b[39m \u001b[39m \u001b[39m \u001b[39m \u001b[39m \u001b[39m \u001b[39m \u001b[39m \u001b[39m \u001b[39m \u001b[39m \u001b[39m \u001b[39m \u001b[39m \u001b[39m \u001b[39m \u001b[39m \u001b[39m \u001b[39m \u001b[39m \u001b[39m \u001b[39m \u001b[39m \u001b[39m \u001b[39m \u001b[39m \u001b[39m \u001b[39m \u001b[39m \u001b[39m \u001b[39m \u001b[39m \u001b[39m \u001b[39m \u001b[39m \u001b[39m \u001b[39m \u001b[39m \u001b[39m \u001b[39m \u001b[39m \u001b[39m \u001b[39m▁\n",
       "  \u001b[39m█\u001b[39m█\u001b[39m█\u001b[34m█\u001b[39m\u001b[39m█\u001b[39m█\u001b[39m█\u001b[39m█\u001b[32m█\u001b[39m\u001b[39m█\u001b[39m█\u001b[39m▇\u001b[39m▆\u001b[39m▇\u001b[39m▇\u001b[39m▅\u001b[39m▆\u001b[39m▄\u001b[39m▆\u001b[39m▄\u001b[39m▃\u001b[39m▄\u001b[39m▅\u001b[39m▆\u001b[39m▆\u001b[39m▆\u001b[39m▅\u001b[39m▆\u001b[39m▆\u001b[39m▆\u001b[39m▆\u001b[39m▅\u001b[39m▆\u001b[39m▅\u001b[39m▇\u001b[39m▆\u001b[39m▆\u001b[39m▇\u001b[39m▆\u001b[39m▆\u001b[39m▆\u001b[39m▆\u001b[39m█\u001b[39m▇\u001b[39m▆\u001b[39m▇\u001b[39m▇\u001b[39m▆\u001b[39m▇\u001b[39m▆\u001b[39m▆\u001b[39m▅\u001b[39m▆\u001b[39m▆\u001b[39m▆\u001b[39m▆\u001b[39m▆\u001b[39m▅\u001b[39m▆\u001b[39m▆\u001b[39m▅\u001b[39m \u001b[39m█\n",
       "  807 μs\u001b[90m        \u001b[39m\u001b[90mHistogram: \u001b[39m\u001b[90m\u001b[1mlog(\u001b[22m\u001b[39m\u001b[90mfrequency\u001b[39m\u001b[90m\u001b[1m)\u001b[22m\u001b[39m\u001b[90m by time\u001b[39m       3.94 ms \u001b[0m\u001b[1m<\u001b[22m\n",
       "\n",
       " Memory estimate\u001b[90m: \u001b[39m\u001b[33m5.50 MiB\u001b[39m, allocs estimate\u001b[90m: \u001b[39m\u001b[33m111\u001b[39m."
      ]
     },
     "execution_count": 11,
     "metadata": {},
     "output_type": "execute_result"
    }
   ],
   "source": [
    "z = rand(Float32, n_z1_z2, n_k)\n",
    "y = FFTW.plan_r2r(z, FFTW.DHT, [2])\n",
    "@benchmark $y*$z"
   ]
  },
  {
   "cell_type": "markdown",
   "id": "f041a65b-ee30-43b6-ad56-60a026f0122b",
   "metadata": {},
   "source": [
    "Why working with floats would improve performance?"
   ]
  },
  {
   "cell_type": "markdown",
   "id": "49e4a88b-f10e-459f-a2fd-2b9ad99d5bf4",
   "metadata": {},
   "source": [
    "### Benchmark sull'integrale in k interno"
   ]
  },
  {
   "cell_type": "markdown",
   "id": "143886da-8ae5-4341-b22a-3f1148c650f6",
   "metadata": {},
   "source": [
    "Some improvements, but nothing dramatic. So,  next step: matrix multiplication to perform the integrals!\n",
    "\n",
    "$$\n",
    "w(\\ell, \\chi_1, \\chi_2)=\\sum_{n=0}^{N_\\mathrm{max}}c_n(\\chi_1, \\chi_2)\\int d k \\,T_n(k) j_{\\ell}\\left(k \\chi_1\\right)j_{\\ell}\\left(k \\chi_2\\right)\n",
    "$$\n",
    "We can define\n",
    "$$\n",
    "\\hat{T}_n(\\ell,\\chi_1,\\chi_2)\\equiv\\int d k \\,T_n(k) j_{\\ell}\\left(k \\chi_1\\right)j_{\\ell}\\left(k \\chi_2\\right)\n",
    "$$\n",
    "from which follows\n",
    "$$\n",
    "w(\\ell, \\chi_1, \\chi_2)=\\sum_{n=0}^{N_\\mathrm{max}}c_n(\\chi_1, \\chi_2)\\hat{T}_n(\\ell,\\chi_1,\\chi_2)\n",
    "$$\n",
    "We can compute this is a tensor contraction"
   ]
  },
  {
   "cell_type": "code",
   "execution_count": 12,
   "id": "f6749806-7353-40a0-96e2-bbf961af8dcf",
   "metadata": {},
   "outputs": [
    {
     "data": {
      "text/plain": [
       "w_ell_computation_tullio (generic function with 1 method)"
      ]
     },
     "execution_count": 12,
     "metadata": {},
     "output_type": "execute_result"
    }
   ],
   "source": [
    "w = zeros(n_l, n_z1, n_z2) #projected matter density \n",
    "c = rand(n_z1, n_z2, n_k) # matrice con i coefficienti di Cheb, il terzo indice è il numero di punti in k legato al grado del polinomio\n",
    "T = rand(n_l, n_z1, n_z2, n_k) #integrali numerici\n",
    "\n",
    "function w_ell_computation!(w, c, T) #punto esclamativo: void function, non ritorna nulla ma modifica il primo argomento\n",
    "    @fastmath @inbounds for i ∈ axes(T,1), j ∈ axes(T,2), k ∈ axes(T,3) #baseline version\n",
    "        Cmn = zero(eltype(c))\n",
    "        for l ∈ axes(T,4)\n",
    "            Cmn += c[j,k,l] * T[i,j,k,l]\n",
    "        end\n",
    "        w[i,j,k] = Cmn\n",
    "    end\n",
    "end\n",
    "\n",
    "function w_ell_computation_turbo!(w, c, T)\n",
    "    @turbo for i ∈ axes(T,1), j ∈ axes(T,2), k ∈ axes(T,3) #turbo: macro che ottimizza la performance\n",
    "        Cmn = zero(eltype(c))\n",
    "        for l ∈ axes(T,4)\n",
    "            Cmn += c[j,k,l] * T[i,j,k,l]\n",
    "        end\n",
    "        w[i,j,k] = Cmn\n",
    "    end\n",
    "end\n",
    "\n",
    "function w_ell_computation_tturbo!(w, c, T)\n",
    "    @tturbo for i ∈ axes(T,1), j ∈ axes(T,2), k ∈ axes(T,3) #thread turbo->sfrutto più threads\n",
    "        Cmn = zero(eltype(c))\n",
    "        for l ∈ axes(T,4)\n",
    "            Cmn += c[j,k,l] * T[i,j,k,l]\n",
    "        end\n",
    "        w[i,j,k] = Cmn\n",
    "    end\n",
    "end\n",
    "\n",
    "function w_ell_computation_tullio(c, T)\n",
    "    return @tullio w[i,j,k] := c[j,k,l] * T[i,j,k,l] #pacchetto comodo per authomatic diff. qui non efficientissimo.\n",
    "end                                                  #fa contrazioni di indici alla einstein"
   ]
  },
  {
   "cell_type": "code",
   "execution_count": 13,
   "id": "36853ee1-bf00-4a7d-a9c6-cfaec6494332",
   "metadata": {},
   "outputs": [
    {
     "data": {
      "text/plain": [
       "BenchmarkTools.Trial: 40 samples with 1 evaluation.\n",
       " Range \u001b[90m(\u001b[39m\u001b[36m\u001b[1mmin\u001b[22m\u001b[39m … \u001b[35mmax\u001b[39m\u001b[90m):  \u001b[39m\u001b[36m\u001b[1m120.445 ms\u001b[22m\u001b[39m … \u001b[35m137.288 ms\u001b[39m  \u001b[90m┊\u001b[39m GC \u001b[90m(\u001b[39mmin … max\u001b[90m): \u001b[39m0.00% … 0.00%\n",
       " Time  \u001b[90m(\u001b[39m\u001b[34m\u001b[1mmedian\u001b[22m\u001b[39m\u001b[90m):     \u001b[39m\u001b[34m\u001b[1m128.583 ms               \u001b[22m\u001b[39m\u001b[90m┊\u001b[39m GC \u001b[90m(\u001b[39mmedian\u001b[90m):    \u001b[39m0.00%\n",
       " Time  \u001b[90m(\u001b[39m\u001b[32m\u001b[1mmean\u001b[22m\u001b[39m ± \u001b[32mσ\u001b[39m\u001b[90m):   \u001b[39m\u001b[32m\u001b[1m128.154 ms\u001b[22m\u001b[39m ± \u001b[32m  5.382 ms\u001b[39m  \u001b[90m┊\u001b[39m GC \u001b[90m(\u001b[39mmean ± σ\u001b[90m):  \u001b[39m0.00% ± 0.00%\n",
       "\n",
       "  \u001b[39m▁\u001b[39m█\u001b[39m▁\u001b[39m \u001b[39m \u001b[39m \u001b[39m \u001b[39m \u001b[39m \u001b[39m \u001b[39m \u001b[39m \u001b[39m▁\u001b[39m \u001b[39m \u001b[39m \u001b[39m \u001b[39m \u001b[39m \u001b[39m▁\u001b[39m \u001b[39m \u001b[39m \u001b[39m \u001b[39m \u001b[39m \u001b[39m \u001b[34m \u001b[39m\u001b[32m \u001b[39m\u001b[39m \u001b[39m \u001b[39m \u001b[39m \u001b[39m \u001b[39m \u001b[39m \u001b[39m▁\u001b[39m \u001b[39m \u001b[39m \u001b[39m \u001b[39m▁\u001b[39m \u001b[39m▁\u001b[39m \u001b[39m \u001b[39m \u001b[39m \u001b[39m▁\u001b[39m \u001b[39m▁\u001b[39m \u001b[39m \u001b[39m \u001b[39m \u001b[39m \u001b[39m \u001b[39m \u001b[39m \u001b[39m \u001b[39m \u001b[39m \u001b[39m \n",
       "  \u001b[39m█\u001b[39m█\u001b[39m█\u001b[39m▁\u001b[39m▆\u001b[39m▁\u001b[39m▁\u001b[39m▁\u001b[39m▆\u001b[39m▁\u001b[39m▁\u001b[39m▆\u001b[39m█\u001b[39m▆\u001b[39m▁\u001b[39m▁\u001b[39m▁\u001b[39m▁\u001b[39m▁\u001b[39m█\u001b[39m▆\u001b[39m▁\u001b[39m▆\u001b[39m▁\u001b[39m▁\u001b[39m▆\u001b[39m▁\u001b[34m▆\u001b[39m\u001b[32m▁\u001b[39m\u001b[39m▁\u001b[39m▁\u001b[39m▆\u001b[39m▁\u001b[39m▁\u001b[39m▁\u001b[39m▁\u001b[39m█\u001b[39m▆\u001b[39m▁\u001b[39m▁\u001b[39m▁\u001b[39m█\u001b[39m▆\u001b[39m█\u001b[39m▁\u001b[39m▆\u001b[39m▆\u001b[39m▆\u001b[39m█\u001b[39m▆\u001b[39m█\u001b[39m▆\u001b[39m▁\u001b[39m▆\u001b[39m▁\u001b[39m▁\u001b[39m▁\u001b[39m▁\u001b[39m▁\u001b[39m▁\u001b[39m▆\u001b[39m \u001b[39m▁\n",
       "  120 ms\u001b[90m           Histogram: frequency by time\u001b[39m          137 ms \u001b[0m\u001b[1m<\u001b[22m\n",
       "\n",
       " Memory estimate\u001b[90m: \u001b[39m\u001b[33m0 bytes\u001b[39m, allocs estimate\u001b[90m: \u001b[39m\u001b[33m0\u001b[39m."
      ]
     },
     "execution_count": 13,
     "metadata": {},
     "output_type": "execute_result"
    }
   ],
   "source": [
    "@benchmark w_ell_computation!(w, c, T)"
   ]
  },
  {
   "cell_type": "code",
   "execution_count": 14,
   "id": "2bf1ce80-7622-4621-b99d-1fd6634064a7",
   "metadata": {},
   "outputs": [
    {
     "data": {
      "text/plain": [
       "BenchmarkTools.Trial: 505 samples with 1 evaluation.\n",
       " Range \u001b[90m(\u001b[39m\u001b[36m\u001b[1mmin\u001b[22m\u001b[39m … \u001b[35mmax\u001b[39m\u001b[90m):  \u001b[39m\u001b[36m\u001b[1m9.708 ms\u001b[22m\u001b[39m … \u001b[35m 12.221 ms\u001b[39m  \u001b[90m┊\u001b[39m GC \u001b[90m(\u001b[39mmin … max\u001b[90m): \u001b[39m0.00% … 0.00%\n",
       " Time  \u001b[90m(\u001b[39m\u001b[34m\u001b[1mmedian\u001b[22m\u001b[39m\u001b[90m):     \u001b[39m\u001b[34m\u001b[1m9.797 ms               \u001b[22m\u001b[39m\u001b[90m┊\u001b[39m GC \u001b[90m(\u001b[39mmedian\u001b[90m):    \u001b[39m0.00%\n",
       " Time  \u001b[90m(\u001b[39m\u001b[32m\u001b[1mmean\u001b[22m\u001b[39m ± \u001b[32mσ\u001b[39m\u001b[90m):   \u001b[39m\u001b[32m\u001b[1m9.911 ms\u001b[22m\u001b[39m ± \u001b[32m304.299 μs\u001b[39m  \u001b[90m┊\u001b[39m GC \u001b[90m(\u001b[39mmean ± σ\u001b[90m):  \u001b[39m0.00% ± 0.00%\n",
       "\n",
       "  \u001b[39m▄\u001b[39m█\u001b[39m▇\u001b[34m▆\u001b[39m\u001b[39m▄\u001b[39m▄\u001b[39m▃\u001b[32m▃\u001b[39m\u001b[39m▃\u001b[39m▂\u001b[39m▁\u001b[39m▁\u001b[39m \u001b[39m▁\u001b[39m \u001b[39m \u001b[39m \u001b[39m \u001b[39m \u001b[39m \u001b[39m \u001b[39m \u001b[39m \u001b[39m \u001b[39m \u001b[39m \u001b[39m \u001b[39m \u001b[39m \u001b[39m \u001b[39m \u001b[39m \u001b[39m \u001b[39m \u001b[39m \u001b[39m \u001b[39m \u001b[39m \u001b[39m \u001b[39m \u001b[39m \u001b[39m \u001b[39m \u001b[39m \u001b[39m \u001b[39m \u001b[39m \u001b[39m \u001b[39m \u001b[39m \u001b[39m \u001b[39m \u001b[39m \u001b[39m \u001b[39m \u001b[39m \u001b[39m \u001b[39m \u001b[39m \u001b[39m \u001b[39m \n",
       "  \u001b[39m█\u001b[39m█\u001b[39m█\u001b[34m█\u001b[39m\u001b[39m█\u001b[39m█\u001b[39m█\u001b[32m█\u001b[39m\u001b[39m█\u001b[39m█\u001b[39m█\u001b[39m█\u001b[39m▇\u001b[39m█\u001b[39m▇\u001b[39m▇\u001b[39m▄\u001b[39m▇\u001b[39m▄\u001b[39m▅\u001b[39m▇\u001b[39m▄\u001b[39m▆\u001b[39m▅\u001b[39m▄\u001b[39m▅\u001b[39m▁\u001b[39m▄\u001b[39m▅\u001b[39m▄\u001b[39m▄\u001b[39m▄\u001b[39m▄\u001b[39m▆\u001b[39m▄\u001b[39m▁\u001b[39m▄\u001b[39m▁\u001b[39m▄\u001b[39m▅\u001b[39m▄\u001b[39m▁\u001b[39m▁\u001b[39m▁\u001b[39m▅\u001b[39m▅\u001b[39m▄\u001b[39m▁\u001b[39m▁\u001b[39m▁\u001b[39m▁\u001b[39m▄\u001b[39m▁\u001b[39m▁\u001b[39m▁\u001b[39m▄\u001b[39m▁\u001b[39m▁\u001b[39m▅\u001b[39m \u001b[39m▇\n",
       "  9.71 ms\u001b[90m      \u001b[39m\u001b[90mHistogram: \u001b[39m\u001b[90m\u001b[1mlog(\u001b[22m\u001b[39m\u001b[90mfrequency\u001b[39m\u001b[90m\u001b[1m)\u001b[22m\u001b[39m\u001b[90m by time\u001b[39m      11.3 ms \u001b[0m\u001b[1m<\u001b[22m\n",
       "\n",
       " Memory estimate\u001b[90m: \u001b[39m\u001b[33m0 bytes\u001b[39m, allocs estimate\u001b[90m: \u001b[39m\u001b[33m0\u001b[39m."
      ]
     },
     "execution_count": 14,
     "metadata": {},
     "output_type": "execute_result"
    }
   ],
   "source": [
    "@benchmark w_ell_computation_turbo!(w, c, T)"
   ]
  },
  {
   "cell_type": "markdown",
   "id": "063bcad2-dc9c-439b-9c81-d90762cd0e48",
   "metadata": {},
   "source": [
    "w è una matrice già allocata, quindi non ha usato memoria nuova"
   ]
  },
  {
   "cell_type": "code",
   "execution_count": 15,
   "id": "b591c41d-fd4e-4815-ba44-7e2560b5a877",
   "metadata": {},
   "outputs": [
    {
     "data": {
      "text/plain": [
       "BenchmarkTools.Trial: 501 samples with 1 evaluation.\n",
       " Range \u001b[90m(\u001b[39m\u001b[36m\u001b[1mmin\u001b[22m\u001b[39m … \u001b[35mmax\u001b[39m\u001b[90m):  \u001b[39m\u001b[36m\u001b[1m9.794 ms\u001b[22m\u001b[39m … \u001b[35m 12.264 ms\u001b[39m  \u001b[90m┊\u001b[39m GC \u001b[90m(\u001b[39mmin … max\u001b[90m): \u001b[39m0.00% … 0.00%\n",
       " Time  \u001b[90m(\u001b[39m\u001b[34m\u001b[1mmedian\u001b[22m\u001b[39m\u001b[90m):     \u001b[39m\u001b[34m\u001b[1m9.882 ms               \u001b[22m\u001b[39m\u001b[90m┊\u001b[39m GC \u001b[90m(\u001b[39mmedian\u001b[90m):    \u001b[39m0.00%\n",
       " Time  \u001b[90m(\u001b[39m\u001b[32m\u001b[1mmean\u001b[22m\u001b[39m ± \u001b[32mσ\u001b[39m\u001b[90m):   \u001b[39m\u001b[32m\u001b[1m9.981 ms\u001b[22m\u001b[39m ± \u001b[32m268.718 μs\u001b[39m  \u001b[90m┊\u001b[39m GC \u001b[90m(\u001b[39mmean ± σ\u001b[90m):  \u001b[39m0.00% ± 0.00%\n",
       "\n",
       "  \u001b[39m▃\u001b[39m█\u001b[39m▇\u001b[39m▃\u001b[34m \u001b[39m\u001b[39m \u001b[39m \u001b[39m \u001b[39m \u001b[32m \u001b[39m\u001b[39m \u001b[39m \u001b[39m \u001b[39m \u001b[39m \u001b[39m \u001b[39m \u001b[39m \u001b[39m \u001b[39m \u001b[39m \u001b[39m \u001b[39m \u001b[39m \u001b[39m \u001b[39m \u001b[39m \u001b[39m \u001b[39m \u001b[39m \u001b[39m \u001b[39m \u001b[39m \u001b[39m \u001b[39m \u001b[39m \u001b[39m \u001b[39m \u001b[39m \u001b[39m \u001b[39m \u001b[39m \u001b[39m \u001b[39m \u001b[39m \u001b[39m \u001b[39m \u001b[39m \u001b[39m \u001b[39m \u001b[39m \u001b[39m \u001b[39m \u001b[39m \u001b[39m \u001b[39m \u001b[39m \u001b[39m \u001b[39m \u001b[39m \u001b[39m \n",
       "  \u001b[39m█\u001b[39m█\u001b[39m█\u001b[39m█\u001b[34m█\u001b[39m\u001b[39m▇\u001b[39m▆\u001b[39m▆\u001b[39m▄\u001b[32m▄\u001b[39m\u001b[39m▃\u001b[39m▄\u001b[39m▅\u001b[39m▃\u001b[39m▄\u001b[39m▄\u001b[39m▄\u001b[39m▂\u001b[39m▃\u001b[39m▂\u001b[39m▃\u001b[39m▃\u001b[39m▃\u001b[39m▁\u001b[39m▂\u001b[39m▃\u001b[39m▁\u001b[39m▂\u001b[39m▁\u001b[39m▂\u001b[39m▃\u001b[39m▂\u001b[39m▃\u001b[39m▁\u001b[39m▂\u001b[39m▁\u001b[39m▂\u001b[39m▂\u001b[39m▁\u001b[39m▁\u001b[39m▁\u001b[39m▂\u001b[39m▁\u001b[39m▂\u001b[39m▂\u001b[39m▁\u001b[39m▁\u001b[39m▂\u001b[39m▃\u001b[39m▂\u001b[39m▂\u001b[39m▁\u001b[39m▁\u001b[39m▃\u001b[39m▁\u001b[39m▂\u001b[39m▂\u001b[39m▁\u001b[39m▂\u001b[39m \u001b[39m▃\n",
       "  9.79 ms\u001b[90m         Histogram: frequency by time\u001b[39m        11.1 ms \u001b[0m\u001b[1m<\u001b[22m\n",
       "\n",
       " Memory estimate\u001b[90m: \u001b[39m\u001b[33m0 bytes\u001b[39m, allocs estimate\u001b[90m: \u001b[39m\u001b[33m0\u001b[39m."
      ]
     },
     "execution_count": 15,
     "metadata": {},
     "output_type": "execute_result"
    }
   ],
   "source": [
    "@benchmark w_ell_computation_tturbo!(w, c, T)"
   ]
  },
  {
   "cell_type": "code",
   "execution_count": 16,
   "id": "00383e41-c198-4077-808e-3436ebe6b308",
   "metadata": {},
   "outputs": [
    {
     "data": {
      "text/plain": [
       "BenchmarkTools.Trial: 910 samples with 1 evaluation.\n",
       " Range \u001b[90m(\u001b[39m\u001b[36m\u001b[1mmin\u001b[22m\u001b[39m … \u001b[35mmax\u001b[39m\u001b[90m):  \u001b[39m\u001b[36m\u001b[1m4.613 ms\u001b[22m\u001b[39m … \u001b[35m16.527 ms\u001b[39m  \u001b[90m┊\u001b[39m GC \u001b[90m(\u001b[39mmin … max\u001b[90m): \u001b[39m0.00% … 0.00%\n",
       " Time  \u001b[90m(\u001b[39m\u001b[34m\u001b[1mmedian\u001b[22m\u001b[39m\u001b[90m):     \u001b[39m\u001b[34m\u001b[1m4.993 ms              \u001b[22m\u001b[39m\u001b[90m┊\u001b[39m GC \u001b[90m(\u001b[39mmedian\u001b[90m):    \u001b[39m0.00%\n",
       " Time  \u001b[90m(\u001b[39m\u001b[32m\u001b[1mmean\u001b[22m\u001b[39m ± \u001b[32mσ\u001b[39m\u001b[90m):   \u001b[39m\u001b[32m\u001b[1m5.482 ms\u001b[22m\u001b[39m ± \u001b[32m 1.431 ms\u001b[39m  \u001b[90m┊\u001b[39m GC \u001b[90m(\u001b[39mmean ± σ\u001b[90m):  \u001b[39m1.07% ± 5.13%\n",
       "\n",
       "  \u001b[39m▄\u001b[39m█\u001b[39m▆\u001b[34m▄\u001b[39m\u001b[39m▅\u001b[39m▄\u001b[32m▃\u001b[39m\u001b[39m▃\u001b[39m▁\u001b[39m▂\u001b[39m \u001b[39m▁\u001b[39m \u001b[39m \u001b[39m \u001b[39m \u001b[39m \u001b[39m \u001b[39m \u001b[39m \u001b[39m \u001b[39m \u001b[39m \u001b[39m \u001b[39m \u001b[39m \u001b[39m \u001b[39m \u001b[39m \u001b[39m \u001b[39m \u001b[39m \u001b[39m \u001b[39m \u001b[39m \u001b[39m \u001b[39m \u001b[39m \u001b[39m \u001b[39m \u001b[39m \u001b[39m \u001b[39m \u001b[39m \u001b[39m \u001b[39m \u001b[39m \u001b[39m \u001b[39m \u001b[39m \u001b[39m \u001b[39m \u001b[39m \u001b[39m \u001b[39m \u001b[39m \u001b[39m \u001b[39m \u001b[39m \u001b[39m \n",
       "  \u001b[39m█\u001b[39m█\u001b[39m█\u001b[34m█\u001b[39m\u001b[39m█\u001b[39m█\u001b[32m█\u001b[39m\u001b[39m█\u001b[39m█\u001b[39m█\u001b[39m█\u001b[39m█\u001b[39m█\u001b[39m▆\u001b[39m▇\u001b[39m▆\u001b[39m▄\u001b[39m▅\u001b[39m▅\u001b[39m▅\u001b[39m▅\u001b[39m▅\u001b[39m▄\u001b[39m▄\u001b[39m▄\u001b[39m▁\u001b[39m▁\u001b[39m▅\u001b[39m▄\u001b[39m▄\u001b[39m▄\u001b[39m▄\u001b[39m▅\u001b[39m▅\u001b[39m▄\u001b[39m▆\u001b[39m▄\u001b[39m▅\u001b[39m▁\u001b[39m▄\u001b[39m▁\u001b[39m▁\u001b[39m▄\u001b[39m▄\u001b[39m▄\u001b[39m▁\u001b[39m▁\u001b[39m▁\u001b[39m▁\u001b[39m▄\u001b[39m▁\u001b[39m▄\u001b[39m▁\u001b[39m▁\u001b[39m▁\u001b[39m▁\u001b[39m▄\u001b[39m▄\u001b[39m \u001b[39m█\n",
       "  4.61 ms\u001b[90m      \u001b[39m\u001b[90mHistogram: \u001b[39m\u001b[90m\u001b[1mlog(\u001b[22m\u001b[39m\u001b[90mfrequency\u001b[39m\u001b[90m\u001b[1m)\u001b[22m\u001b[39m\u001b[90m by time\u001b[39m     13.3 ms \u001b[0m\u001b[1m<\u001b[22m\n",
       "\n",
       " Memory estimate\u001b[90m: \u001b[39m\u001b[33m1.55 MiB\u001b[39m, allocs estimate\u001b[90m: \u001b[39m\u001b[33m109\u001b[39m."
      ]
     },
     "execution_count": 16,
     "metadata": {},
     "output_type": "execute_result"
    }
   ],
   "source": [
    "@benchmark w_ell_computation_tullio(c, T)"
   ]
  },
  {
   "cell_type": "markdown",
   "id": "bf4c8f16-da9b-499c-8fa5-db168cf6a6b9",
   "metadata": {},
   "source": [
    "Nice! We now need to do the final integration! Again, this is cast as a tensor contraction"
   ]
  },
  {
   "cell_type": "markdown",
   "id": "c843b8ec-94aa-4489-8bd8-0af45634a143",
   "metadata": {},
   "source": [
    "### Benchmark for $\\chi_{1,2}$ integrals"
   ]
  },
  {
   "cell_type": "code",
   "execution_count": 17,
   "id": "3d11e803-1308-4217-8653-b824ff412b76",
   "metadata": {},
   "outputs": [
    {
     "data": {
      "text/plain": [
       "C_ell_computation_tullio (generic function with 1 method)"
      ]
     },
     "execution_count": 17,
     "metadata": {},
     "output_type": "execute_result"
    }
   ],
   "source": [
    "w = rand(n_l, n_z1, n_z2) \n",
    "WA = rand(n_tomo1, n_z1) #window functions\n",
    "WB = rand(n_tomo2, n_z2)\n",
    "c = rand(n_z1, n_z2, n_k) \n",
    "T = rand(n_l, n_z1, n_z2, n_k)\n",
    "Cℓ = zeros(n_l, n_tomo1, n_tomo2) #C_l computation\n",
    "\n",
    "function C_ell_computation!(Cℓ, w, WA, WB)\n",
    "    for i ∈ axes(w,1), j ∈ axes(WA,1), k ∈ axes(WB,1)\n",
    "        Cmn = zero(eltype(w))\n",
    "        for l ∈ axes(WA,2)\n",
    "            for m ∈ axes(WB,2)\n",
    "                Cmn += w[i,l,m]*WA[j,l]*WB[k,m]\n",
    "            end\n",
    "        end\n",
    "        Cℓ[i,j,k] = Cmn\n",
    "    end\n",
    "end\n",
    "\n",
    "function C_ell_computation_turbo!(Cℓ, w, WA, WB)\n",
    "    @turbo for i ∈ axes(w,1), j ∈ axes(WA,1), k ∈ axes(WB,1)\n",
    "        Cmn = zero(eltype(w))\n",
    "        for l ∈ axes(WA,2)\n",
    "            for m ∈ axes(WB,2)\n",
    "                Cmn += w[i,l,m]*WA[j,l]*WB[k,m]\n",
    "            end\n",
    "        end\n",
    "        Cℓ[i,j,k] = Cmn\n",
    "    end\n",
    "end\n",
    "\n",
    "function C_ell_computation_tturbo!(Cℓ, w, WA, WB)\n",
    "    @tturbo for i ∈ axes(w,1), j ∈ axes(WA,1), k ∈ axes(WB,1)\n",
    "        Cmn = zero(eltype(w))\n",
    "        for l ∈ axes(WA,2)\n",
    "            for m ∈ axes(WB,2)\n",
    "                Cmn += w[i,l,m]*WA[j,l]*WB[k,m]\n",
    "            end\n",
    "        end\n",
    "        Cℓ[i,j,k] = Cmn\n",
    "    end\n",
    "end\n",
    "\n",
    "function C_ell_computation_tullio(w, WA, WB)\n",
    "    @tullio Cℓ[i,j,k] := w[i,l,m]*WA[j,l]*WB[k,m]\n",
    "end"
   ]
  },
  {
   "cell_type": "code",
   "execution_count": 18,
   "id": "9fa5128d-c33f-44c5-8a6f-851da9e6f2cb",
   "metadata": {},
   "outputs": [
    {
     "data": {
      "text/plain": [
       "BenchmarkTools.Trial: 512 samples with 1 evaluation.\n",
       " Range \u001b[90m(\u001b[39m\u001b[36m\u001b[1mmin\u001b[22m\u001b[39m … \u001b[35mmax\u001b[39m\u001b[90m):  \u001b[39m\u001b[36m\u001b[1m9.634 ms\u001b[22m\u001b[39m … \u001b[35m10.069 ms\u001b[39m  \u001b[90m┊\u001b[39m GC \u001b[90m(\u001b[39mmin … max\u001b[90m): \u001b[39m0.00% … 0.00%\n",
       " Time  \u001b[90m(\u001b[39m\u001b[34m\u001b[1mmedian\u001b[22m\u001b[39m\u001b[90m):     \u001b[39m\u001b[34m\u001b[1m9.792 ms              \u001b[22m\u001b[39m\u001b[90m┊\u001b[39m GC \u001b[90m(\u001b[39mmedian\u001b[90m):    \u001b[39m0.00%\n",
       " Time  \u001b[90m(\u001b[39m\u001b[32m\u001b[1mmean\u001b[22m\u001b[39m ± \u001b[32mσ\u001b[39m\u001b[90m):   \u001b[39m\u001b[32m\u001b[1m9.772 ms\u001b[22m\u001b[39m ± \u001b[32m85.493 μs\u001b[39m  \u001b[90m┊\u001b[39m GC \u001b[90m(\u001b[39mmean ± σ\u001b[90m):  \u001b[39m0.00% ± 0.00%\n",
       "\n",
       "  \u001b[39m▅\u001b[39m▅\u001b[39m▃\u001b[39m▃\u001b[39m▁\u001b[39m▁\u001b[39m \u001b[39m \u001b[39m \u001b[39m \u001b[39m \u001b[39m \u001b[39m \u001b[39m \u001b[39m \u001b[39m \u001b[39m \u001b[39m \u001b[39m \u001b[39m \u001b[32m \u001b[39m\u001b[39m \u001b[39m█\u001b[34m▇\u001b[39m\u001b[39m▆\u001b[39m▄\u001b[39m▄\u001b[39m▄\u001b[39m▂\u001b[39m \u001b[39m \u001b[39m \u001b[39m \u001b[39m \u001b[39m \u001b[39m \u001b[39m \u001b[39m \u001b[39m \u001b[39m \u001b[39m \u001b[39m \u001b[39m \u001b[39m \u001b[39m \u001b[39m \u001b[39m \u001b[39m \u001b[39m \u001b[39m \u001b[39m \u001b[39m \u001b[39m \u001b[39m \u001b[39m \u001b[39m \u001b[39m \u001b[39m \u001b[39m \u001b[39m \n",
       "  \u001b[39m█\u001b[39m█\u001b[39m█\u001b[39m█\u001b[39m█\u001b[39m█\u001b[39m█\u001b[39m█\u001b[39m▇\u001b[39m█\u001b[39m▁\u001b[39m▅\u001b[39m▄\u001b[39m▅\u001b[39m▅\u001b[39m▅\u001b[39m▄\u001b[39m▅\u001b[39m▄\u001b[39m▅\u001b[32m▄\u001b[39m\u001b[39m▆\u001b[39m█\u001b[34m█\u001b[39m\u001b[39m█\u001b[39m█\u001b[39m█\u001b[39m█\u001b[39m█\u001b[39m█\u001b[39m█\u001b[39m█\u001b[39m▇\u001b[39m▁\u001b[39m▄\u001b[39m▁\u001b[39m▅\u001b[39m▄\u001b[39m▁\u001b[39m▄\u001b[39m▅\u001b[39m▄\u001b[39m▄\u001b[39m█\u001b[39m▆\u001b[39m▅\u001b[39m▅\u001b[39m▅\u001b[39m▄\u001b[39m▁\u001b[39m▁\u001b[39m▄\u001b[39m▁\u001b[39m▄\u001b[39m▅\u001b[39m▄\u001b[39m▁\u001b[39m▄\u001b[39m \u001b[39m█\n",
       "  9.63 ms\u001b[90m      \u001b[39m\u001b[90mHistogram: \u001b[39m\u001b[90m\u001b[1mlog(\u001b[22m\u001b[39m\u001b[90mfrequency\u001b[39m\u001b[90m\u001b[1m)\u001b[22m\u001b[39m\u001b[90m by time\u001b[39m       10 ms \u001b[0m\u001b[1m<\u001b[22m\n",
       "\n",
       " Memory estimate\u001b[90m: \u001b[39m\u001b[33m0 bytes\u001b[39m, allocs estimate\u001b[90m: \u001b[39m\u001b[33m0\u001b[39m."
      ]
     },
     "execution_count": 18,
     "metadata": {},
     "output_type": "execute_result"
    }
   ],
   "source": [
    "@benchmark C_ell_computation!(Cℓ, w, WA, WB)"
   ]
  },
  {
   "cell_type": "code",
   "execution_count": 19,
   "id": "4ddf02c5-a56e-4bc8-b188-8296d6191e21",
   "metadata": {},
   "outputs": [
    {
     "data": {
      "text/plain": [
       "BenchmarkTools.Trial: 6150 samples with 1 evaluation.\n",
       " Range \u001b[90m(\u001b[39m\u001b[36m\u001b[1mmin\u001b[22m\u001b[39m … \u001b[35mmax\u001b[39m\u001b[90m):  \u001b[39m\u001b[36m\u001b[1m802.791 μs\u001b[22m\u001b[39m … \u001b[35m938.959 μs\u001b[39m  \u001b[90m┊\u001b[39m GC \u001b[90m(\u001b[39mmin … max\u001b[90m): \u001b[39m0.00% … 0.00%\n",
       " Time  \u001b[90m(\u001b[39m\u001b[34m\u001b[1mmedian\u001b[22m\u001b[39m\u001b[90m):     \u001b[39m\u001b[34m\u001b[1m807.208 μs               \u001b[22m\u001b[39m\u001b[90m┊\u001b[39m GC \u001b[90m(\u001b[39mmedian\u001b[90m):    \u001b[39m0.00%\n",
       " Time  \u001b[90m(\u001b[39m\u001b[32m\u001b[1mmean\u001b[22m\u001b[39m ± \u001b[32mσ\u001b[39m\u001b[90m):   \u001b[39m\u001b[32m\u001b[1m812.045 μs\u001b[22m\u001b[39m ± \u001b[32m 11.060 μs\u001b[39m  \u001b[90m┊\u001b[39m GC \u001b[90m(\u001b[39mmean ± σ\u001b[90m):  \u001b[39m0.00% ± 0.00%\n",
       "\n",
       "  \u001b[39m█\u001b[39m▆\u001b[39m▄\u001b[39m▅\u001b[39m▆\u001b[39m▂\u001b[34m▄\u001b[39m\u001b[39m▁\u001b[39m \u001b[39m▂\u001b[39m▂\u001b[39m▁\u001b[32m▁\u001b[39m\u001b[39m▁\u001b[39m \u001b[39m \u001b[39m▃\u001b[39m▇\u001b[39m▅\u001b[39m▃\u001b[39m▄\u001b[39m▄\u001b[39m▂\u001b[39m▂\u001b[39m▂\u001b[39m▁\u001b[39m▁\u001b[39m \u001b[39m \u001b[39m▁\u001b[39m \u001b[39m \u001b[39m \u001b[39m \u001b[39m \u001b[39m \u001b[39m \u001b[39m \u001b[39m \u001b[39m \u001b[39m \u001b[39m \u001b[39m \u001b[39m \u001b[39m \u001b[39m \u001b[39m \u001b[39m \u001b[39m \u001b[39m \u001b[39m \u001b[39m \u001b[39m \u001b[39m \u001b[39m \u001b[39m \u001b[39m▁\u001b[39m▁\u001b[39m \u001b[39m \u001b[39m \u001b[39m \u001b[39m▂\n",
       "  \u001b[39m█\u001b[39m█\u001b[39m█\u001b[39m█\u001b[39m█\u001b[39m█\u001b[34m█\u001b[39m\u001b[39m█\u001b[39m█\u001b[39m█\u001b[39m█\u001b[39m█\u001b[32m█\u001b[39m\u001b[39m█\u001b[39m▇\u001b[39m▆\u001b[39m█\u001b[39m█\u001b[39m█\u001b[39m█\u001b[39m█\u001b[39m█\u001b[39m█\u001b[39m█\u001b[39m█\u001b[39m█\u001b[39m█\u001b[39m█\u001b[39m█\u001b[39m█\u001b[39m█\u001b[39m█\u001b[39m█\u001b[39m█\u001b[39m█\u001b[39m▇\u001b[39m▇\u001b[39m▇\u001b[39m▇\u001b[39m▇\u001b[39m▆\u001b[39m▅\u001b[39m▅\u001b[39m▅\u001b[39m▆\u001b[39m▅\u001b[39m▆\u001b[39m▅\u001b[39m▅\u001b[39m▆\u001b[39m▃\u001b[39m▇\u001b[39m▅\u001b[39m▆\u001b[39m▁\u001b[39m▅\u001b[39m█\u001b[39m█\u001b[39m█\u001b[39m▇\u001b[39m▇\u001b[39m \u001b[39m█\n",
       "  803 μs\u001b[90m        \u001b[39m\u001b[90mHistogram: \u001b[39m\u001b[90m\u001b[1mlog(\u001b[22m\u001b[39m\u001b[90mfrequency\u001b[39m\u001b[90m\u001b[1m)\u001b[22m\u001b[39m\u001b[90m by time\u001b[39m        850 μs \u001b[0m\u001b[1m<\u001b[22m\n",
       "\n",
       " Memory estimate\u001b[90m: \u001b[39m\u001b[33m0 bytes\u001b[39m, allocs estimate\u001b[90m: \u001b[39m\u001b[33m0\u001b[39m."
      ]
     },
     "execution_count": 19,
     "metadata": {},
     "output_type": "execute_result"
    }
   ],
   "source": [
    "@benchmark C_ell_computation_turbo!(Cℓ, w, WA, WB)"
   ]
  },
  {
   "cell_type": "code",
   "execution_count": 20,
   "id": "897bd314-83cb-4a54-b89e-e81612ea8bbf",
   "metadata": {},
   "outputs": [
    {
     "data": {
      "text/plain": [
       "BenchmarkTools.Trial: 10000 samples with 1 evaluation.\n",
       " Range \u001b[90m(\u001b[39m\u001b[36m\u001b[1mmin\u001b[22m\u001b[39m … \u001b[35mmax\u001b[39m\u001b[90m):  \u001b[39m\u001b[36m\u001b[1m259.500 μs\u001b[22m\u001b[39m … \u001b[35m782.667 μs\u001b[39m  \u001b[90m┊\u001b[39m GC \u001b[90m(\u001b[39mmin … max\u001b[90m): \u001b[39m0.00% … 0.00%\n",
       " Time  \u001b[90m(\u001b[39m\u001b[34m\u001b[1mmedian\u001b[22m\u001b[39m\u001b[90m):     \u001b[39m\u001b[34m\u001b[1m275.625 μs               \u001b[22m\u001b[39m\u001b[90m┊\u001b[39m GC \u001b[90m(\u001b[39mmedian\u001b[90m):    \u001b[39m0.00%\n",
       " Time  \u001b[90m(\u001b[39m\u001b[32m\u001b[1mmean\u001b[22m\u001b[39m ± \u001b[32mσ\u001b[39m\u001b[90m):   \u001b[39m\u001b[32m\u001b[1m279.836 μs\u001b[22m\u001b[39m ± \u001b[32m 14.816 μs\u001b[39m  \u001b[90m┊\u001b[39m GC \u001b[90m(\u001b[39mmean ± σ\u001b[90m):  \u001b[39m0.00% ± 0.00%\n",
       "\n",
       "  \u001b[39m▄\u001b[39m▁\u001b[39m \u001b[39m \u001b[39m \u001b[39m \u001b[39m \u001b[39m \u001b[39m \u001b[39m \u001b[39m \u001b[39m \u001b[39m \u001b[39m \u001b[39m \u001b[39m \u001b[39m \u001b[39m▁\u001b[39m▁\u001b[39m▄\u001b[39m█\u001b[34m▅\u001b[39m\u001b[39m▂\u001b[39m▄\u001b[39m▃\u001b[39m▄\u001b[32m▁\u001b[39m\u001b[39m▄\u001b[39m▃\u001b[39m▃\u001b[39m▁\u001b[39m▂\u001b[39m▃\u001b[39m▁\u001b[39m▂\u001b[39m▁\u001b[39m \u001b[39m \u001b[39m \u001b[39m \u001b[39m \u001b[39m \u001b[39m \u001b[39m \u001b[39m▂\u001b[39m▄\u001b[39m▁\u001b[39m \u001b[39m \u001b[39m \u001b[39m▁\u001b[39m \u001b[39m \u001b[39m▁\u001b[39m \u001b[39m \u001b[39m \u001b[39m \u001b[39m \u001b[39m \u001b[39m▂\u001b[39m \u001b[39m▁\n",
       "  \u001b[39m█\u001b[39m█\u001b[39m▆\u001b[39m▆\u001b[39m█\u001b[39m▄\u001b[39m▅\u001b[39m▄\u001b[39m▃\u001b[39m▄\u001b[39m▃\u001b[39m▅\u001b[39m▇\u001b[39m▇\u001b[39m█\u001b[39m▆\u001b[39m▇\u001b[39m█\u001b[39m█\u001b[39m█\u001b[39m█\u001b[34m█\u001b[39m\u001b[39m█\u001b[39m█\u001b[39m█\u001b[39m█\u001b[32m█\u001b[39m\u001b[39m█\u001b[39m█\u001b[39m█\u001b[39m█\u001b[39m█\u001b[39m█\u001b[39m█\u001b[39m█\u001b[39m█\u001b[39m█\u001b[39m▆\u001b[39m▇\u001b[39m▆\u001b[39m▆\u001b[39m▆\u001b[39m▅\u001b[39m▆\u001b[39m█\u001b[39m█\u001b[39m█\u001b[39m▇\u001b[39m█\u001b[39m█\u001b[39m█\u001b[39m▆\u001b[39m▇\u001b[39m█\u001b[39m▇\u001b[39m▆\u001b[39m█\u001b[39m▇\u001b[39m▇\u001b[39m▆\u001b[39m█\u001b[39m \u001b[39m█\n",
       "  260 μs\u001b[90m        \u001b[39m\u001b[90mHistogram: \u001b[39m\u001b[90m\u001b[1mlog(\u001b[22m\u001b[39m\u001b[90mfrequency\u001b[39m\u001b[90m\u001b[1m)\u001b[22m\u001b[39m\u001b[90m by time\u001b[39m        307 μs \u001b[0m\u001b[1m<\u001b[22m\n",
       "\n",
       " Memory estimate\u001b[90m: \u001b[39m\u001b[33m0 bytes\u001b[39m, allocs estimate\u001b[90m: \u001b[39m\u001b[33m0\u001b[39m."
      ]
     },
     "execution_count": 20,
     "metadata": {},
     "output_type": "execute_result"
    }
   ],
   "source": [
    "@benchmark C_ell_computation_tturbo!(Cℓ, w, WA, WB)"
   ]
  },
  {
   "cell_type": "code",
   "execution_count": 21,
   "id": "be14bbac-8676-4190-bb08-54411f4a2f1b",
   "metadata": {},
   "outputs": [
    {
     "data": {
      "text/plain": [
       "BenchmarkTools.Trial: 10000 samples with 1 evaluation.\n",
       " Range \u001b[90m(\u001b[39m\u001b[36m\u001b[1mmin\u001b[22m\u001b[39m … \u001b[35mmax\u001b[39m\u001b[90m):  \u001b[39m\u001b[36m\u001b[1m287.084 μs\u001b[22m\u001b[39m … \u001b[35m 10.736 ms\u001b[39m  \u001b[90m┊\u001b[39m GC \u001b[90m(\u001b[39mmin … max\u001b[90m): \u001b[39m0.00% … 0.00%\n",
       " Time  \u001b[90m(\u001b[39m\u001b[34m\u001b[1mmedian\u001b[22m\u001b[39m\u001b[90m):     \u001b[39m\u001b[34m\u001b[1m367.875 μs               \u001b[22m\u001b[39m\u001b[90m┊\u001b[39m GC \u001b[90m(\u001b[39mmedian\u001b[90m):    \u001b[39m0.00%\n",
       " Time  \u001b[90m(\u001b[39m\u001b[32m\u001b[1mmean\u001b[22m\u001b[39m ± \u001b[32mσ\u001b[39m\u001b[90m):   \u001b[39m\u001b[32m\u001b[1m415.735 μs\u001b[22m\u001b[39m ± \u001b[32m523.340 μs\u001b[39m  \u001b[90m┊\u001b[39m GC \u001b[90m(\u001b[39mmean ± σ\u001b[90m):  \u001b[39m0.00% ± 0.00%\n",
       "\n",
       "  \u001b[39m \u001b[39m \u001b[39m \u001b[39m \u001b[39m \u001b[39m \u001b[39m \u001b[39m \u001b[39m \u001b[39m \u001b[39m▄\u001b[39m█\u001b[39m▃\u001b[39m▃\u001b[34m█\u001b[39m\u001b[39m▃\u001b[39m \u001b[39m \u001b[39m \u001b[39m \u001b[39m \u001b[39m \u001b[39m \u001b[32m \u001b[39m\u001b[39m \u001b[39m \u001b[39m \u001b[39m \u001b[39m \u001b[39m \u001b[39m \u001b[39m \u001b[39m \u001b[39m \u001b[39m \u001b[39m \u001b[39m \u001b[39m \u001b[39m \u001b[39m \u001b[39m \u001b[39m \u001b[39m \u001b[39m \u001b[39m \u001b[39m \u001b[39m \u001b[39m \u001b[39m \u001b[39m \u001b[39m \u001b[39m \u001b[39m \u001b[39m \u001b[39m \u001b[39m \u001b[39m \u001b[39m \u001b[39m \u001b[39m \u001b[39m \u001b[39m \u001b[39m \n",
       "  \u001b[39m▁\u001b[39m▁\u001b[39m▂\u001b[39m▂\u001b[39m▃\u001b[39m▄\u001b[39m▅\u001b[39m▇\u001b[39m▇\u001b[39m▇\u001b[39m█\u001b[39m█\u001b[39m█\u001b[39m█\u001b[34m█\u001b[39m\u001b[39m█\u001b[39m▆\u001b[39m▅\u001b[39m▆\u001b[39m▅\u001b[39m▄\u001b[39m▄\u001b[39m▃\u001b[32m▃\u001b[39m\u001b[39m▃\u001b[39m▃\u001b[39m▂\u001b[39m▃\u001b[39m▃\u001b[39m▃\u001b[39m▃\u001b[39m▃\u001b[39m▃\u001b[39m▂\u001b[39m▂\u001b[39m▂\u001b[39m▂\u001b[39m▂\u001b[39m▂\u001b[39m▂\u001b[39m▂\u001b[39m▁\u001b[39m▁\u001b[39m▁\u001b[39m▁\u001b[39m▁\u001b[39m▁\u001b[39m▁\u001b[39m▁\u001b[39m▁\u001b[39m▁\u001b[39m▁\u001b[39m▁\u001b[39m▁\u001b[39m▁\u001b[39m▁\u001b[39m▁\u001b[39m▁\u001b[39m▁\u001b[39m▁\u001b[39m▁\u001b[39m \u001b[39m▃\n",
       "  287 μs\u001b[90m           Histogram: frequency by time\u001b[39m          634 μs \u001b[0m\u001b[1m<\u001b[22m\n",
       "\n",
       " Memory estimate\u001b[90m: \u001b[39m\u001b[33m13.78 KiB\u001b[39m, allocs estimate\u001b[90m: \u001b[39m\u001b[33m108\u001b[39m."
      ]
     },
     "execution_count": 21,
     "metadata": {},
     "output_type": "execute_result"
    }
   ],
   "source": [
    "@benchmark C_ell_computation_tullio(w, WA, WB)"
   ]
  },
  {
   "cell_type": "code",
   "execution_count": 37,
   "id": "e0d288f3-7169-41ab-8ac5-e9b14bdd3ff2",
   "metadata": {},
   "outputs": [
    {
     "data": {
      "text/plain": [
       "26-element Vector{Float64}:\n",
       "   2.0\n",
       "   2.739666011768332\n",
       "   4.957934086020933\n",
       "   8.652615059983086\n",
       "  13.820062729597831\n",
       "  20.455177447888648\n",
       "  28.551411157695608\n",
       "  38.10077385381776\n",
       "  49.093841468182184\n",
       "  61.51976517026251\n",
       "  75.36628207356486\n",
       "  90.61972733761604\n",
       " 107.26504765351123\n",
       " 125.2858160997126\n",
       " 144.664248353437\n",
       " 165.3812202416367\n",
       " 187.4162866142485\n",
       " 210.74770152108832\n",
       " 235.35243967247973\n",
       " 261.206219162432\n",
       " 288.28352543195393\n",
       "  20.0\n",
       "  50.0\n",
       " 100.0\n",
       " 200.0\n",
       " 300.0"
      ]
     },
     "execution_count": 37,
     "metadata": {},
     "output_type": "execute_result"
    }
   ],
   "source": [
    "x = chebpoints(100, 2, 3000) # 100: punti da considerare 2:inizio int e fine int dei multipoli \n",
    "ℓ = reverse(x[findall(<(300), x)])#prendo solo punti con l<230 dall'array x \n",
    "b = append!(ℓ, [20., 50., 100., 200., 300.])"
   ]
  },
  {
   "cell_type": "code",
   "execution_count": 38,
   "id": "bd9c5043-e0c4-4ae6-9637-171c1310a63c",
   "metadata": {},
   "outputs": [],
   "source": [
    "using NPZ\n",
    "#b = reverse(x[findall(<(300), x)])+[20, 50, 100, 200, 300]\n",
    "npzwrite(\"ell_vector.npy\", b)"
   ]
  },
  {
   "cell_type": "code",
   "execution_count": 39,
   "id": "dd9c4b0e-2b33-4ccf-841d-bfe075badc18",
   "metadata": {},
   "outputs": [
    {
     "data": {
      "text/plain": [
       "26-element Vector{Float64}:\n",
       "   2.0\n",
       "   2.739666011768332\n",
       "   4.957934086020933\n",
       "   8.652615059983086\n",
       "  13.820062729597831\n",
       "  20.455177447888648\n",
       "  28.551411157695608\n",
       "  38.10077385381776\n",
       "  49.093841468182184\n",
       "  61.51976517026251\n",
       "  75.36628207356486\n",
       "  90.61972733761604\n",
       " 107.26504765351123\n",
       " 125.2858160997126\n",
       " 144.664248353437\n",
       " 165.3812202416367\n",
       " 187.4162866142485\n",
       " 210.74770152108832\n",
       " 235.35243967247973\n",
       " 261.206219162432\n",
       " 288.28352543195393\n",
       "  20.0\n",
       "  50.0\n",
       " 100.0\n",
       " 200.0\n",
       " 300.0"
      ]
     },
     "execution_count": 39,
     "metadata": {},
     "output_type": "execute_result"
    }
   ],
   "source": [
    "npzread(\"ell_vector.npy\")"
   ]
  },
  {
   "cell_type": "markdown",
   "id": "58315bd0-5fa3-4ff3-ae28-8e3c75acf787",
   "metadata": {},
   "source": [
    "100 nodi di cheb da 2 e 3000-> solo 18 sono sotto 230. "
   ]
  },
  {
   "cell_type": "code",
   "execution_count": 22,
   "id": "260d7840-8bb3-46d0-8d12-b6c81e2a3fcb",
   "metadata": {},
   "outputs": [
    {
     "name": "stdout",
     "output_type": "stream",
     "text": [
      "search: \u001b[0m\u001b[1mc\u001b[22m\u001b[0m\u001b[1mh\u001b[22m\u001b[0m\u001b[1me\u001b[22m\u001b[0m\u001b[1mb\u001b[22m\u001b[0m\u001b[1mp\u001b[22m\u001b[0m\u001b[1mo\u001b[22m\u001b[0m\u001b[1mi\u001b[22m\u001b[0m\u001b[1mn\u001b[22m\u001b[0m\u001b[1mt\u001b[22m\u001b[0m\u001b[1ms\u001b[22m\n",
      "\n"
     ]
    },
    {
     "data": {
      "text/latex": [
       "\\begin{verbatim}\n",
       "chebpoints(order, lb, ub)\n",
       "\\end{verbatim}\n",
       "Return an array of Chebyshev points (as \\texttt{SVector} values) for the given \\texttt{order} (an array or tuple of polynomial degrees), and hypercube lower-and upper-bound vectors \\texttt{lb} and \\texttt{ub}. If \\texttt{ub} and \\texttt{lb} are numbers, returns an array of numbers.\n",
       "\n",
       "These are the points where you should evaluate a function in order to create a Chebyshev interpolant with \\texttt{chebinterp}.\n",
       "\n",
       "(Note that the number of points along each dimension is \\texttt{1 +} the order in that direction.)\n",
       "\n"
      ],
      "text/markdown": [
       "```\n",
       "chebpoints(order, lb, ub)\n",
       "```\n",
       "\n",
       "Return an array of Chebyshev points (as `SVector` values) for the given `order` (an array or tuple of polynomial degrees), and hypercube lower-and upper-bound vectors `lb` and `ub`. If `ub` and `lb` are numbers, returns an array of numbers.\n",
       "\n",
       "These are the points where you should evaluate a function in order to create a Chebyshev interpolant with `chebinterp`.\n",
       "\n",
       "(Note that the number of points along each dimension is `1 +` the order in that direction.)\n"
      ],
      "text/plain": [
       "\u001b[36m  chebpoints(order, lb, ub)\u001b[39m\n",
       "\n",
       "  Return an array of Chebyshev points (as \u001b[36mSVector\u001b[39m values) for the given \u001b[36morder\u001b[39m\n",
       "  (an array or tuple of polynomial degrees), and hypercube lower-and\n",
       "  upper-bound vectors \u001b[36mlb\u001b[39m and \u001b[36mub\u001b[39m. If \u001b[36mub\u001b[39m and \u001b[36mlb\u001b[39m are numbers, returns an array of\n",
       "  numbers.\n",
       "\n",
       "  These are the points where you should evaluate a function in order to create\n",
       "  a Chebyshev interpolant with \u001b[36mchebinterp\u001b[39m.\n",
       "\n",
       "  (Note that the number of points along each dimension is \u001b[36m1 +\u001b[39m the order in\n",
       "  that direction.)"
      ]
     },
     "execution_count": 22,
     "metadata": {},
     "output_type": "execute_result"
    }
   ],
   "source": [
    "? chebpoints"
   ]
  },
  {
   "cell_type": "code",
   "execution_count": null,
   "id": "3aec9867-138f-4a3d-b35c-6cefe7966b69",
   "metadata": {},
   "outputs": [],
   "source": [
    "ℓ"
   ]
  }
 ],
 "metadata": {
  "kernelspec": {
   "display_name": "julia-nthreads8 1.10.0",
   "language": "julia",
   "name": "julia-nthreads8-1.10"
  },
  "language_info": {
   "file_extension": ".jl",
   "mimetype": "application/julia",
   "name": "julia",
   "version": "1.10.0"
  }
 },
 "nbformat": 4,
 "nbformat_minor": 5
}
