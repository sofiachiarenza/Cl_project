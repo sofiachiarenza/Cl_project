{
 "cells": [
  {
   "cell_type": "code",
   "execution_count": 1,
   "id": "908927d0-7747-4c7d-a977-7a4ada55bd03",
   "metadata": {},
   "outputs": [
    {
     "name": "stderr",
     "output_type": "stream",
     "text": [
      "\u001b[32m\u001b[1m  Activating\u001b[22m\u001b[39m project at `~/Desktop/PhD_Stuff/cheb_bessel_tests-main`\n"
     ]
    }
   ],
   "source": [
    "using Pkg\n",
    "Pkg.activate(\".\")"
   ]
  },
  {
   "cell_type": "markdown",
   "id": "d1458aed-4ac5-4365-af2a-ed209a4b6baf",
   "metadata": {},
   "source": [
    "# This notebook is meant to plot $\\frac{\\Delta C_\\ell}{\\sigma_\\ell}$"
   ]
  },
  {
   "cell_type": "markdown",
   "id": "1e244941-d6e4-47ca-9ee1-1f5fe3c10f0e",
   "metadata": {},
   "source": [
    "The end goal is to be able to reproduce the N5K paper plots also for that, but that's messed up so I'm gonna start with mine, just to have a plot for the casca poster."
   ]
  },
  {
   "cell_type": "code",
   "execution_count": 2,
   "id": "2319c350-13eb-46c1-b9f6-dd2cebc190ef",
   "metadata": {},
   "outputs": [],
   "source": [
    "using BenchmarkTools\n",
    "using LinearAlgebra\n",
    "using DataInterpolations\n",
    "using SpecialFunctions\n",
    "using HCubature\n",
    "using QuadGK\n",
    "using Polynomials\n",
    "using Plots\n",
    "using FastChebInterp\n",
    "using ProgressBars\n",
    "using LaTeXStrings\n",
    "using Bessels\n",
    "using Tullio\n",
    "using FFTW\n",
    "using LoopVectorization\n",
    "using NPZ\n",
    "using Cubature\n",
    "using FastTransforms\n",
    "using Interpolations\n",
    "using Dierckx\n",
    "using DelimitedFiles"
   ]
  },
  {
   "cell_type": "code",
   "execution_count": 3,
   "id": "b5a4b2de-a1a5-4f13-ba4e-b2627514af9f",
   "metadata": {},
   "outputs": [],
   "source": [
    "using Revise\n",
    "using Will"
   ]
  },
  {
   "cell_type": "code",
   "execution_count": 4,
   "id": "0f1e5bb8-c1ae-4f5d-9f72-13638cdfcc8b",
   "metadata": {},
   "outputs": [],
   "source": [
    "include(\"utils.jl\")\n",
    "using Revise\n",
    "using .Utils"
   ]
  },
  {
   "cell_type": "markdown",
   "id": "1adfa42b-0f39-470e-b247-1f2d8a147dc1",
   "metadata": {},
   "source": [
    "### Adapting N5K stuff"
   ]
  },
  {
   "cell_type": "code",
   "execution_count": 5,
   "id": "7687b4dc-8d16-4723-a165-e7652da27a3d",
   "metadata": {},
   "outputs": [],
   "source": [
    "z_b = npzread(\"background/z.npy\")\n",
    "χ = npzread(\"background/chi.npy\")\n",
    "z_of_χ = DataInterpolations.AkimaInterpolation(z_b, χ);"
   ]
  },
  {
   "cell_type": "code",
   "execution_count": 6,
   "id": "35c74610-6bdc-4014-93b0-154ab3e0caa5",
   "metadata": {},
   "outputs": [],
   "source": [
    "pk_dict = npzread(\"../N5K/input/pk.npz\")\n",
    "Pklin = pk_dict[\"pk_lin\"]\n",
    "Pknonlin = pk_dict[\"pk_nl\"]\n",
    "k = pk_dict[\"k\"]\n",
    "z = pk_dict[\"z\"];"
   ]
  },
  {
   "cell_type": "code",
   "execution_count": 7,
   "id": "6c268e6a-1dd5-4b08-a834-c2d1e56943fc",
   "metadata": {},
   "outputs": [],
   "source": [
    "y = LinRange(log10(first(k)),log10(last(k)), length(k))\n",
    "x = LinRange(first(z), last(z), length(z))\n",
    "InterpPmm = Interpolations.interpolate(log10.(Pklin),BSpline(Cubic(Line(OnGrid()))))\n",
    "InterpPmm = scale(InterpPmm, x, y)\n",
    "InterpPmm = Interpolations.extrapolate(InterpPmm, Line());"
   ]
  },
  {
   "cell_type": "code",
   "execution_count": 8,
   "id": "79858632-e489-4b40-bb59-a8ee181f7ce1",
   "metadata": {},
   "outputs": [],
   "source": [
    "y = LinRange(log10(first(k)),log10(last(k)), length(k))\n",
    "x = LinRange(first(z), last(z), length(z))\n",
    "InterpPmm_nl = Interpolations.interpolate(log10.(Pknonlin),BSpline(Cubic(Line(OnGrid()))))\n",
    "InterpPmm_nl = scale(InterpPmm_nl, x, y)\n",
    "InterpPmm_nl = Interpolations.extrapolate(InterpPmm_nl, Line());"
   ]
  },
  {
   "cell_type": "code",
   "execution_count": 9,
   "id": "e071179c-6175-4eb9-8b15-f1f62055cc30",
   "metadata": {},
   "outputs": [],
   "source": [
    "power_spectrum(k, χ1, χ2) = @. sqrt(10^InterpPmm(z_of_χ(χ1),log10(k)) * 10^InterpPmm(z_of_χ(χ2),log10(k)));"
   ]
  },
  {
   "cell_type": "code",
   "execution_count": 10,
   "id": "34aa2c3b-1fec-4074-97e8-4f7364bcc7d5",
   "metadata": {},
   "outputs": [],
   "source": [
    "power_spectrum_nl(k, χ1, χ2) = @. sqrt(10^InterpPmm_nl(z_of_χ(χ1),log10(k)) * 10^InterpPmm_nl(z_of_χ(χ2),log10(k)));"
   ]
  },
  {
   "cell_type": "markdown",
   "id": "903cbf3e-11ea-4919-9110-8cda98bfc443",
   "metadata": {},
   "source": [
    "### Loading N5K stuff"
   ]
  },
  {
   "cell_type": "code",
   "execution_count": 11,
   "id": "89223f3c-b8ab-4b14-b744-9c7bf5a9bdcf",
   "metadata": {},
   "outputs": [],
   "source": [
    "#N5K Cℓ's \n",
    "benchmark_gg = npzread(\"../N5K/tests/benchmarks_nl_full_clgg.npz\")\n",
    "benchmark_ll = npzread(\"../N5K/tests/benchmarks_nl_full_clss.npz\")\n",
    "benchmark_gl = npzread(\"../N5K/tests/benchmarks_nl_full_clgs.npz\");"
   ]
  },
  {
   "cell_type": "code",
   "execution_count": 12,
   "id": "8a1cdf53-418c-4ab7-a93d-e1491700cd5f",
   "metadata": {},
   "outputs": [],
   "source": [
    "gg = Float32.(benchmark_gg[\"cls\"])\n",
    "ll = Float32.(benchmark_ll[\"cls\"])\n",
    "gl = Float32.(benchmark_gl[\"cls\"])\n",
    "ell = Float32.(benchmark_gg[\"ls\"]);"
   ]
  },
  {
   "cell_type": "code",
   "execution_count": 13,
   "id": "ee9fc7bf-d53c-4213-b40b-a4394459ce6f",
   "metadata": {},
   "outputs": [],
   "source": [
    "gg_reshaped = zeros(Float32, length(ell), 10, 10)\n",
    "counter = 1\n",
    "\n",
    "for i in 1:10\n",
    "    for j in i:10\n",
    "        gg_reshaped[:,i,j] = gg[counter, :]\n",
    "        gg_reshaped[:,j,i] = gg_reshaped[:,i,j]\n",
    "        counter += 1\n",
    "    end\n",
    "end"
   ]
  },
  {
   "cell_type": "code",
   "execution_count": 14,
   "id": "c2ba59a7-8dc8-4997-a719-d953c6359193",
   "metadata": {},
   "outputs": [],
   "source": [
    "ll_reshaped = zeros(Float32, length(ell), 5, 5)\n",
    "counter = 1\n",
    "\n",
    "for i in 1:5\n",
    "    for j in i:5\n",
    "        ll_reshaped[:,i,j] = ll[counter, :]\n",
    "        ll_reshaped[:,j,i] = ll_reshaped[:,i,j]\n",
    "        counter += 1\n",
    "    end\n",
    "end"
   ]
  },
  {
   "cell_type": "code",
   "execution_count": 15,
   "id": "e252cd84-6c13-4b1b-8f6c-671eecc46681",
   "metadata": {},
   "outputs": [],
   "source": [
    "gl_reshaped = zeros(Float32, length(ell), 10, 5)\n",
    "counter = 1\n",
    "\n",
    "for i in 1:10\n",
    "    for j in 1:5\n",
    "        gl_reshaped[:,i,j] = gl[counter, :]\n",
    "        counter += 1\n",
    "    end\n",
    "end"
   ]
  },
  {
   "cell_type": "markdown",
   "id": "9ced14fd-3cd9-4b90-bad3-61982f20d95f",
   "metadata": {},
   "source": [
    "### Interpolate N5K on my grid"
   ]
  },
  {
   "cell_type": "code",
   "execution_count": 16,
   "id": "f159735e-8b38-44fd-923e-7bcfc2350cfa",
   "metadata": {},
   "outputs": [],
   "source": [
    "kmax = 200/13 \n",
    "kmin = 2.5/7000\n",
    "n_cheb = 128\n",
    "k_cheb = chebpoints(n_cheb, log10(kmin), log10(kmax));\n",
    "nχ = 100\n",
    "χ = LinRange(26, 7000, nχ)\n",
    "ℓ = npzread(\"ell_vector.npy\")[1:21];"
   ]
  },
  {
   "cell_type": "code",
   "execution_count": 17,
   "id": "c22289bc-5540-4af8-9cf9-b12c879bbf5b",
   "metadata": {},
   "outputs": [],
   "source": [
    "gg_interp = zeros(21,10,10)\n",
    "ll_interp = zeros(21,5,5)\n",
    "gl_interp = zeros(21,10,5)\n",
    "\n",
    "for i in 1:10\n",
    "    for j in i:10\n",
    "        interpol = AkimaInterpolation(gg_reshaped[:,i,j], ell)\n",
    "        gg_interp[:,i,j] = interpol.(ℓ)\n",
    "        gg_interp[:,j,i] = gg_interp[:,i,j]\n",
    "    end\n",
    "end\n",
    "\n",
    "for i in 1:5\n",
    "    for j in i:5\n",
    "        interpol = AkimaInterpolation(ll_reshaped[:,i,j], ell)\n",
    "        ll_interp[:,i,j] = interpol.(ℓ)\n",
    "        ll_interp[:,j,i] = ll_interp[:,i,j]\n",
    "    end\n",
    "end\n",
    "\n",
    "for i in 1:10\n",
    "    for j in 1:5\n",
    "        interpol = AkimaInterpolation(gl_reshaped[:,i,j], ell)\n",
    "        gl_interp[:,i,j] = interpol.(ℓ)\n",
    "    end\n",
    "end"
   ]
  },
  {
   "cell_type": "markdown",
   "id": "e0985c23-2d34-4748-b505-f72a767c98c2",
   "metadata": {},
   "source": [
    "# Load your best $\\tilde T$ here!"
   ]
  },
  {
   "cell_type": "markdown",
   "id": "db6c6ecd-6495-4799-89db-b9139d6649a2",
   "metadata": {},
   "source": [
    "For now it's the 75+150, $\\alpha = 0.9$"
   ]
  },
  {
   "cell_type": "code",
   "execution_count": 18,
   "id": "88f69ccc-a0d1-46a2-99be-319dc13aca0e",
   "metadata": {},
   "outputs": [],
   "source": [
    "R = unique(vcat(LinRange(0,0.8,76)[2:end], LinRange(0.8,1,451)))\n",
    "nR = length(R)\n",
    "coeff = zeros(nχ,nR,n_cheb+1)\n",
    "\n",
    "for i in 1:nR\n",
    "    for j in 1:nχ\n",
    "        c = chebinterp(power_spectrum.(10 .^ k_cheb,χ[j],χ[j]*R[i]), log10(kmin), log10(kmax)); \n",
    "        coeff[j,i,:] = c.coefs\n",
    "    end\n",
    "end"
   ]
  },
  {
   "cell_type": "code",
   "execution_count": 19,
   "id": "e80de233-b68b-4543-8521-cd9655927e06",
   "metadata": {},
   "outputs": [],
   "source": [
    "T_LL = load_Ts(\"Ts_4_real/T_tilde_LL_75+450\", nχ, nR)\n",
    "T_CL = load_Ts(\"Ts_4_real/T_tilde_CL_75+450\", nχ, nR)\n",
    "T_CC = load_Ts(\"Ts_4_real/T_tilde_CC_75+450\", nχ, nR)\n",
    "\n",
    "\n",
    "w_LL = Float32.(Will.w_ell_tullio(coeff, T_LL))\n",
    "w_CL = Float32.(Will.w_ell_tullio(coeff, T_CL))\n",
    "w_CC = Float32.(Will.w_ell_tullio(coeff, T_CC));"
   ]
  },
  {
   "cell_type": "markdown",
   "id": "b7418c2b-0641-4ddc-b545-68adf481e6e0",
   "metadata": {},
   "source": [
    "# $C_\\ell$ computation "
   ]
  },
  {
   "cell_type": "code",
   "execution_count": 20,
   "id": "481201fe-874f-477b-a414-1afbd272d83e",
   "metadata": {},
   "outputs": [],
   "source": [
    "Cℓ_CC_limb_lin = Float32.(npzread(\"Cl_CC_limber_linear.npy\"))\n",
    "Cℓ_CL_limb_lin = Float32.(npzread(\"Cl_CL_limber_linear.npy\"))\n",
    "Cℓ_LL_limb_lin = Float32.(npzread(\"Cl_LL_limber_linear.npy\"));"
   ]
  },
  {
   "cell_type": "code",
   "execution_count": 21,
   "id": "4cb8a785-be2c-418c-b3d2-7d37a14932a1",
   "metadata": {},
   "outputs": [],
   "source": [
    "Cℓ_CC_limb_nl = Float32.(npzread(\"Cl_CC_limber_nl.npy\"))\n",
    "Cℓ_CL_limb_nl = Float32.(npzread(\"Cl_CL_limber_nl.npy\"))\n",
    "Cℓ_LL_limb_nl = Float32.(npzread(\"Cl_LL_limber_nl.npy\"));"
   ]
  },
  {
   "cell_type": "code",
   "execution_count": 22,
   "id": "ba06eafc-6e92-4d87-a775-9999482db5c0",
   "metadata": {},
   "outputs": [
    {
     "name": "stderr",
     "output_type": "stream",
     "text": [
      "\u001b[33m\u001b[1m┌ \u001b[22m\u001b[39m\u001b[33m\u001b[1mWarning: \u001b[22m\u001b[39m#= /Users/sofiachiarenza/.julia/packages/Tullio/vChiX/src/macro.jl:1093 =#:\n",
      "\u001b[33m\u001b[1m│ \u001b[22m\u001b[39m`LoopVectorization.check_args` on your inputs failed; running fallback `@inbounds @fastmath` loop instead.\n",
      "\u001b[33m\u001b[1m│ \u001b[22m\u001b[39mUse `warn_check_args=false`, e.g. `@turbo warn_check_args=false ...`, to disable this warning.\n",
      "\u001b[33m\u001b[1m└ \u001b[22m\u001b[39m\u001b[90m@ Main.Utils ~/.julia/packages/LoopVectorization/7gWfp/src/condense_loopset.jl:1148\u001b[39m\n",
      "\u001b[33m\u001b[1m┌ \u001b[22m\u001b[39m\u001b[33m\u001b[1mWarning: \u001b[22m\u001b[39m#= /Users/sofiachiarenza/.julia/packages/Tullio/vChiX/src/macro.jl:1093 =#:\n",
      "\u001b[33m\u001b[1m│ \u001b[22m\u001b[39m`LoopVectorization.check_args` on your inputs failed; running fallback `@inbounds @fastmath` loop instead.\n",
      "\u001b[33m\u001b[1m│ \u001b[22m\u001b[39mUse `warn_check_args=false`, e.g. `@turbo warn_check_args=false ...`, to disable this warning.\n",
      "\u001b[33m\u001b[1m└ \u001b[22m\u001b[39m\u001b[90m@ Main.Utils ~/.julia/packages/LoopVectorization/7gWfp/src/condense_loopset.jl:1148\u001b[39m\n"
     ]
    },
    {
     "name": "stdout",
     "output_type": "stream",
     "text": [
      "  2.928276 seconds (9.43 M allocations: 1.764 GiB, 4.50% gc time, 99.80% compilation time)\n"
     ]
    }
   ],
   "source": [
    "@time σ_CC, σ_LL, σ_CL = cosmic_variance(gg_reshaped, ll_reshaped, gl_reshaped, ell, 0.4);"
   ]
  },
  {
   "cell_type": "code",
   "execution_count": 23,
   "id": "f4f39500-318d-4794-aa0b-86ead011a760",
   "metadata": {},
   "outputs": [],
   "source": [
    "σ_CC, σ_LL, σ_CL = Float32.(σ_CC), Float32.(σ_LL), Float32.(σ_CL);"
   ]
  },
  {
   "cell_type": "code",
   "execution_count": 24,
   "id": "ede2eb13-2794-4b37-aea9-458502166481",
   "metadata": {},
   "outputs": [
    {
     "name": "stdout",
     "output_type": "stream",
     "text": [
      "  2.208884 seconds (8.24 M allocations: 1.078 GiB, 6.18% gc time, 98.38% compilation time)\n"
     ]
    }
   ],
   "source": [
    "W = npzread(\"../N5K/input/kernels_fullwidth.npz\")\n",
    "@time K_CC, K_CL, K_LL = compute_kernels(W, χ, R);"
   ]
  },
  {
   "cell_type": "code",
   "execution_count": 25,
   "id": "e3301b6a-4afd-48c4-a0c5-63b1d27be587",
   "metadata": {},
   "outputs": [],
   "source": [
    "K_CC, K_CL, K_LL = Float32.(K_CC), Float32.(K_CL), Float32.(K_LL);"
   ]
  },
  {
   "cell_type": "code",
   "execution_count": 28,
   "id": "33c762dc-8c2f-4a4b-8ef6-4d6b8b0ebb42",
   "metadata": {},
   "outputs": [],
   "source": [
    "Cℓ_CC = Float32.(C_ell_computation_simpson_uneven_grid(w_CC, K_CC, χ,75, 450, 0.8));\n",
    "Cℓ_CL = Float32.(C_ell_computation_simpson_uneven_grid(w_CL, K_CL, χ,75, 450, 0.8));\n",
    "Cℓ_LL = Float32.(C_ell_computation_simpson_uneven_grid(w_LL, K_LL, χ,75, 450, 0.8));"
   ]
  },
  {
   "cell_type": "code",
   "execution_count": 29,
   "id": "7fc3be12-67fa-4a33-a7db-784478910fb1",
   "metadata": {},
   "outputs": [],
   "source": [
    "# ADDING ELL PREFACTORS\n",
    "Cℓ_CC = Cℓ_CC .* Float32((2/π))\n",
    "\n",
    "for i in 1:length(ℓ)\n",
    "    Cℓ_LL[i,:,:] = Cℓ_LL[i,:,:] .* 2 .* Float32(factorial_frac(ℓ[i]) ./ π)\n",
    "    Cℓ_CL[i,:,:] = Cℓ_CL[i,:,:] .* 2 .* Float32(sqrt.(factorial_frac(ℓ[i])) ./ π)\n",
    "end"
   ]
  },
  {
   "cell_type": "code",
   "execution_count": 30,
   "id": "c90c362e-c2a5-4b9e-8574-1687ce833448",
   "metadata": {},
   "outputs": [],
   "source": [
    "final_Cℓ_CC = Cℓ_CC + Float32.(Cℓ_CC_limb_nl) - Float32.(Cℓ_CC_limb_lin)\n",
    "final_Cℓ_CL = Cℓ_CL + Float32.(Cℓ_CL_limb_nl) - Float32.(Cℓ_CL_limb_lin)\n",
    "final_Cℓ_LL = Cℓ_LL + Float32.(Cℓ_LL_limb_nl) - Float32.(Cℓ_LL_limb_lin);"
   ]
  },
  {
   "cell_type": "markdown",
   "id": "d968d011-0404-4710-86f7-06d1168ff7cd",
   "metadata": {},
   "source": [
    "# New part"
   ]
  },
  {
   "cell_type": "markdown",
   "id": "7a3d69b8-8e4d-44d3-b931-429a9887ada3",
   "metadata": {},
   "source": [
    "I need to compute my $C_\\ell$'s on all the chebyshev points up to 3000. After the first 21 points, which are the one that i have, I can just use the Limber approximation!"
   ]
  },
  {
   "cell_type": "raw",
   "id": "4c43d5f1-3375-4b46-b216-b96dceda4f76",
   "metadata": {},
   "source": [
    "#ℓ values to finish the cheb points\n",
    "elle = reverse(chebpoints(100, 2, 3000))[22:end];\n",
    "\n",
    "Cℓ_CC_limb = zeros(80,10,10)\n",
    "Cℓ_CL_limb = zeros(80,10,5)\n",
    "Cℓ_LL_limb = zeros(80,5,5)\n",
    "\n",
    "@time for (lindex, ell) in enumerate(elle)\n",
    "    println(\"Processing ℓ=$(ell)\")\n",
    "    Cℓ_CL_limb[lindex,:,:] = Cℓ_limber_nl(ell, χ, \"CL\")\n",
    "    Cℓ_CC_limb[lindex,:,:] = Cℓ_limber_nl(ell, χ, \"CC\")\n",
    "    Cℓ_LL_limb[lindex,:,:] = Cℓ_limber_nl(ell, χ, \"LL\")\n",
    "end\n",
    "\n",
    "npzwrite(\"Cl_CC_limber.npy\", Cℓ_CC_limb)\n",
    "npzwrite(\"Cl_CL_limber.npy\", Cℓ_CL_limb)\n",
    "npzwrite(\"Cl_LL_limber.npy\", Cℓ_LL_limb);"
   ]
  },
  {
   "cell_type": "code",
   "execution_count": 31,
   "id": "00f6d381-8d4a-407a-829b-a9984bede866",
   "metadata": {},
   "outputs": [],
   "source": [
    "Cℓ_CC_limb = Float32.(npzread(\"Cl_CC_limber.npy\"))\n",
    "Cℓ_CL_limb = Float32.(npzread(\"Cl_CL_limber.npy\"))\n",
    "Cℓ_LL_limb = Float32.(npzread(\"Cl_LL_limber.npy\"));"
   ]
  },
  {
   "cell_type": "code",
   "execution_count": 32,
   "id": "d50761b2-97eb-48d3-99e9-e7049197ccb3",
   "metadata": {},
   "outputs": [],
   "source": [
    "total_Cℓ_CC = cat(final_Cℓ_CC, Cℓ_CC_limb, dims=1)\n",
    "total_Cℓ_CL = cat(final_Cℓ_CL, Cℓ_CL_limb, dims=1)\n",
    "total_Cℓ_LL = cat(final_Cℓ_LL, Cℓ_LL_limb, dims=1);"
   ]
  },
  {
   "cell_type": "markdown",
   "id": "6d24336c-1adb-4b57-886e-34c2c3d9da12",
   "metadata": {},
   "source": [
    "Now, interpolate!"
   ]
  },
  {
   "cell_type": "code",
   "execution_count": 33,
   "id": "77cd214a-8bc6-4990-af84-948c52a1cae3",
   "metadata": {},
   "outputs": [],
   "source": [
    "elle = Float32.(reverse(chebpoints(100, 2, 3000)))\n",
    "ℓ_min = 2\n",
    "ℓ_max = 3000\n",
    "\n",
    "interp_Cℓ_CC = zeros(Float32, length(ell), 10, 10)\n",
    "interp_Cℓ_CL = zeros(Float32, length(ell), 10, 5)\n",
    "interp_Cℓ_LL = zeros(Float32, length(ell), 5, 5)\n",
    "\n",
    "for i in 1:10\n",
    "    for j in i:10\n",
    "        interpol = chebinterp(reverse(elle.*elle.*total_Cℓ_CC[:,i,j]), ℓ_min, ℓ_max)\n",
    "        interp_Cℓ_CC[:,i,j] = interpol.(ell)./(ell.*ell)\n",
    "        interp_Cℓ_CC[:,j,i] = interp_Cℓ_CC[:,i,j]\n",
    "    end\n",
    "end\n",
    "\n",
    "for i in 1:10\n",
    "    for j in 1:5\n",
    "        interpol = chebinterp(reverse(elle.*elle.*total_Cℓ_CL[:,i,j]),ℓ_min, ℓ_max)\n",
    "        interp_Cℓ_CL[:,i,j] = interpol.(ell)./(ell.*ell)\n",
    "    end\n",
    "end\n",
    "\n",
    "for i in 1:5\n",
    "    for j in i:5\n",
    "        interpol = chebinterp(reverse(elle.*elle.*total_Cℓ_LL[:,i,j]), ℓ_min, ℓ_max)\n",
    "        interp_Cℓ_LL[:,i,j] = interpol.(ell)./(ell.*ell)\n",
    "        interp_Cℓ_LL[:,j,i] = interp_Cℓ_LL[:,i,j]\n",
    "    end\n",
    "end"
   ]
  },
  {
   "cell_type": "code",
   "execution_count": 34,
   "id": "16e2f041-b375-41d8-a74c-90094f2c89a6",
   "metadata": {},
   "outputs": [
    {
     "name": "stdout",
     "output_type": "stream",
     "text": [
      "  0.689025 seconds (1.86 M allocations: 104.103 MiB, 1.03% gc time, 99.99% compilation time)\n"
     ]
    }
   ],
   "source": [
    "@time begin \n",
    "    m_CC = MAER(interp_Cℓ_CC, gg_reshaped, σ_CC)\n",
    "    m_LL = MAER(interp_Cℓ_LL, ll_reshaped, σ_LL)\n",
    "    m_CL = MAER(interp_Cℓ_CL, gl_reshaped, σ_CL)\n",
    "end;"
   ]
  },
  {
   "cell_type": "code",
   "execution_count": 35,
   "id": "964bbf81-dd69-4e1f-a92d-159b1cb817bf",
   "metadata": {},
   "outputs": [],
   "source": [
    "npzwrite(\"m_CC_F32.npy\", m_CC)\n",
    "npzwrite(\"m_LL_F32.npy\", m_LL)\n",
    "npzwrite(\"m_CL_F32.npy\", m_CL)"
   ]
  },
  {
   "cell_type": "markdown",
   "id": "6adde039-d989-4607-b305-2fbea429d5d8",
   "metadata": {},
   "source": [
    "### FANG "
   ]
  },
  {
   "cell_type": "code",
   "execution_count": 36,
   "id": "69d8f2e9-2eaa-40b6-aed5-aa416e30eade",
   "metadata": {},
   "outputs": [],
   "source": [
    "# Load the .npz file\n",
    "fang = npzread(\"/Users/sofiachiarenza/Desktop/PhD_Stuff/N5K/tests/ccl_nonlim_fang_clgs.npz\")\n",
    "\n",
    "fang_cl_gs = fang[\"cls\"]\n",
    "fang_gs_reshaped = zeros(length(ell), 10, 5)\n",
    "\n",
    "counter = 1\n",
    "\n",
    "for i in 1:10\n",
    "    for j in 1:5\n",
    "        fang_gs_reshaped[:, i, j] = fang_cl_gs[counter, :]\n",
    "        counter += 1\n",
    "    end\n",
    "end\n",
    "\n",
    "fang = npzread(\"/Users/sofiachiarenza/Desktop/PhD_Stuff/N5K/tests/ccl_nonlim_fang_clgg.npz\")\n",
    "\n",
    "fang_cl_gg = fang[\"cls\"]\n",
    "fang_gg_reshaped = zeros(length(ell), 10, 10)\n",
    "\n",
    "counter = 1\n",
    "\n",
    "for i in 1:10\n",
    "    for j in i:10\n",
    "        fang_gg_reshaped[:, i, j] = fang_cl_gg[counter, :]\n",
    "        fang_gg_reshaped[:, j, i] = fang_gg_reshaped[:, i, j]\n",
    "        counter += 1\n",
    "    end\n",
    "end\n",
    "\n",
    "fang = npzread(\"/Users/sofiachiarenza/Desktop/PhD_Stuff/N5K/tests/ccl_nonlim_fang_clss.npz\")\n",
    "\n",
    "fang_cl_ss = fang[\"cls\"]\n",
    "fang_ss_reshaped = zeros(length(ell), 5, 5)\n",
    "\n",
    "counter = 1\n",
    "\n",
    "for i in 1:5\n",
    "    for j in i:5\n",
    "        fang_ss_reshaped[:, i, j] = fang_cl_ss[counter, :]\n",
    "        fang_ss_reshaped[:, j, i] = fang_ss_reshaped[:, i, j]\n",
    "        counter += 1\n",
    "    end\n",
    "end"
   ]
  },
  {
   "cell_type": "code",
   "execution_count": 37,
   "id": "2833fdd2-c9a8-4123-bf0e-a88980c70fa0",
   "metadata": {},
   "outputs": [
    {
     "name": "stdout",
     "output_type": "stream",
     "text": [
      "  0.527150 seconds (1.83 M allocations: 101.935 MiB, 2.39% gc time, 99.99% compilation time)\n"
     ]
    }
   ],
   "source": [
    "@time begin \n",
    "    m_CC_fang = MAER(fang_gg_reshaped, gg_reshaped, σ_CC)\n",
    "    m_LL_fang = MAER(fang_ss_reshaped, ll_reshaped, σ_LL)\n",
    "    m_CL_fang = MAER(fang_gs_reshaped, gl_reshaped, σ_CL)\n",
    "end;"
   ]
  },
  {
   "cell_type": "raw",
   "id": "1c18680b-c682-4c00-9a9c-5cc9b0809b29",
   "metadata": {},
   "source": [
    "npzwrite(\"m_CC_fang.npy\", m_CC_fang)\n",
    "npzwrite(\"m_LL_fang.npy\", m_LL_fang)\n",
    "npzwrite(\"m_CL_fang.npy\", m_CL_fang)"
   ]
  },
  {
   "cell_type": "code",
   "execution_count": 38,
   "id": "44f3c08c-cdb5-4568-ab45-658344ff0b0c",
   "metadata": {},
   "outputs": [
    {
     "data": {
      "image/png": "[encoded data removed]",
      "image/svg+xml": [
       "<?xml version=\"1.0\" encoding=\"utf-8\"?>\n",
       "<svg xmlns=\"http://www.w3.org/2000/svg\" xmlns:xlink=\"http://www.w3.org/1999/xlink\" width=\"600\" height=\"400\" viewBox=\"0 0 2400 1600\">\n",
       "<defs>\n",
       "  <clipPath id=\"clip980\">\n",
       "    <rect x=\"0\" y=\"0\" width=\"2400\" height=\"1600\"/>\n",
       "  </clipPath>\n",
       "</defs>\n",
       "<path clip-path=\"url(#clip980)\" d=\"M0 1600 L2400 1600 L2400 0 L0 0  Z\" fill=\"#ffffff\" fill-rule=\"evenodd\" fill-opacity=\"1\"/>\n",
       "<defs>\n",
       "  <clipPath id=\"clip981\">\n",
       "    <rect x=\"480\" y=\"0\" width=\"1681\" height=\"1600\"/>\n",
       "  </clipPath>\n",
       "</defs>\n",
       "<path clip-path=\"url(#clip980)\" d=\"M216.922 1486.45 L2352.76 1486.45 L2352.76 47.2441 L216.922 47.2441  Z\" fill=\"#ffffff\" fill-rule=\"evenodd\" fill-opacity=\"1\"/>\n",
       "<defs>\n",
       "  <clipPath id=\"clip982\">\n",
       "    <rect x=\"216\" y=\"47\" width=\"2137\" height=\"1440\"/>\n",
       "  </clipPath>\n",
       "</defs>\n",
       "<polyline clip-path=\"url(#clip982)\" style=\"stroke:#000000; stroke-linecap:round; stroke-linejoin:round; stroke-width:2; stroke-opacity:0.1; fill:none\" points=\"275.353,1486.45 275.353,47.2441 \"/>\n",
       "<polyline clip-path=\"url(#clip982)\" style=\"stroke:#000000; stroke-linecap:round; stroke-linejoin:round; stroke-width:2; stroke-opacity:0.1; fill:none\" points=\"779.592,1486.45 779.592,47.2441 \"/>\n",
       "<polyline clip-path=\"url(#clip982)\" style=\"stroke:#000000; stroke-linecap:round; stroke-linejoin:round; stroke-width:2; stroke-opacity:0.1; fill:none\" points=\"1283.83,1486.45 1283.83,47.2441 \"/>\n",
       "<polyline clip-path=\"url(#clip982)\" style=\"stroke:#000000; stroke-linecap:round; stroke-linejoin:round; stroke-width:2; stroke-opacity:0.1; fill:none\" points=\"1788.07,1486.45 1788.07,47.2441 \"/>\n",
       "<polyline clip-path=\"url(#clip982)\" style=\"stroke:#000000; stroke-linecap:round; stroke-linejoin:round; stroke-width:2; stroke-opacity:0.1; fill:none\" points=\"2292.31,1486.45 2292.31,47.2441 \"/>\n",
       "<polyline clip-path=\"url(#clip980)\" style=\"stroke:#000000; stroke-linecap:round; stroke-linejoin:round; stroke-width:4; stroke-opacity:1; fill:none\" points=\"216.922,1486.45 2352.76,1486.45 \"/>\n",
       "<polyline clip-path=\"url(#clip980)\" style=\"stroke:#000000; stroke-linecap:round; stroke-linejoin:round; stroke-width:4; stroke-opacity:1; fill:none\" points=\"275.353,1486.45 275.353,1467.55 \"/>\n",
       "<polyline clip-path=\"url(#clip980)\" style=\"stroke:#000000; stroke-linecap:round; stroke-linejoin:round; stroke-width:4; stroke-opacity:1; fill:none\" points=\"779.592,1486.45 779.592,1467.55 \"/>\n",
       "<polyline clip-path=\"url(#clip980)\" style=\"stroke:#000000; stroke-linecap:round; stroke-linejoin:round; stroke-width:4; stroke-opacity:1; fill:none\" points=\"1283.83,1486.45 1283.83,1467.55 \"/>\n",
       "<polyline clip-path=\"url(#clip980)\" style=\"stroke:#000000; stroke-linecap:round; stroke-linejoin:round; stroke-width:4; stroke-opacity:1; fill:none\" points=\"1788.07,1486.45 1788.07,1467.55 \"/>\n",
       "<polyline clip-path=\"url(#clip980)\" style=\"stroke:#000000; stroke-linecap:round; stroke-linejoin:round; stroke-width:4; stroke-opacity:1; fill:none\" points=\"2292.31,1486.45 2292.31,1467.55 \"/>\n",
       "<path clip-path=\"url(#clip980)\" d=\"M275.353 1517.37 Q271.742 1517.37 269.913 1520.93 Q268.108 1524.47 268.108 1531.6 Q268.108 1538.71 269.913 1542.27 Q271.742 1545.82 275.353 1545.82 Q278.987 1545.82 280.793 1542.27 Q282.622 1538.71 282.622 1531.6 Q282.622 1524.47 280.793 1520.93 Q278.987 1517.37 275.353 1517.37 M275.353 1513.66 Q281.163 1513.66 284.219 1518.27 Q287.298 1522.85 287.298 1531.6 Q287.298 1540.33 284.219 1544.94 Q281.163 1549.52 275.353 1549.52 Q269.543 1549.52 266.464 1544.94 Q263.409 1540.33 263.409 1531.6 Q263.409 1522.85 266.464 1518.27 Q269.543 1513.66 275.353 1513.66 Z\" fill=\"#000000\" fill-rule=\"nonzero\" fill-opacity=\"1\" /><path clip-path=\"url(#clip980)\" d=\"M739.21 1514.29 L757.566 1514.29 L757.566 1518.22 L743.492 1518.22 L743.492 1526.7 Q744.511 1526.35 745.529 1526.19 Q746.548 1526 747.567 1526 Q753.354 1526 756.733 1529.17 Q760.113 1532.34 760.113 1537.76 Q760.113 1543.34 756.641 1546.44 Q753.168 1549.52 746.849 1549.52 Q744.673 1549.52 742.405 1549.15 Q740.159 1548.78 737.752 1548.04 L737.752 1543.34 Q739.835 1544.47 742.057 1545.03 Q744.28 1545.58 746.756 1545.58 Q750.761 1545.58 753.099 1543.48 Q755.437 1541.37 755.437 1537.76 Q755.437 1534.15 753.099 1532.04 Q750.761 1529.94 746.756 1529.94 Q744.881 1529.94 743.006 1530.35 Q741.155 1530.77 739.21 1531.65 L739.21 1514.29 Z\" fill=\"#000000\" fill-rule=\"nonzero\" fill-opacity=\"1\" /><path clip-path=\"url(#clip980)\" d=\"M779.326 1517.37 Q775.715 1517.37 773.886 1520.93 Q772.08 1524.47 772.08 1531.6 Q772.08 1538.71 773.886 1542.27 Q775.715 1545.82 779.326 1545.82 Q782.96 1545.82 784.765 1542.27 Q786.594 1538.71 786.594 1531.6 Q786.594 1524.47 784.765 1520.93 Q782.96 1517.37 779.326 1517.37 M779.326 1513.66 Q785.136 1513.66 788.191 1518.27 Q791.27 1522.85 791.27 1531.6 Q791.27 1540.33 788.191 1544.94 Q785.136 1549.52 779.326 1549.52 Q773.515 1549.52 770.437 1544.94 Q767.381 1540.33 767.381 1531.6 Q767.381 1522.85 770.437 1518.27 Q773.515 1513.66 779.326 1513.66 Z\" fill=\"#000000\" fill-rule=\"nonzero\" fill-opacity=\"1\" /><path clip-path=\"url(#clip980)\" d=\"M809.487 1517.37 Q805.876 1517.37 804.048 1520.93 Q802.242 1524.47 802.242 1531.6 Q802.242 1538.71 804.048 1542.27 Q805.876 1545.82 809.487 1545.82 Q813.122 1545.82 814.927 1542.27 Q816.756 1538.71 816.756 1531.6 Q816.756 1524.47 814.927 1520.93 Q813.122 1517.37 809.487 1517.37 M809.487 1513.66 Q815.298 1513.66 818.353 1518.27 Q821.432 1522.85 821.432 1531.6 Q821.432 1540.33 818.353 1544.94 Q815.298 1549.52 809.487 1549.52 Q803.677 1549.52 800.599 1544.94 Q797.543 1540.33 797.543 1531.6 Q797.543 1522.85 800.599 1518.27 Q803.677 1513.66 809.487 1513.66 Z\" fill=\"#000000\" fill-rule=\"nonzero\" fill-opacity=\"1\" /><path clip-path=\"url(#clip980)\" d=\"M1228.36 1544.91 L1236 1544.91 L1236 1518.55 L1227.68 1520.21 L1227.68 1515.95 L1235.95 1514.29 L1240.62 1514.29 L1240.62 1544.91 L1248.26 1544.91 L1248.26 1548.85 L1228.36 1548.85 L1228.36 1544.91 Z\" fill=\"#000000\" fill-rule=\"nonzero\" fill-opacity=\"1\" /><path clip-path=\"url(#clip980)\" d=\"M1267.71 1517.37 Q1264.1 1517.37 1262.27 1520.93 Q1260.46 1524.47 1260.46 1531.6 Q1260.46 1538.71 1262.27 1542.27 Q1264.1 1545.82 1267.71 1545.82 Q1271.34 1545.82 1273.15 1542.27 Q1274.98 1538.71 1274.98 1531.6 Q1274.98 1524.47 1273.15 1520.93 Q1271.34 1517.37 1267.71 1517.37 M1267.71 1513.66 Q1273.52 1513.66 1276.57 1518.27 Q1279.65 1522.85 1279.65 1531.6 Q1279.65 1540.33 1276.57 1544.94 Q1273.52 1549.52 1267.71 1549.52 Q1261.9 1549.52 1258.82 1544.94 Q1255.76 1540.33 1255.76 1531.6 Q1255.76 1522.85 1258.82 1518.27 Q1261.9 1513.66 1267.71 1513.66 Z\" fill=\"#000000\" fill-rule=\"nonzero\" fill-opacity=\"1\" /><path clip-path=\"url(#clip980)\" d=\"M1297.87 1517.37 Q1294.26 1517.37 1292.43 1520.93 Q1290.62 1524.47 1290.62 1531.6 Q1290.62 1538.71 1292.43 1542.27 Q1294.26 1545.82 1297.87 1545.82 Q1301.5 1545.82 1303.31 1542.27 Q1305.14 1538.71 1305.14 1531.6 Q1305.14 1524.47 1303.31 1520.93 Q1301.5 1517.37 1297.87 1517.37 M1297.87 1513.66 Q1303.68 1513.66 1306.74 1518.27 Q1309.81 1522.85 1309.81 1531.6 Q1309.81 1540.33 1306.74 1544.94 Q1303.68 1549.52 1297.87 1549.52 Q1292.06 1549.52 1288.98 1544.94 Q1285.93 1540.33 1285.93 1531.6 Q1285.93 1522.85 1288.98 1518.27 Q1292.06 1513.66 1297.87 1513.66 Z\" fill=\"#000000\" fill-rule=\"nonzero\" fill-opacity=\"1\" /><path clip-path=\"url(#clip980)\" d=\"M1328.03 1517.37 Q1324.42 1517.37 1322.59 1520.93 Q1320.79 1524.47 1320.79 1531.6 Q1320.79 1538.71 1322.59 1542.27 Q1324.42 1545.82 1328.03 1545.82 Q1331.67 1545.82 1333.47 1542.27 Q1335.3 1538.71 1335.3 1531.6 Q1335.3 1524.47 1333.47 1520.93 Q1331.67 1517.37 1328.03 1517.37 M1328.03 1513.66 Q1333.84 1513.66 1336.9 1518.27 Q1339.98 1522.85 1339.98 1531.6 Q1339.98 1540.33 1336.9 1544.94 Q1333.84 1549.52 1328.03 1549.52 Q1322.22 1549.52 1319.14 1544.94 Q1316.09 1540.33 1316.09 1531.6 Q1316.09 1522.85 1319.14 1518.27 Q1322.22 1513.66 1328.03 1513.66 Z\" fill=\"#000000\" fill-rule=\"nonzero\" fill-opacity=\"1\" /><path clip-path=\"url(#clip980)\" d=\"M1732.59 1544.91 L1740.23 1544.91 L1740.23 1518.55 L1731.92 1520.21 L1731.92 1515.95 L1740.19 1514.29 L1744.86 1514.29 L1744.86 1544.91 L1752.5 1544.91 L1752.5 1548.85 L1732.59 1548.85 L1732.59 1544.91 Z\" fill=\"#000000\" fill-rule=\"nonzero\" fill-opacity=\"1\" /><path clip-path=\"url(#clip980)\" d=\"M1761.99 1514.29 L1780.35 1514.29 L1780.35 1518.22 L1766.28 1518.22 L1766.28 1526.7 Q1767.29 1526.35 1768.31 1526.19 Q1769.33 1526 1770.35 1526 Q1776.14 1526 1779.52 1529.17 Q1782.9 1532.34 1782.9 1537.76 Q1782.9 1543.34 1779.42 1546.44 Q1775.95 1549.52 1769.63 1549.52 Q1767.46 1549.52 1765.19 1549.15 Q1762.94 1548.78 1760.53 1548.04 L1760.53 1543.34 Q1762.62 1544.47 1764.84 1545.03 Q1767.06 1545.58 1769.54 1545.58 Q1773.54 1545.58 1775.88 1543.48 Q1778.22 1541.37 1778.22 1537.76 Q1778.22 1534.15 1775.88 1532.04 Q1773.54 1529.94 1769.54 1529.94 Q1767.66 1529.94 1765.79 1530.35 Q1763.94 1530.77 1761.99 1531.65 L1761.99 1514.29 Z\" fill=\"#000000\" fill-rule=\"nonzero\" fill-opacity=\"1\" /><path clip-path=\"url(#clip980)\" d=\"M1802.11 1517.37 Q1798.5 1517.37 1796.67 1520.93 Q1794.86 1524.47 1794.86 1531.6 Q1794.86 1538.71 1796.67 1542.27 Q1798.5 1545.82 1802.11 1545.82 Q1805.74 1545.82 1807.55 1542.27 Q1809.38 1538.71 1809.38 1531.6 Q1809.38 1524.47 1807.55 1520.93 Q1805.74 1517.37 1802.11 1517.37 M1802.11 1513.66 Q1807.92 1513.66 1810.97 1518.27 Q1814.05 1522.85 1814.05 1531.6 Q1814.05 1540.33 1810.97 1544.94 Q1807.92 1549.52 1802.11 1549.52 Q1796.3 1549.52 1793.22 1544.94 Q1790.16 1540.33 1790.16 1531.6 Q1790.16 1522.85 1793.22 1518.27 Q1796.3 1513.66 1802.11 1513.66 Z\" fill=\"#000000\" fill-rule=\"nonzero\" fill-opacity=\"1\" /><path clip-path=\"url(#clip980)\" d=\"M1832.27 1517.37 Q1828.66 1517.37 1826.83 1520.93 Q1825.02 1524.47 1825.02 1531.6 Q1825.02 1538.71 1826.83 1542.27 Q1828.66 1545.82 1832.27 1545.82 Q1835.9 1545.82 1837.71 1542.27 Q1839.54 1538.71 1839.54 1531.6 Q1839.54 1524.47 1837.71 1520.93 Q1835.9 1517.37 1832.27 1517.37 M1832.27 1513.66 Q1838.08 1513.66 1841.14 1518.27 Q1844.21 1522.85 1844.21 1531.6 Q1844.21 1540.33 1841.14 1544.94 Q1838.08 1549.52 1832.27 1549.52 Q1826.46 1549.52 1823.38 1544.94 Q1820.33 1540.33 1820.33 1531.6 Q1820.33 1522.85 1823.38 1518.27 Q1826.46 1513.66 1832.27 1513.66 Z\" fill=\"#000000\" fill-rule=\"nonzero\" fill-opacity=\"1\" /><path clip-path=\"url(#clip980)\" d=\"M2240.92 1544.91 L2257.24 1544.91 L2257.24 1548.85 L2235.29 1548.85 L2235.29 1544.91 Q2237.96 1542.16 2242.54 1537.53 Q2247.15 1532.88 2248.33 1531.53 Q2250.57 1529.01 2251.45 1527.27 Q2252.35 1525.51 2252.35 1523.82 Q2252.35 1521.07 2250.41 1519.33 Q2248.49 1517.6 2245.39 1517.6 Q2243.19 1517.6 2240.73 1518.36 Q2238.3 1519.13 2235.53 1520.68 L2235.53 1515.95 Q2238.35 1514.82 2240.8 1514.24 Q2243.26 1513.66 2245.29 1513.66 Q2250.66 1513.66 2253.86 1516.35 Q2257.05 1519.03 2257.05 1523.52 Q2257.05 1525.65 2256.24 1527.57 Q2255.46 1529.47 2253.35 1532.07 Q2252.77 1532.74 2249.67 1535.95 Q2246.57 1539.15 2240.92 1544.91 Z\" fill=\"#000000\" fill-rule=\"nonzero\" fill-opacity=\"1\" /><path clip-path=\"url(#clip980)\" d=\"M2277.05 1517.37 Q2273.44 1517.37 2271.61 1520.93 Q2269.81 1524.47 2269.81 1531.6 Q2269.81 1538.71 2271.61 1542.27 Q2273.44 1545.82 2277.05 1545.82 Q2280.69 1545.82 2282.49 1542.27 Q2284.32 1538.71 2284.32 1531.6 Q2284.32 1524.47 2282.49 1520.93 Q2280.69 1517.37 2277.05 1517.37 M2277.05 1513.66 Q2282.86 1513.66 2285.92 1518.27 Q2289 1522.85 2289 1531.6 Q2289 1540.33 2285.92 1544.94 Q2282.86 1549.52 2277.05 1549.52 Q2271.24 1549.52 2268.16 1544.94 Q2265.11 1540.33 2265.11 1531.6 Q2265.11 1522.85 2268.16 1518.27 Q2271.24 1513.66 2277.05 1513.66 Z\" fill=\"#000000\" fill-rule=\"nonzero\" fill-opacity=\"1\" /><path clip-path=\"url(#clip980)\" d=\"M2307.22 1517.37 Q2303.6 1517.37 2301.78 1520.93 Q2299.97 1524.47 2299.97 1531.6 Q2299.97 1538.71 2301.78 1542.27 Q2303.6 1545.82 2307.22 1545.82 Q2310.85 1545.82 2312.65 1542.27 Q2314.48 1538.71 2314.48 1531.6 Q2314.48 1524.47 2312.65 1520.93 Q2310.85 1517.37 2307.22 1517.37 M2307.22 1513.66 Q2313.03 1513.66 2316.08 1518.27 Q2319.16 1522.85 2319.16 1531.6 Q2319.16 1540.33 2316.08 1544.94 Q2313.03 1549.52 2307.22 1549.52 Q2301.4 1549.52 2298.33 1544.94 Q2295.27 1540.33 2295.27 1531.6 Q2295.27 1522.85 2298.33 1518.27 Q2301.4 1513.66 2307.22 1513.66 Z\" fill=\"#000000\" fill-rule=\"nonzero\" fill-opacity=\"1\" /><path clip-path=\"url(#clip980)\" d=\"M2337.38 1517.37 Q2333.77 1517.37 2331.94 1520.93 Q2330.13 1524.47 2330.13 1531.6 Q2330.13 1538.71 2331.94 1542.27 Q2333.77 1545.82 2337.38 1545.82 Q2341.01 1545.82 2342.82 1542.27 Q2344.65 1538.71 2344.65 1531.6 Q2344.65 1524.47 2342.82 1520.93 Q2341.01 1517.37 2337.38 1517.37 M2337.38 1513.66 Q2343.19 1513.66 2346.24 1518.27 Q2349.32 1522.85 2349.32 1531.6 Q2349.32 1540.33 2346.24 1544.94 Q2343.19 1549.52 2337.38 1549.52 Q2331.57 1549.52 2328.49 1544.94 Q2325.43 1540.33 2325.43 1531.6 Q2325.43 1522.85 2328.49 1518.27 Q2331.57 1513.66 2337.38 1513.66 Z\" fill=\"#000000\" fill-rule=\"nonzero\" fill-opacity=\"1\" /><polyline clip-path=\"url(#clip982)\" style=\"stroke:#000000; stroke-linecap:round; stroke-linejoin:round; stroke-width:2; stroke-opacity:0.1; fill:none\" points=\"216.922,1446.08 2352.76,1446.08 \"/>\n",
       "<polyline clip-path=\"url(#clip982)\" style=\"stroke:#000000; stroke-linecap:round; stroke-linejoin:round; stroke-width:2; stroke-opacity:0.1; fill:none\" points=\"216.922,1236.99 2352.76,1236.99 \"/>\n",
       "<polyline clip-path=\"url(#clip982)\" style=\"stroke:#000000; stroke-linecap:round; stroke-linejoin:round; stroke-width:2; stroke-opacity:0.1; fill:none\" points=\"216.922,1027.89 2352.76,1027.89 \"/>\n",
       "<polyline clip-path=\"url(#clip982)\" style=\"stroke:#000000; stroke-linecap:round; stroke-linejoin:round; stroke-width:2; stroke-opacity:0.1; fill:none\" points=\"216.922,818.798 2352.76,818.798 \"/>\n",
       "<polyline clip-path=\"url(#clip982)\" style=\"stroke:#000000; stroke-linecap:round; stroke-linejoin:round; stroke-width:2; stroke-opacity:0.1; fill:none\" points=\"216.922,609.703 2352.76,609.703 \"/>\n",
       "<polyline clip-path=\"url(#clip982)\" style=\"stroke:#000000; stroke-linecap:round; stroke-linejoin:round; stroke-width:2; stroke-opacity:0.1; fill:none\" points=\"216.922,400.608 2352.76,400.608 \"/>\n",
       "<polyline clip-path=\"url(#clip982)\" style=\"stroke:#000000; stroke-linecap:round; stroke-linejoin:round; stroke-width:2; stroke-opacity:0.1; fill:none\" points=\"216.922,191.513 2352.76,191.513 \"/>\n",
       "<polyline clip-path=\"url(#clip980)\" style=\"stroke:#000000; stroke-linecap:round; stroke-linejoin:round; stroke-width:4; stroke-opacity:1; fill:none\" points=\"216.922,1486.45 216.922,47.2441 \"/>\n",
       "<polyline clip-path=\"url(#clip980)\" style=\"stroke:#000000; stroke-linecap:round; stroke-linejoin:round; stroke-width:4; stroke-opacity:1; fill:none\" points=\"216.922,1446.08 235.82,1446.08 \"/>\n",
       "<polyline clip-path=\"url(#clip980)\" style=\"stroke:#000000; stroke-linecap:round; stroke-linejoin:round; stroke-width:4; stroke-opacity:1; fill:none\" points=\"216.922,1236.99 235.82,1236.99 \"/>\n",
       "<polyline clip-path=\"url(#clip980)\" style=\"stroke:#000000; stroke-linecap:round; stroke-linejoin:round; stroke-width:4; stroke-opacity:1; fill:none\" points=\"216.922,1027.89 235.82,1027.89 \"/>\n",
       "<polyline clip-path=\"url(#clip980)\" style=\"stroke:#000000; stroke-linecap:round; stroke-linejoin:round; stroke-width:4; stroke-opacity:1; fill:none\" points=\"216.922,818.798 235.82,818.798 \"/>\n",
       "<polyline clip-path=\"url(#clip980)\" style=\"stroke:#000000; stroke-linecap:round; stroke-linejoin:round; stroke-width:4; stroke-opacity:1; fill:none\" points=\"216.922,609.703 235.82,609.703 \"/>\n",
       "<polyline clip-path=\"url(#clip980)\" style=\"stroke:#000000; stroke-linecap:round; stroke-linejoin:round; stroke-width:4; stroke-opacity:1; fill:none\" points=\"216.922,400.608 235.82,400.608 \"/>\n",
       "<polyline clip-path=\"url(#clip980)\" style=\"stroke:#000000; stroke-linecap:round; stroke-linejoin:round; stroke-width:4; stroke-opacity:1; fill:none\" points=\"216.922,191.513 235.82,191.513 \"/>\n",
       "<path clip-path=\"url(#clip980)\" d=\"M63.4226 1431.88 Q59.8115 1431.88 57.9828 1435.45 Q56.1773 1438.99 56.1773 1446.12 Q56.1773 1453.23 57.9828 1456.79 Q59.8115 1460.33 63.4226 1460.33 Q67.0569 1460.33 68.8624 1456.79 Q70.6911 1453.23 70.6911 1446.12 Q70.6911 1438.99 68.8624 1435.45 Q67.0569 1431.88 63.4226 1431.88 M63.4226 1428.18 Q69.2328 1428.18 72.2883 1432.79 Q75.367 1437.37 75.367 1446.12 Q75.367 1454.85 72.2883 1459.45 Q69.2328 1464.04 63.4226 1464.04 Q57.6125 1464.04 54.5338 1459.45 Q51.4782 1454.85 51.4782 1446.12 Q51.4782 1437.37 54.5338 1432.79 Q57.6125 1428.18 63.4226 1428.18 Z\" fill=\"#000000\" fill-rule=\"nonzero\" fill-opacity=\"1\" /><path clip-path=\"url(#clip980)\" d=\"M83.5845 1457.48 L88.4688 1457.48 L88.4688 1463.36 L83.5845 1463.36 L83.5845 1457.48 Z\" fill=\"#000000\" fill-rule=\"nonzero\" fill-opacity=\"1\" /><path clip-path=\"url(#clip980)\" d=\"M108.654 1431.88 Q105.043 1431.88 103.214 1435.45 Q101.409 1438.99 101.409 1446.12 Q101.409 1453.23 103.214 1456.79 Q105.043 1460.33 108.654 1460.33 Q112.288 1460.33 114.094 1456.79 Q115.922 1453.23 115.922 1446.12 Q115.922 1438.99 114.094 1435.45 Q112.288 1431.88 108.654 1431.88 M108.654 1428.18 Q114.464 1428.18 117.52 1432.79 Q120.598 1437.37 120.598 1446.12 Q120.598 1454.85 117.52 1459.45 Q114.464 1464.04 108.654 1464.04 Q102.844 1464.04 99.765 1459.45 Q96.7095 1454.85 96.7095 1446.12 Q96.7095 1437.37 99.765 1432.79 Q102.844 1428.18 108.654 1428.18 Z\" fill=\"#000000\" fill-rule=\"nonzero\" fill-opacity=\"1\" /><path clip-path=\"url(#clip980)\" d=\"M138.816 1431.88 Q135.205 1431.88 133.376 1435.45 Q131.57 1438.99 131.57 1446.12 Q131.57 1453.23 133.376 1456.79 Q135.205 1460.33 138.816 1460.33 Q142.45 1460.33 144.256 1456.79 Q146.084 1453.23 146.084 1446.12 Q146.084 1438.99 144.256 1435.45 Q142.45 1431.88 138.816 1431.88 M138.816 1428.18 Q144.626 1428.18 147.681 1432.79 Q150.76 1437.37 150.76 1446.12 Q150.76 1454.85 147.681 1459.45 Q144.626 1464.04 138.816 1464.04 Q133.006 1464.04 129.927 1459.45 Q126.871 1454.85 126.871 1446.12 Q126.871 1437.37 129.927 1432.79 Q133.006 1428.18 138.816 1428.18 Z\" fill=\"#000000\" fill-rule=\"nonzero\" fill-opacity=\"1\" /><path clip-path=\"url(#clip980)\" d=\"M168.978 1431.88 Q165.367 1431.88 163.538 1435.45 Q161.732 1438.99 161.732 1446.12 Q161.732 1453.23 163.538 1456.79 Q165.367 1460.33 168.978 1460.33 Q172.612 1460.33 174.417 1456.79 Q176.246 1453.23 176.246 1446.12 Q176.246 1438.99 174.417 1435.45 Q172.612 1431.88 168.978 1431.88 M168.978 1428.18 Q174.788 1428.18 177.843 1432.79 Q180.922 1437.37 180.922 1446.12 Q180.922 1454.85 177.843 1459.45 Q174.788 1464.04 168.978 1464.04 Q163.167 1464.04 160.089 1459.45 Q157.033 1454.85 157.033 1446.12 Q157.033 1437.37 160.089 1432.79 Q163.167 1428.18 168.978 1428.18 Z\" fill=\"#000000\" fill-rule=\"nonzero\" fill-opacity=\"1\" /><path clip-path=\"url(#clip980)\" d=\"M64.6495 1222.79 Q61.0384 1222.79 59.2097 1226.35 Q57.4041 1229.89 57.4041 1237.02 Q57.4041 1244.13 59.2097 1247.69 Q61.0384 1251.24 64.6495 1251.24 Q68.2837 1251.24 70.0892 1247.69 Q71.9179 1244.13 71.9179 1237.02 Q71.9179 1229.89 70.0892 1226.35 Q68.2837 1222.79 64.6495 1222.79 M64.6495 1219.08 Q70.4596 1219.08 73.5152 1223.69 Q76.5938 1228.27 76.5938 1237.02 Q76.5938 1245.75 73.5152 1250.36 Q70.4596 1254.94 64.6495 1254.94 Q58.8393 1254.94 55.7606 1250.36 Q52.7051 1245.75 52.7051 1237.02 Q52.7051 1228.27 55.7606 1223.69 Q58.8393 1219.08 64.6495 1219.08 Z\" fill=\"#000000\" fill-rule=\"nonzero\" fill-opacity=\"1\" /><path clip-path=\"url(#clip980)\" d=\"M84.8114 1248.39 L89.6956 1248.39 L89.6956 1254.27 L84.8114 1254.27 L84.8114 1248.39 Z\" fill=\"#000000\" fill-rule=\"nonzero\" fill-opacity=\"1\" /><path clip-path=\"url(#clip980)\" d=\"M109.881 1222.79 Q106.27 1222.79 104.441 1226.35 Q102.635 1229.89 102.635 1237.02 Q102.635 1244.13 104.441 1247.69 Q106.27 1251.24 109.881 1251.24 Q113.515 1251.24 115.32 1247.69 Q117.149 1244.13 117.149 1237.02 Q117.149 1229.89 115.32 1226.35 Q113.515 1222.79 109.881 1222.79 M109.881 1219.08 Q115.691 1219.08 118.746 1223.69 Q121.825 1228.27 121.825 1237.02 Q121.825 1245.75 118.746 1250.36 Q115.691 1254.94 109.881 1254.94 Q104.071 1254.94 100.992 1250.36 Q97.9363 1245.75 97.9363 1237.02 Q97.9363 1228.27 100.992 1223.69 Q104.071 1219.08 109.881 1219.08 Z\" fill=\"#000000\" fill-rule=\"nonzero\" fill-opacity=\"1\" /><path clip-path=\"url(#clip980)\" d=\"M140.043 1222.79 Q136.431 1222.79 134.603 1226.35 Q132.797 1229.89 132.797 1237.02 Q132.797 1244.13 134.603 1247.69 Q136.431 1251.24 140.043 1251.24 Q143.677 1251.24 145.482 1247.69 Q147.311 1244.13 147.311 1237.02 Q147.311 1229.89 145.482 1226.35 Q143.677 1222.79 140.043 1222.79 M140.043 1219.08 Q145.853 1219.08 148.908 1223.69 Q151.987 1228.27 151.987 1237.02 Q151.987 1245.75 148.908 1250.36 Q145.853 1254.94 140.043 1254.94 Q134.232 1254.94 131.154 1250.36 Q128.098 1245.75 128.098 1237.02 Q128.098 1228.27 131.154 1223.69 Q134.232 1219.08 140.043 1219.08 Z\" fill=\"#000000\" fill-rule=\"nonzero\" fill-opacity=\"1\" /><path clip-path=\"url(#clip980)\" d=\"M161.015 1250.33 L168.654 1250.33 L168.654 1223.97 L160.343 1225.63 L160.343 1221.38 L168.607 1219.71 L173.283 1219.71 L173.283 1250.33 L180.922 1250.33 L180.922 1254.27 L161.015 1254.27 L161.015 1250.33 Z\" fill=\"#000000\" fill-rule=\"nonzero\" fill-opacity=\"1\" /><path clip-path=\"url(#clip980)\" d=\"M65.0198 1013.69 Q61.4087 1013.69 59.58 1017.26 Q57.7745 1020.8 57.7745 1027.93 Q57.7745 1035.03 59.58 1038.6 Q61.4087 1042.14 65.0198 1042.14 Q68.6541 1042.14 70.4596 1038.6 Q72.2883 1035.03 72.2883 1027.93 Q72.2883 1020.8 70.4596 1017.26 Q68.6541 1013.69 65.0198 1013.69 M65.0198 1009.99 Q70.83 1009.99 73.8855 1014.6 Q76.9642 1019.18 76.9642 1027.93 Q76.9642 1036.66 73.8855 1041.26 Q70.83 1045.84 65.0198 1045.84 Q59.2097 1045.84 56.131 1041.26 Q53.0754 1036.66 53.0754 1027.93 Q53.0754 1019.18 56.131 1014.6 Q59.2097 1009.99 65.0198 1009.99 Z\" fill=\"#000000\" fill-rule=\"nonzero\" fill-opacity=\"1\" /><path clip-path=\"url(#clip980)\" d=\"M85.1818 1039.29 L90.066 1039.29 L90.066 1045.17 L85.1818 1045.17 L85.1818 1039.29 Z\" fill=\"#000000\" fill-rule=\"nonzero\" fill-opacity=\"1\" /><path clip-path=\"url(#clip980)\" d=\"M110.251 1013.69 Q106.64 1013.69 104.811 1017.26 Q103.006 1020.8 103.006 1027.93 Q103.006 1035.03 104.811 1038.6 Q106.64 1042.14 110.251 1042.14 Q113.885 1042.14 115.691 1038.6 Q117.52 1035.03 117.52 1027.93 Q117.52 1020.8 115.691 1017.26 Q113.885 1013.69 110.251 1013.69 M110.251 1009.99 Q116.061 1009.99 119.117 1014.6 Q122.195 1019.18 122.195 1027.93 Q122.195 1036.66 119.117 1041.26 Q116.061 1045.84 110.251 1045.84 Q104.441 1045.84 101.362 1041.26 Q98.3067 1036.66 98.3067 1027.93 Q98.3067 1019.18 101.362 1014.6 Q104.441 1009.99 110.251 1009.99 Z\" fill=\"#000000\" fill-rule=\"nonzero\" fill-opacity=\"1\" /><path clip-path=\"url(#clip980)\" d=\"M140.413 1013.69 Q136.802 1013.69 134.973 1017.26 Q133.168 1020.8 133.168 1027.93 Q133.168 1035.03 134.973 1038.6 Q136.802 1042.14 140.413 1042.14 Q144.047 1042.14 145.853 1038.6 Q147.681 1035.03 147.681 1027.93 Q147.681 1020.8 145.853 1017.26 Q144.047 1013.69 140.413 1013.69 M140.413 1009.99 Q146.223 1009.99 149.279 1014.6 Q152.357 1019.18 152.357 1027.93 Q152.357 1036.66 149.279 1041.26 Q146.223 1045.84 140.413 1045.84 Q134.603 1045.84 131.524 1041.26 Q128.469 1036.66 128.469 1027.93 Q128.469 1019.18 131.524 1014.6 Q134.603 1009.99 140.413 1009.99 Z\" fill=\"#000000\" fill-rule=\"nonzero\" fill-opacity=\"1\" /><path clip-path=\"url(#clip980)\" d=\"M164.603 1041.24 L180.922 1041.24 L180.922 1045.17 L158.978 1045.17 L158.978 1041.24 Q161.64 1038.48 166.223 1033.85 Q170.829 1029.2 172.01 1027.86 Q174.255 1025.34 175.135 1023.6 Q176.038 1021.84 176.038 1020.15 Q176.038 1017.4 174.093 1015.66 Q172.172 1013.92 169.07 1013.92 Q166.871 1013.92 164.417 1014.69 Q161.987 1015.45 159.209 1017 L159.209 1012.28 Q162.033 1011.15 164.487 1010.57 Q166.941 1009.99 168.978 1009.99 Q174.348 1009.99 177.542 1012.67 Q180.737 1015.36 180.737 1019.85 Q180.737 1021.98 179.927 1023.9 Q179.14 1025.8 177.033 1028.39 Q176.454 1029.06 173.353 1032.28 Q170.251 1035.47 164.603 1041.24 Z\" fill=\"#000000\" fill-rule=\"nonzero\" fill-opacity=\"1\" /><path clip-path=\"url(#clip980)\" d=\"M64.0708 804.597 Q60.4597 804.597 58.631 808.162 Q56.8254 811.704 56.8254 818.833 Q56.8254 825.94 58.631 829.504 Q60.4597 833.046 64.0708 833.046 Q67.705 833.046 69.5105 829.504 Q71.3392 825.94 71.3392 818.833 Q71.3392 811.704 69.5105 808.162 Q67.705 804.597 64.0708 804.597 M64.0708 800.893 Q69.8809 800.893 72.9365 805.5 Q76.0151 810.083 76.0151 818.833 Q76.0151 827.56 72.9365 832.166 Q69.8809 836.75 64.0708 836.75 Q58.2606 836.75 55.1819 832.166 Q52.1264 827.56 52.1264 818.833 Q52.1264 810.083 55.1819 805.5 Q58.2606 800.893 64.0708 800.893 Z\" fill=\"#000000\" fill-rule=\"nonzero\" fill-opacity=\"1\" /><path clip-path=\"url(#clip980)\" d=\"M84.2327 830.199 L89.1169 830.199 L89.1169 836.078 L84.2327 836.078 L84.2327 830.199 Z\" fill=\"#000000\" fill-rule=\"nonzero\" fill-opacity=\"1\" /><path clip-path=\"url(#clip980)\" d=\"M109.302 804.597 Q105.691 804.597 103.862 808.162 Q102.057 811.704 102.057 818.833 Q102.057 825.94 103.862 829.504 Q105.691 833.046 109.302 833.046 Q112.936 833.046 114.742 829.504 Q116.57 825.94 116.57 818.833 Q116.57 811.704 114.742 808.162 Q112.936 804.597 109.302 804.597 M109.302 800.893 Q115.112 800.893 118.168 805.5 Q121.246 810.083 121.246 818.833 Q121.246 827.56 118.168 832.166 Q115.112 836.75 109.302 836.75 Q103.492 836.75 100.413 832.166 Q97.3576 827.56 97.3576 818.833 Q97.3576 810.083 100.413 805.5 Q103.492 800.893 109.302 800.893 Z\" fill=\"#000000\" fill-rule=\"nonzero\" fill-opacity=\"1\" /><path clip-path=\"url(#clip980)\" d=\"M139.464 804.597 Q135.853 804.597 134.024 808.162 Q132.219 811.704 132.219 818.833 Q132.219 825.94 134.024 829.504 Q135.853 833.046 139.464 833.046 Q143.098 833.046 144.904 829.504 Q146.732 825.94 146.732 818.833 Q146.732 811.704 144.904 808.162 Q143.098 804.597 139.464 804.597 M139.464 800.893 Q145.274 800.893 148.33 805.5 Q151.408 810.083 151.408 818.833 Q151.408 827.56 148.33 832.166 Q145.274 836.75 139.464 836.75 Q133.654 836.75 130.575 832.166 Q127.519 827.56 127.519 818.833 Q127.519 810.083 130.575 805.5 Q133.654 800.893 139.464 800.893 Z\" fill=\"#000000\" fill-rule=\"nonzero\" fill-opacity=\"1\" /><path clip-path=\"url(#clip980)\" d=\"M173.792 817.444 Q177.149 818.162 179.024 820.43 Q180.922 822.699 180.922 826.032 Q180.922 831.148 177.403 833.949 Q173.885 836.75 167.404 836.75 Q165.228 836.75 162.913 836.31 Q160.621 835.893 158.167 835.037 L158.167 830.523 Q160.112 831.657 162.427 832.236 Q164.742 832.815 167.265 832.815 Q171.663 832.815 173.954 831.078 Q176.269 829.342 176.269 826.032 Q176.269 822.977 174.116 821.264 Q171.987 819.528 168.167 819.528 L164.14 819.528 L164.14 815.685 L168.353 815.685 Q171.802 815.685 173.63 814.319 Q175.459 812.93 175.459 810.338 Q175.459 807.676 173.561 806.264 Q171.686 804.829 168.167 804.829 Q166.246 804.829 164.047 805.245 Q161.848 805.662 159.209 806.542 L159.209 802.375 Q161.871 801.634 164.186 801.264 Q166.524 800.893 168.584 800.893 Q173.908 800.893 177.01 803.324 Q180.112 805.731 180.112 809.852 Q180.112 812.722 178.468 814.713 Q176.825 816.68 173.792 817.444 Z\" fill=\"#000000\" fill-rule=\"nonzero\" fill-opacity=\"1\" /><path clip-path=\"url(#clip980)\" d=\"M62.9365 595.502 Q59.3254 595.502 57.4967 599.067 Q55.6912 602.608 55.6912 609.738 Q55.6912 616.844 57.4967 620.409 Q59.3254 623.951 62.9365 623.951 Q66.5707 623.951 68.3763 620.409 Q70.205 616.844 70.205 609.738 Q70.205 602.608 68.3763 599.067 Q66.5707 595.502 62.9365 595.502 M62.9365 591.798 Q68.7467 591.798 71.8022 596.405 Q74.8809 600.988 74.8809 609.738 Q74.8809 618.465 71.8022 623.071 Q68.7467 627.654 62.9365 627.654 Q57.1264 627.654 54.0477 623.071 Q50.9921 618.465 50.9921 609.738 Q50.9921 600.988 54.0477 596.405 Q57.1264 591.798 62.9365 591.798 Z\" fill=\"#000000\" fill-rule=\"nonzero\" fill-opacity=\"1\" /><path clip-path=\"url(#clip980)\" d=\"M83.0984 621.104 L87.9827 621.104 L87.9827 626.983 L83.0984 626.983 L83.0984 621.104 Z\" fill=\"#000000\" fill-rule=\"nonzero\" fill-opacity=\"1\" /><path clip-path=\"url(#clip980)\" d=\"M108.168 595.502 Q104.557 595.502 102.728 599.067 Q100.922 602.608 100.922 609.738 Q100.922 616.844 102.728 620.409 Q104.557 623.951 108.168 623.951 Q111.802 623.951 113.608 620.409 Q115.436 616.844 115.436 609.738 Q115.436 602.608 113.608 599.067 Q111.802 595.502 108.168 595.502 M108.168 591.798 Q113.978 591.798 117.033 596.405 Q120.112 600.988 120.112 609.738 Q120.112 618.465 117.033 623.071 Q113.978 627.654 108.168 627.654 Q102.358 627.654 99.2789 623.071 Q96.2234 618.465 96.2234 609.738 Q96.2234 600.988 99.2789 596.405 Q102.358 591.798 108.168 591.798 Z\" fill=\"#000000\" fill-rule=\"nonzero\" fill-opacity=\"1\" /><path clip-path=\"url(#clip980)\" d=\"M138.33 595.502 Q134.719 595.502 132.89 599.067 Q131.084 602.608 131.084 609.738 Q131.084 616.844 132.89 620.409 Q134.719 623.951 138.33 623.951 Q141.964 623.951 143.769 620.409 Q145.598 616.844 145.598 609.738 Q145.598 602.608 143.769 599.067 Q141.964 595.502 138.33 595.502 M138.33 591.798 Q144.14 591.798 147.195 596.405 Q150.274 600.988 150.274 609.738 Q150.274 618.465 147.195 623.071 Q144.14 627.654 138.33 627.654 Q132.519 627.654 129.441 623.071 Q126.385 618.465 126.385 609.738 Q126.385 600.988 129.441 596.405 Q132.519 591.798 138.33 591.798 Z\" fill=\"#000000\" fill-rule=\"nonzero\" fill-opacity=\"1\" /><path clip-path=\"url(#clip980)\" d=\"M171.339 596.497 L159.533 614.946 L171.339 614.946 L171.339 596.497 M170.112 592.423 L175.991 592.423 L175.991 614.946 L180.922 614.946 L180.922 618.835 L175.991 618.835 L175.991 626.983 L171.339 626.983 L171.339 618.835 L155.737 618.835 L155.737 614.321 L170.112 592.423 Z\" fill=\"#000000\" fill-rule=\"nonzero\" fill-opacity=\"1\" /><path clip-path=\"url(#clip980)\" d=\"M64.418 386.407 Q60.8069 386.407 58.9782 389.971 Q57.1726 393.513 57.1726 400.643 Q57.1726 407.749 58.9782 411.314 Q60.8069 414.856 64.418 414.856 Q68.0522 414.856 69.8578 411.314 Q71.6865 407.749 71.6865 400.643 Q71.6865 393.513 69.8578 389.971 Q68.0522 386.407 64.418 386.407 M64.418 382.703 Q70.2281 382.703 73.2837 387.309 Q76.3624 391.893 76.3624 400.643 Q76.3624 409.369 73.2837 413.976 Q70.2281 418.559 64.418 418.559 Q58.6078 418.559 55.5291 413.976 Q52.4736 409.369 52.4736 400.643 Q52.4736 391.893 55.5291 387.309 Q58.6078 382.703 64.418 382.703 Z\" fill=\"#000000\" fill-rule=\"nonzero\" fill-opacity=\"1\" /><path clip-path=\"url(#clip980)\" d=\"M84.5799 412.008 L89.4641 412.008 L89.4641 417.888 L84.5799 417.888 L84.5799 412.008 Z\" fill=\"#000000\" fill-rule=\"nonzero\" fill-opacity=\"1\" /><path clip-path=\"url(#clip980)\" d=\"M109.649 386.407 Q106.038 386.407 104.209 389.971 Q102.404 393.513 102.404 400.643 Q102.404 407.749 104.209 411.314 Q106.038 414.856 109.649 414.856 Q113.283 414.856 115.089 411.314 Q116.918 407.749 116.918 400.643 Q116.918 393.513 115.089 389.971 Q113.283 386.407 109.649 386.407 M109.649 382.703 Q115.459 382.703 118.515 387.309 Q121.594 391.893 121.594 400.643 Q121.594 409.369 118.515 413.976 Q115.459 418.559 109.649 418.559 Q103.839 418.559 100.76 413.976 Q97.7048 409.369 97.7048 400.643 Q97.7048 391.893 100.76 387.309 Q103.839 382.703 109.649 382.703 Z\" fill=\"#000000\" fill-rule=\"nonzero\" fill-opacity=\"1\" /><path clip-path=\"url(#clip980)\" d=\"M139.811 386.407 Q136.2 386.407 134.371 389.971 Q132.566 393.513 132.566 400.643 Q132.566 407.749 134.371 411.314 Q136.2 414.856 139.811 414.856 Q143.445 414.856 145.251 411.314 Q147.08 407.749 147.08 400.643 Q147.08 393.513 145.251 389.971 Q143.445 386.407 139.811 386.407 M139.811 382.703 Q145.621 382.703 148.677 387.309 Q151.755 391.893 151.755 400.643 Q151.755 409.369 148.677 413.976 Q145.621 418.559 139.811 418.559 Q134.001 418.559 130.922 413.976 Q127.867 409.369 127.867 400.643 Q127.867 391.893 130.922 387.309 Q134.001 382.703 139.811 382.703 Z\" fill=\"#000000\" fill-rule=\"nonzero\" fill-opacity=\"1\" /><path clip-path=\"url(#clip980)\" d=\"M160.019 383.328 L178.376 383.328 L178.376 387.263 L164.302 387.263 L164.302 395.735 Q165.32 395.388 166.339 395.226 Q167.357 395.041 168.376 395.041 Q174.163 395.041 177.542 398.212 Q180.922 401.383 180.922 406.8 Q180.922 412.379 177.45 415.481 Q173.978 418.559 167.658 418.559 Q165.482 418.559 163.214 418.189 Q160.968 417.818 158.561 417.078 L158.561 412.379 Q160.644 413.513 162.867 414.068 Q165.089 414.624 167.566 414.624 Q171.57 414.624 173.908 412.518 Q176.246 410.411 176.246 406.8 Q176.246 403.189 173.908 401.082 Q171.57 398.976 167.566 398.976 Q165.691 398.976 163.816 399.393 Q161.964 399.809 160.019 400.689 L160.019 383.328 Z\" fill=\"#000000\" fill-rule=\"nonzero\" fill-opacity=\"1\" /><path clip-path=\"url(#clip980)\" d=\"M63.2606 177.311 Q59.6495 177.311 57.8208 180.876 Q56.0152 184.418 56.0152 191.547 Q56.0152 198.654 57.8208 202.219 Q59.6495 205.76 63.2606 205.76 Q66.8948 205.76 68.7004 202.219 Q70.5291 198.654 70.5291 191.547 Q70.5291 184.418 68.7004 180.876 Q66.8948 177.311 63.2606 177.311 M63.2606 173.608 Q69.0707 173.608 72.1263 178.214 Q75.205 182.797 75.205 191.547 Q75.205 200.274 72.1263 204.881 Q69.0707 209.464 63.2606 209.464 Q57.4504 209.464 54.3717 204.881 Q51.3162 200.274 51.3162 191.547 Q51.3162 182.797 54.3717 178.214 Q57.4504 173.608 63.2606 173.608 Z\" fill=\"#000000\" fill-rule=\"nonzero\" fill-opacity=\"1\" /><path clip-path=\"url(#clip980)\" d=\"M83.4225 202.913 L88.3067 202.913 L88.3067 208.793 L83.4225 208.793 L83.4225 202.913 Z\" fill=\"#000000\" fill-rule=\"nonzero\" fill-opacity=\"1\" /><path clip-path=\"url(#clip980)\" d=\"M108.492 177.311 Q104.881 177.311 103.052 180.876 Q101.246 184.418 101.246 191.547 Q101.246 198.654 103.052 202.219 Q104.881 205.76 108.492 205.76 Q112.126 205.76 113.932 202.219 Q115.76 198.654 115.76 191.547 Q115.76 184.418 113.932 180.876 Q112.126 177.311 108.492 177.311 M108.492 173.608 Q114.302 173.608 117.358 178.214 Q120.436 182.797 120.436 191.547 Q120.436 200.274 117.358 204.881 Q114.302 209.464 108.492 209.464 Q102.682 209.464 99.603 204.881 Q96.5474 200.274 96.5474 191.547 Q96.5474 182.797 99.603 178.214 Q102.682 173.608 108.492 173.608 Z\" fill=\"#000000\" fill-rule=\"nonzero\" fill-opacity=\"1\" /><path clip-path=\"url(#clip980)\" d=\"M138.654 177.311 Q135.043 177.311 133.214 180.876 Q131.408 184.418 131.408 191.547 Q131.408 198.654 133.214 202.219 Q135.043 205.76 138.654 205.76 Q142.288 205.76 144.093 202.219 Q145.922 198.654 145.922 191.547 Q145.922 184.418 144.093 180.876 Q142.288 177.311 138.654 177.311 M138.654 173.608 Q144.464 173.608 147.519 178.214 Q150.598 182.797 150.598 191.547 Q150.598 200.274 147.519 204.881 Q144.464 209.464 138.654 209.464 Q132.844 209.464 129.765 204.881 Q126.709 200.274 126.709 191.547 Q126.709 182.797 129.765 178.214 Q132.844 173.608 138.654 173.608 Z\" fill=\"#000000\" fill-rule=\"nonzero\" fill-opacity=\"1\" /><path clip-path=\"url(#clip980)\" d=\"M169.394 189.649 Q166.246 189.649 164.394 191.802 Q162.566 193.955 162.566 197.705 Q162.566 201.432 164.394 203.608 Q166.246 205.76 169.394 205.76 Q172.542 205.76 174.371 203.608 Q176.223 201.432 176.223 197.705 Q176.223 193.955 174.371 191.802 Q172.542 189.649 169.394 189.649 M178.677 174.997 L178.677 179.256 Q176.917 178.422 175.112 177.983 Q173.329 177.543 171.57 177.543 Q166.941 177.543 164.487 180.668 Q162.056 183.793 161.709 190.112 Q163.075 188.098 165.135 187.034 Q167.195 185.946 169.672 185.946 Q174.88 185.946 177.89 189.117 Q180.922 192.265 180.922 197.705 Q180.922 203.029 177.774 206.246 Q174.626 209.464 169.394 209.464 Q163.399 209.464 160.228 204.881 Q157.056 200.274 157.056 191.547 Q157.056 183.353 160.945 178.492 Q164.834 173.608 171.385 173.608 Q173.144 173.608 174.927 173.955 Q176.732 174.302 178.677 174.997 Z\" fill=\"#000000\" fill-rule=\"nonzero\" fill-opacity=\"1\" /><polyline clip-path=\"url(#clip982)\" style=\"stroke:#009af9; stroke-linecap:round; stroke-linejoin:round; stroke-width:4; stroke-opacity:1; fill:none\" points=\"277.37,1445.72 278.379,1445.17 279.387,1444.37 280.396,1443.31 281.404,1441.99 282.413,1440.44 283.421,1438.7 284.429,1436.8 285.438,1434.77 286.446,1432.66 287.455,1430.5 288.463,1428.31 289.472,1426.13 290.48,1423.98 291.489,1421.86 292.497,1419.79 293.506,1417.77 294.514,1415.81 295.523,1413.89 296.531,1412.02 298.548,1408.38 299.557,1406.6 300.565,1404.82 302.582,1401.25 303.591,1399.44 305.607,1395.77 307.624,1392 308.633,1390.08 310.65,1386.17 312.667,1382.24 314.684,1378.34 317.709,1372.66 319.726,1369.06 321.743,1365.67 324.769,1361.05 327.794,1356.99 330.819,1353.42 333.845,1350.21 336.87,1347.29 339.896,1344.46 343.93,1340.71 347.964,1336.84 351.997,1332.79 356.031,1328.66 361.074,1323.47 366.116,1318.47 371.159,1313.81 376.201,1309.51 382.252,1304.71 387.294,1300.95 394.353,1295.77 400.404,1291.26 407.464,1285.93 415.532,1279.75 422.591,1274.34 431.667,1267.51 439.735,1261.51 448.811,1254.78 458.896,1247.25 468.981,1239.59 480.074,1231.02 492.176,1221.56 504.278,1211.99 516.379,1202.28 530.498,1190.76 544.617,1179.04 559.744,1166.27 575.879,1152.43 592.015,1138.37 610.168,1122.32 628.32,1106.04 648.49,1087.73 669.668,1068.29 691.854,1047.74 715.049,1026.09 739.253,1003.4 765.473,978.738 792.702,953.125 821.948,925.679 852.202,897.433 884.473,867.544 918.762,836.14 954.058,804.272 992.381,770.278 1032.72,735.257 1075.08,699.399 1119.45,662.903 1166.85,625.185 1216.26,587.298 1269.71,547.999 1325.18,509.077 1383.67,470.076 1445.19,431.289 1510.74,392.415 1580.32,353.83 1652.93,316.388 1730.59,279.372 1811.26,244.03 1896.98,209.727 1987.75,176.779 2083.55,145.454 2185.41,115.686 2292.31,87.9803 \"/>\n",
       "<polyline clip-path=\"url(#clip982)\" style=\"stroke:#e26f46; stroke-linecap:round; stroke-linejoin:round; stroke-width:4; stroke-opacity:1; fill:none\" points=\"277.37,1445.72 278.379,1445.17 279.387,1444.37 280.396,1443.31 281.404,1441.99 282.413,1440.45 283.421,1438.7 284.429,1436.8 285.438,1434.78 286.446,1432.66 287.455,1430.5 288.463,1428.31 289.472,1426.13 290.48,1423.98 291.489,1421.86 292.497,1419.79 293.506,1417.77 294.514,1415.8 295.523,1413.89 296.531,1412.02 298.548,1408.39 299.557,1406.6 300.565,1404.82 302.582,1401.26 303.591,1399.45 305.607,1395.78 307.624,1392.01 308.633,1390.08 310.65,1386.18 312.667,1382.24 314.684,1378.32 317.709,1372.62 319.726,1369.01 321.743,1365.62 324.769,1360.99 327.794,1356.91 330.819,1353.34 333.845,1350.17 336.87,1347.25 339.896,1344.44 343.93,1340.71 347.964,1336.84 351.997,1332.79 356.031,1328.62 361.074,1323.41 366.116,1318.39 371.159,1313.71 376.201,1309.4 382.252,1304.64 387.294,1300.89 394.353,1295.71 400.404,1291.23 407.464,1285.87 415.532,1279.67 422.591,1274.26 431.667,1267.42 439.735,1261.43 448.811,1254.71 458.896,1247.18 468.981,1239.52 480.074,1230.96 492.176,1221.5 504.278,1211.93 516.379,1202.22 530.498,1190.7 544.617,1178.97 559.744,1166.2 575.879,1152.35 592.015,1138.29 610.168,1122.23 628.32,1105.95 648.49,1087.63 669.668,1068.19 691.854,1047.63 715.049,1025.98 739.253,1003.27 765.473,978.607 792.702,952.986 821.948,925.532 852.202,897.277 884.473,867.379 918.762,835.965 954.058,804.086 992.381,770.083 1032.72,735.05 1075.08,699.181 1119.45,662.673 1166.85,624.943 1216.26,587.044 1269.71,547.732 1325.18,508.797 1383.67,469.784 1445.19,430.985 1510.74,392.095 1580.32,353.498 1652.93,316.044 1730.59,279.016 1811.26,243.662 1896.98,209.347 1987.75,176.388 2083.55,145.05 2185.41,115.273 2292.31,87.9763 \"/>\n",
       "<path clip-path=\"url(#clip980)\" d=\"M288.116 250.738 L554.13 250.738 L554.13 95.2176 L288.116 95.2176  Z\" fill=\"#ffffff\" fill-rule=\"evenodd\" fill-opacity=\"1\"/>\n",
       "<polyline clip-path=\"url(#clip980)\" style=\"stroke:#000000; stroke-linecap:round; stroke-linejoin:round; stroke-width:4; stroke-opacity:1; fill:none\" points=\"288.116,250.738 554.13,250.738 554.13,95.2176 288.116,95.2176 288.116,250.738 \"/>\n",
       "<polyline clip-path=\"url(#clip980)\" style=\"stroke:#009af9; stroke-linecap:round; stroke-linejoin:round; stroke-width:4; stroke-opacity:1; fill:none\" points=\"311.848,147.058 454.237,147.058 \"/>\n",
       "<path clip-path=\"url(#clip980)\" d=\"M491.811 166.745 Q490.005 171.375 488.292 172.787 Q486.579 174.199 483.709 174.199 L480.306 174.199 L480.306 170.634 L482.806 170.634 Q484.566 170.634 485.538 169.8 Q486.51 168.967 487.691 165.865 L488.454 163.921 L477.968 138.412 L482.482 138.412 L490.584 158.689 L498.686 138.412 L503.2 138.412 L491.811 166.745 Z\" fill=\"#000000\" fill-rule=\"nonzero\" fill-opacity=\"1\" /><path clip-path=\"url(#clip980)\" d=\"M510.491 160.402 L518.13 160.402 L518.13 134.037 L509.82 135.703 L509.82 131.444 L518.084 129.778 L522.76 129.778 L522.76 160.402 L530.399 160.402 L530.399 164.338 L510.491 164.338 L510.491 160.402 Z\" fill=\"#000000\" fill-rule=\"nonzero\" fill-opacity=\"1\" /><polyline clip-path=\"url(#clip980)\" style=\"stroke:#e26f46; stroke-linecap:round; stroke-linejoin:round; stroke-width:4; stroke-opacity:1; fill:none\" points=\"311.848,198.898 454.237,198.898 \"/>\n",
       "<path clip-path=\"url(#clip980)\" d=\"M491.811 218.585 Q490.005 223.215 488.292 224.627 Q486.579 226.039 483.709 226.039 L480.306 226.039 L480.306 222.474 L482.806 222.474 Q484.566 222.474 485.538 221.64 Q486.51 220.807 487.691 217.705 L488.454 215.761 L477.968 190.252 L482.482 190.252 L490.584 210.529 L498.686 190.252 L503.2 190.252 L491.811 218.585 Z\" fill=\"#000000\" fill-rule=\"nonzero\" fill-opacity=\"1\" /><path clip-path=\"url(#clip980)\" d=\"M513.709 212.242 L530.028 212.242 L530.028 216.178 L508.084 216.178 L508.084 212.242 Q510.746 209.488 515.329 204.858 Q519.936 200.205 521.116 198.863 Q523.362 196.34 524.241 194.604 Q525.144 192.844 525.144 191.155 Q525.144 188.4 523.2 186.664 Q521.278 184.928 518.176 184.928 Q515.977 184.928 513.524 185.692 Q511.093 186.455 508.315 188.006 L508.315 183.284 Q511.139 182.15 513.593 181.571 Q516.047 180.993 518.084 180.993 Q523.454 180.993 526.649 183.678 Q529.843 186.363 529.843 190.854 Q529.843 192.983 529.033 194.905 Q528.246 196.803 526.139 199.395 Q525.561 200.067 522.459 203.284 Q519.357 206.479 513.709 212.242 Z\" fill=\"#000000\" fill-rule=\"nonzero\" fill-opacity=\"1\" /></svg>\n"
      ],
      "text/html": [
       "<?xml version=\"1.0\" encoding=\"utf-8\"?>\n",
       "<svg xmlns=\"http://www.w3.org/2000/svg\" xmlns:xlink=\"http://www.w3.org/1999/xlink\" width=\"600\" height=\"400\" viewBox=\"0 0 2400 1600\">\n",
       "<defs>\n",
       "  <clipPath id=\"clip030\">\n",
       "    <rect x=\"0\" y=\"0\" width=\"2400\" height=\"1600\"/>\n",
       "  </clipPath>\n",
       "</defs>\n",
       "<path clip-path=\"url(#clip030)\" d=\"M0 1600 L2400 1600 L2400 0 L0 0  Z\" fill=\"#ffffff\" fill-rule=\"evenodd\" fill-opacity=\"1\"/>\n",
       "<defs>\n",
       "  <clipPath id=\"clip031\">\n",
       "    <rect x=\"480\" y=\"0\" width=\"1681\" height=\"1600\"/>\n",
       "  </clipPath>\n",
       "</defs>\n",
       "<path clip-path=\"url(#clip030)\" d=\"M216.922 1486.45 L2352.76 1486.45 L2352.76 47.2441 L216.922 47.2441  Z\" fill=\"#ffffff\" fill-rule=\"evenodd\" fill-opacity=\"1\"/>\n",
       "<defs>\n",
       "  <clipPath id=\"clip032\">\n",
       "    <rect x=\"216\" y=\"47\" width=\"2137\" height=\"1440\"/>\n",
       "  </clipPath>\n",
       "</defs>\n",
       "<polyline clip-path=\"url(#clip032)\" style=\"stroke:#000000; stroke-linecap:round; stroke-linejoin:round; stroke-width:2; stroke-opacity:0.1; fill:none\" points=\"275.353,1486.45 275.353,47.2441 \"/>\n",
       "<polyline clip-path=\"url(#clip032)\" style=\"stroke:#000000; stroke-linecap:round; stroke-linejoin:round; stroke-width:2; stroke-opacity:0.1; fill:none\" points=\"779.592,1486.45 779.592,47.2441 \"/>\n",
       "<polyline clip-path=\"url(#clip032)\" style=\"stroke:#000000; stroke-linecap:round; stroke-linejoin:round; stroke-width:2; stroke-opacity:0.1; fill:none\" points=\"1283.83,1486.45 1283.83,47.2441 \"/>\n",
       "<polyline clip-path=\"url(#clip032)\" style=\"stroke:#000000; stroke-linecap:round; stroke-linejoin:round; stroke-width:2; stroke-opacity:0.1; fill:none\" points=\"1788.07,1486.45 1788.07,47.2441 \"/>\n",
       "<polyline clip-path=\"url(#clip032)\" style=\"stroke:#000000; stroke-linecap:round; stroke-linejoin:round; stroke-width:2; stroke-opacity:0.1; fill:none\" points=\"2292.31,1486.45 2292.31,47.2441 \"/>\n",
       "<polyline clip-path=\"url(#clip030)\" style=\"stroke:#000000; stroke-linecap:round; stroke-linejoin:round; stroke-width:4; stroke-opacity:1; fill:none\" points=\"216.922,1486.45 2352.76,1486.45 \"/>\n",
       "<polyline clip-path=\"url(#clip030)\" style=\"stroke:#000000; stroke-linecap:round; stroke-linejoin:round; stroke-width:4; stroke-opacity:1; fill:none\" points=\"275.353,1486.45 275.353,1467.55 \"/>\n",
       "<polyline clip-path=\"url(#clip030)\" style=\"stroke:#000000; stroke-linecap:round; stroke-linejoin:round; stroke-width:4; stroke-opacity:1; fill:none\" points=\"779.592,1486.45 779.592,1467.55 \"/>\n",
       "<polyline clip-path=\"url(#clip030)\" style=\"stroke:#000000; stroke-linecap:round; stroke-linejoin:round; stroke-width:4; stroke-opacity:1; fill:none\" points=\"1283.83,1486.45 1283.83,1467.55 \"/>\n",
       "<polyline clip-path=\"url(#clip030)\" style=\"stroke:#000000; stroke-linecap:round; stroke-linejoin:round; stroke-width:4; stroke-opacity:1; fill:none\" points=\"1788.07,1486.45 1788.07,1467.55 \"/>\n",
       "<polyline clip-path=\"url(#clip030)\" style=\"stroke:#000000; stroke-linecap:round; stroke-linejoin:round; stroke-width:4; stroke-opacity:1; fill:none\" points=\"2292.31,1486.45 2292.31,1467.55 \"/>\n",
       "<path clip-path=\"url(#clip030)\" d=\"M275.353 1517.37 Q271.742 1517.37 269.913 1520.93 Q268.108 1524.47 268.108 1531.6 Q268.108 1538.71 269.913 1542.27 Q271.742 1545.82 275.353 1545.82 Q278.987 1545.82 280.793 1542.27 Q282.622 1538.71 282.622 1531.6 Q282.622 1524.47 280.793 1520.93 Q278.987 1517.37 275.353 1517.37 M275.353 1513.66 Q281.163 1513.66 284.219 1518.27 Q287.298 1522.85 287.298 1531.6 Q287.298 1540.33 284.219 1544.94 Q281.163 1549.52 275.353 1549.52 Q269.543 1549.52 266.464 1544.94 Q263.409 1540.33 263.409 1531.6 Q263.409 1522.85 266.464 1518.27 Q269.543 1513.66 275.353 1513.66 Z\" fill=\"#000000\" fill-rule=\"nonzero\" fill-opacity=\"1\" /><path clip-path=\"url(#clip030)\" d=\"M739.21 1514.29 L757.566 1514.29 L757.566 1518.22 L743.492 1518.22 L743.492 1526.7 Q744.511 1526.35 745.529 1526.19 Q746.548 1526 747.567 1526 Q753.354 1526 756.733 1529.17 Q760.113 1532.34 760.113 1537.76 Q760.113 1543.34 756.641 1546.44 Q753.168 1549.52 746.849 1549.52 Q744.673 1549.52 742.405 1549.15 Q740.159 1548.78 737.752 1548.04 L737.752 1543.34 Q739.835 1544.47 742.057 1545.03 Q744.28 1545.58 746.756 1545.58 Q750.761 1545.58 753.099 1543.48 Q755.437 1541.37 755.437 1537.76 Q755.437 1534.15 753.099 1532.04 Q750.761 1529.94 746.756 1529.94 Q744.881 1529.94 743.006 1530.35 Q741.155 1530.77 739.21 1531.65 L739.21 1514.29 Z\" fill=\"#000000\" fill-rule=\"nonzero\" fill-opacity=\"1\" /><path clip-path=\"url(#clip030)\" d=\"M779.326 1517.37 Q775.715 1517.37 773.886 1520.93 Q772.08 1524.47 772.08 1531.6 Q772.08 1538.71 773.886 1542.27 Q775.715 1545.82 779.326 1545.82 Q782.96 1545.82 784.765 1542.27 Q786.594 1538.71 786.594 1531.6 Q786.594 1524.47 784.765 1520.93 Q782.96 1517.37 779.326 1517.37 M779.326 1513.66 Q785.136 1513.66 788.191 1518.27 Q791.27 1522.85 791.27 1531.6 Q791.27 1540.33 788.191 1544.94 Q785.136 1549.52 779.326 1549.52 Q773.515 1549.52 770.437 1544.94 Q767.381 1540.33 767.381 1531.6 Q767.381 1522.85 770.437 1518.27 Q773.515 1513.66 779.326 1513.66 Z\" fill=\"#000000\" fill-rule=\"nonzero\" fill-opacity=\"1\" /><path clip-path=\"url(#clip030)\" d=\"M809.487 1517.37 Q805.876 1517.37 804.048 1520.93 Q802.242 1524.47 802.242 1531.6 Q802.242 1538.71 804.048 1542.27 Q805.876 1545.82 809.487 1545.82 Q813.122 1545.82 814.927 1542.27 Q816.756 1538.71 816.756 1531.6 Q816.756 1524.47 814.927 1520.93 Q813.122 1517.37 809.487 1517.37 M809.487 1513.66 Q815.298 1513.66 818.353 1518.27 Q821.432 1522.85 821.432 1531.6 Q821.432 1540.33 818.353 1544.94 Q815.298 1549.52 809.487 1549.52 Q803.677 1549.52 800.599 1544.94 Q797.543 1540.33 797.543 1531.6 Q797.543 1522.85 800.599 1518.27 Q803.677 1513.66 809.487 1513.66 Z\" fill=\"#000000\" fill-rule=\"nonzero\" fill-opacity=\"1\" /><path clip-path=\"url(#clip030)\" d=\"M1228.36 1544.91 L1236 1544.91 L1236 1518.55 L1227.68 1520.21 L1227.68 1515.95 L1235.95 1514.29 L1240.62 1514.29 L1240.62 1544.91 L1248.26 1544.91 L1248.26 1548.85 L1228.36 1548.85 L1228.36 1544.91 Z\" fill=\"#000000\" fill-rule=\"nonzero\" fill-opacity=\"1\" /><path clip-path=\"url(#clip030)\" d=\"M1267.71 1517.37 Q1264.1 1517.37 1262.27 1520.93 Q1260.46 1524.47 1260.46 1531.6 Q1260.46 1538.71 1262.27 1542.27 Q1264.1 1545.82 1267.71 1545.82 Q1271.34 1545.82 1273.15 1542.27 Q1274.98 1538.71 1274.98 1531.6 Q1274.98 1524.47 1273.15 1520.93 Q1271.34 1517.37 1267.71 1517.37 M1267.71 1513.66 Q1273.52 1513.66 1276.57 1518.27 Q1279.65 1522.85 1279.65 1531.6 Q1279.65 1540.33 1276.57 1544.94 Q1273.52 1549.52 1267.71 1549.52 Q1261.9 1549.52 1258.82 1544.94 Q1255.76 1540.33 1255.76 1531.6 Q1255.76 1522.85 1258.82 1518.27 Q1261.9 1513.66 1267.71 1513.66 Z\" fill=\"#000000\" fill-rule=\"nonzero\" fill-opacity=\"1\" /><path clip-path=\"url(#clip030)\" d=\"M1297.87 1517.37 Q1294.26 1517.37 1292.43 1520.93 Q1290.62 1524.47 1290.62 1531.6 Q1290.62 1538.71 1292.43 1542.27 Q1294.26 1545.82 1297.87 1545.82 Q1301.5 1545.82 1303.31 1542.27 Q1305.14 1538.71 1305.14 1531.6 Q1305.14 1524.47 1303.31 1520.93 Q1301.5 1517.37 1297.87 1517.37 M1297.87 1513.66 Q1303.68 1513.66 1306.74 1518.27 Q1309.81 1522.85 1309.81 1531.6 Q1309.81 1540.33 1306.74 1544.94 Q1303.68 1549.52 1297.87 1549.52 Q1292.06 1549.52 1288.98 1544.94 Q1285.93 1540.33 1285.93 1531.6 Q1285.93 1522.85 1288.98 1518.27 Q1292.06 1513.66 1297.87 1513.66 Z\" fill=\"#000000\" fill-rule=\"nonzero\" fill-opacity=\"1\" /><path clip-path=\"url(#clip030)\" d=\"M1328.03 1517.37 Q1324.42 1517.37 1322.59 1520.93 Q1320.79 1524.47 1320.79 1531.6 Q1320.79 1538.71 1322.59 1542.27 Q1324.42 1545.82 1328.03 1545.82 Q1331.67 1545.82 1333.47 1542.27 Q1335.3 1538.71 1335.3 1531.6 Q1335.3 1524.47 1333.47 1520.93 Q1331.67 1517.37 1328.03 1517.37 M1328.03 1513.66 Q1333.84 1513.66 1336.9 1518.27 Q1339.98 1522.85 1339.98 1531.6 Q1339.98 1540.33 1336.9 1544.94 Q1333.84 1549.52 1328.03 1549.52 Q1322.22 1549.52 1319.14 1544.94 Q1316.09 1540.33 1316.09 1531.6 Q1316.09 1522.85 1319.14 1518.27 Q1322.22 1513.66 1328.03 1513.66 Z\" fill=\"#000000\" fill-rule=\"nonzero\" fill-opacity=\"1\" /><path clip-path=\"url(#clip030)\" d=\"M1732.59 1544.91 L1740.23 1544.91 L1740.23 1518.55 L1731.92 1520.21 L1731.92 1515.95 L1740.19 1514.29 L1744.86 1514.29 L1744.86 1544.91 L1752.5 1544.91 L1752.5 1548.85 L1732.59 1548.85 L1732.59 1544.91 Z\" fill=\"#000000\" fill-rule=\"nonzero\" fill-opacity=\"1\" /><path clip-path=\"url(#clip030)\" d=\"M1761.99 1514.29 L1780.35 1514.29 L1780.35 1518.22 L1766.28 1518.22 L1766.28 1526.7 Q1767.29 1526.35 1768.31 1526.19 Q1769.33 1526 1770.35 1526 Q1776.14 1526 1779.52 1529.17 Q1782.9 1532.34 1782.9 1537.76 Q1782.9 1543.34 1779.42 1546.44 Q1775.95 1549.52 1769.63 1549.52 Q1767.46 1549.52 1765.19 1549.15 Q1762.94 1548.78 1760.53 1548.04 L1760.53 1543.34 Q1762.62 1544.47 1764.84 1545.03 Q1767.06 1545.58 1769.54 1545.58 Q1773.54 1545.58 1775.88 1543.48 Q1778.22 1541.37 1778.22 1537.76 Q1778.22 1534.15 1775.88 1532.04 Q1773.54 1529.94 1769.54 1529.94 Q1767.66 1529.94 1765.79 1530.35 Q1763.94 1530.77 1761.99 1531.65 L1761.99 1514.29 Z\" fill=\"#000000\" fill-rule=\"nonzero\" fill-opacity=\"1\" /><path clip-path=\"url(#clip030)\" d=\"M1802.11 1517.37 Q1798.5 1517.37 1796.67 1520.93 Q1794.86 1524.47 1794.86 1531.6 Q1794.86 1538.71 1796.67 1542.27 Q1798.5 1545.82 1802.11 1545.82 Q1805.74 1545.82 1807.55 1542.27 Q1809.38 1538.71 1809.38 1531.6 Q1809.38 1524.47 1807.55 1520.93 Q1805.74 1517.37 1802.11 1517.37 M1802.11 1513.66 Q1807.92 1513.66 1810.97 1518.27 Q1814.05 1522.85 1814.05 1531.6 Q1814.05 1540.33 1810.97 1544.94 Q1807.92 1549.52 1802.11 1549.52 Q1796.3 1549.52 1793.22 1544.94 Q1790.16 1540.33 1790.16 1531.6 Q1790.16 1522.85 1793.22 1518.27 Q1796.3 1513.66 1802.11 1513.66 Z\" fill=\"#000000\" fill-rule=\"nonzero\" fill-opacity=\"1\" /><path clip-path=\"url(#clip030)\" d=\"M1832.27 1517.37 Q1828.66 1517.37 1826.83 1520.93 Q1825.02 1524.47 1825.02 1531.6 Q1825.02 1538.71 1826.83 1542.27 Q1828.66 1545.82 1832.27 1545.82 Q1835.9 1545.82 1837.71 1542.27 Q1839.54 1538.71 1839.54 1531.6 Q1839.54 1524.47 1837.71 1520.93 Q1835.9 1517.37 1832.27 1517.37 M1832.27 1513.66 Q1838.08 1513.66 1841.14 1518.27 Q1844.21 1522.85 1844.21 1531.6 Q1844.21 1540.33 1841.14 1544.94 Q1838.08 1549.52 1832.27 1549.52 Q1826.46 1549.52 1823.38 1544.94 Q1820.33 1540.33 1820.33 1531.6 Q1820.33 1522.85 1823.38 1518.27 Q1826.46 1513.66 1832.27 1513.66 Z\" fill=\"#000000\" fill-rule=\"nonzero\" fill-opacity=\"1\" /><path clip-path=\"url(#clip030)\" d=\"M2240.92 1544.91 L2257.24 1544.91 L2257.24 1548.85 L2235.29 1548.85 L2235.29 1544.91 Q2237.96 1542.16 2242.54 1537.53 Q2247.15 1532.88 2248.33 1531.53 Q2250.57 1529.01 2251.45 1527.27 Q2252.35 1525.51 2252.35 1523.82 Q2252.35 1521.07 2250.41 1519.33 Q2248.49 1517.6 2245.39 1517.6 Q2243.19 1517.6 2240.73 1518.36 Q2238.3 1519.13 2235.53 1520.68 L2235.53 1515.95 Q2238.35 1514.82 2240.8 1514.24 Q2243.26 1513.66 2245.29 1513.66 Q2250.66 1513.66 2253.86 1516.35 Q2257.05 1519.03 2257.05 1523.52 Q2257.05 1525.65 2256.24 1527.57 Q2255.46 1529.47 2253.35 1532.07 Q2252.77 1532.74 2249.67 1535.95 Q2246.57 1539.15 2240.92 1544.91 Z\" fill=\"#000000\" fill-rule=\"nonzero\" fill-opacity=\"1\" /><path clip-path=\"url(#clip030)\" d=\"M2277.05 1517.37 Q2273.44 1517.37 2271.61 1520.93 Q2269.81 1524.47 2269.81 1531.6 Q2269.81 1538.71 2271.61 1542.27 Q2273.44 1545.82 2277.05 1545.82 Q2280.69 1545.82 2282.49 1542.27 Q2284.32 1538.71 2284.32 1531.6 Q2284.32 1524.47 2282.49 1520.93 Q2280.69 1517.37 2277.05 1517.37 M2277.05 1513.66 Q2282.86 1513.66 2285.92 1518.27 Q2289 1522.85 2289 1531.6 Q2289 1540.33 2285.92 1544.94 Q2282.86 1549.52 2277.05 1549.52 Q2271.24 1549.52 2268.16 1544.94 Q2265.11 1540.33 2265.11 1531.6 Q2265.11 1522.85 2268.16 1518.27 Q2271.24 1513.66 2277.05 1513.66 Z\" fill=\"#000000\" fill-rule=\"nonzero\" fill-opacity=\"1\" /><path clip-path=\"url(#clip030)\" d=\"M2307.22 1517.37 Q2303.6 1517.37 2301.78 1520.93 Q2299.97 1524.47 2299.97 1531.6 Q2299.97 1538.71 2301.78 1542.27 Q2303.6 1545.82 2307.22 1545.82 Q2310.85 1545.82 2312.65 1542.27 Q2314.48 1538.71 2314.48 1531.6 Q2314.48 1524.47 2312.65 1520.93 Q2310.85 1517.37 2307.22 1517.37 M2307.22 1513.66 Q2313.03 1513.66 2316.08 1518.27 Q2319.16 1522.85 2319.16 1531.6 Q2319.16 1540.33 2316.08 1544.94 Q2313.03 1549.52 2307.22 1549.52 Q2301.4 1549.52 2298.33 1544.94 Q2295.27 1540.33 2295.27 1531.6 Q2295.27 1522.85 2298.33 1518.27 Q2301.4 1513.66 2307.22 1513.66 Z\" fill=\"#000000\" fill-rule=\"nonzero\" fill-opacity=\"1\" /><path clip-path=\"url(#clip030)\" d=\"M2337.38 1517.37 Q2333.77 1517.37 2331.94 1520.93 Q2330.13 1524.47 2330.13 1531.6 Q2330.13 1538.71 2331.94 1542.27 Q2333.77 1545.82 2337.38 1545.82 Q2341.01 1545.82 2342.82 1542.27 Q2344.65 1538.71 2344.65 1531.6 Q2344.65 1524.47 2342.82 1520.93 Q2341.01 1517.37 2337.38 1517.37 M2337.38 1513.66 Q2343.19 1513.66 2346.24 1518.27 Q2349.32 1522.85 2349.32 1531.6 Q2349.32 1540.33 2346.24 1544.94 Q2343.19 1549.52 2337.38 1549.52 Q2331.57 1549.52 2328.49 1544.94 Q2325.43 1540.33 2325.43 1531.6 Q2325.43 1522.85 2328.49 1518.27 Q2331.57 1513.66 2337.38 1513.66 Z\" fill=\"#000000\" fill-rule=\"nonzero\" fill-opacity=\"1\" /><polyline clip-path=\"url(#clip032)\" style=\"stroke:#000000; stroke-linecap:round; stroke-linejoin:round; stroke-width:2; stroke-opacity:0.1; fill:none\" points=\"216.922,1446.08 2352.76,1446.08 \"/>\n",
       "<polyline clip-path=\"url(#clip032)\" style=\"stroke:#000000; stroke-linecap:round; stroke-linejoin:round; stroke-width:2; stroke-opacity:0.1; fill:none\" points=\"216.922,1236.99 2352.76,1236.99 \"/>\n",
       "<polyline clip-path=\"url(#clip032)\" style=\"stroke:#000000; stroke-linecap:round; stroke-linejoin:round; stroke-width:2; stroke-opacity:0.1; fill:none\" points=\"216.922,1027.89 2352.76,1027.89 \"/>\n",
       "<polyline clip-path=\"url(#clip032)\" style=\"stroke:#000000; stroke-linecap:round; stroke-linejoin:round; stroke-width:2; stroke-opacity:0.1; fill:none\" points=\"216.922,818.798 2352.76,818.798 \"/>\n",
       "<polyline clip-path=\"url(#clip032)\" style=\"stroke:#000000; stroke-linecap:round; stroke-linejoin:round; stroke-width:2; stroke-opacity:0.1; fill:none\" points=\"216.922,609.703 2352.76,609.703 \"/>\n",
       "<polyline clip-path=\"url(#clip032)\" style=\"stroke:#000000; stroke-linecap:round; stroke-linejoin:round; stroke-width:2; stroke-opacity:0.1; fill:none\" points=\"216.922,400.608 2352.76,400.608 \"/>\n",
       "<polyline clip-path=\"url(#clip032)\" style=\"stroke:#000000; stroke-linecap:round; stroke-linejoin:round; stroke-width:2; stroke-opacity:0.1; fill:none\" points=\"216.922,191.513 2352.76,191.513 \"/>\n",
       "<polyline clip-path=\"url(#clip030)\" style=\"stroke:#000000; stroke-linecap:round; stroke-linejoin:round; stroke-width:4; stroke-opacity:1; fill:none\" points=\"216.922,1486.45 216.922,47.2441 \"/>\n",
       "<polyline clip-path=\"url(#clip030)\" style=\"stroke:#000000; stroke-linecap:round; stroke-linejoin:round; stroke-width:4; stroke-opacity:1; fill:none\" points=\"216.922,1446.08 235.82,1446.08 \"/>\n",
       "<polyline clip-path=\"url(#clip030)\" style=\"stroke:#000000; stroke-linecap:round; stroke-linejoin:round; stroke-width:4; stroke-opacity:1; fill:none\" points=\"216.922,1236.99 235.82,1236.99 \"/>\n",
       "<polyline clip-path=\"url(#clip030)\" style=\"stroke:#000000; stroke-linecap:round; stroke-linejoin:round; stroke-width:4; stroke-opacity:1; fill:none\" points=\"216.922,1027.89 235.82,1027.89 \"/>\n",
       "<polyline clip-path=\"url(#clip030)\" style=\"stroke:#000000; stroke-linecap:round; stroke-linejoin:round; stroke-width:4; stroke-opacity:1; fill:none\" points=\"216.922,818.798 235.82,818.798 \"/>\n",
       "<polyline clip-path=\"url(#clip030)\" style=\"stroke:#000000; stroke-linecap:round; stroke-linejoin:round; stroke-width:4; stroke-opacity:1; fill:none\" points=\"216.922,609.703 235.82,609.703 \"/>\n",
       "<polyline clip-path=\"url(#clip030)\" style=\"stroke:#000000; stroke-linecap:round; stroke-linejoin:round; stroke-width:4; stroke-opacity:1; fill:none\" points=\"216.922,400.608 235.82,400.608 \"/>\n",
       "<polyline clip-path=\"url(#clip030)\" style=\"stroke:#000000; stroke-linecap:round; stroke-linejoin:round; stroke-width:4; stroke-opacity:1; fill:none\" points=\"216.922,191.513 235.82,191.513 \"/>\n",
       "<path clip-path=\"url(#clip030)\" d=\"M63.4226 1431.88 Q59.8115 1431.88 57.9828 1435.45 Q56.1773 1438.99 56.1773 1446.12 Q56.1773 1453.23 57.9828 1456.79 Q59.8115 1460.33 63.4226 1460.33 Q67.0569 1460.33 68.8624 1456.79 Q70.6911 1453.23 70.6911 1446.12 Q70.6911 1438.99 68.8624 1435.45 Q67.0569 1431.88 63.4226 1431.88 M63.4226 1428.18 Q69.2328 1428.18 72.2883 1432.79 Q75.367 1437.37 75.367 1446.12 Q75.367 1454.85 72.2883 1459.45 Q69.2328 1464.04 63.4226 1464.04 Q57.6125 1464.04 54.5338 1459.45 Q51.4782 1454.85 51.4782 1446.12 Q51.4782 1437.37 54.5338 1432.79 Q57.6125 1428.18 63.4226 1428.18 Z\" fill=\"#000000\" fill-rule=\"nonzero\" fill-opacity=\"1\" /><path clip-path=\"url(#clip030)\" d=\"M83.5845 1457.48 L88.4688 1457.48 L88.4688 1463.36 L83.5845 1463.36 L83.5845 1457.48 Z\" fill=\"#000000\" fill-rule=\"nonzero\" fill-opacity=\"1\" /><path clip-path=\"url(#clip030)\" d=\"M108.654 1431.88 Q105.043 1431.88 103.214 1435.45 Q101.409 1438.99 101.409 1446.12 Q101.409 1453.23 103.214 1456.79 Q105.043 1460.33 108.654 1460.33 Q112.288 1460.33 114.094 1456.79 Q115.922 1453.23 115.922 1446.12 Q115.922 1438.99 114.094 1435.45 Q112.288 1431.88 108.654 1431.88 M108.654 1428.18 Q114.464 1428.18 117.52 1432.79 Q120.598 1437.37 120.598 1446.12 Q120.598 1454.85 117.52 1459.45 Q114.464 1464.04 108.654 1464.04 Q102.844 1464.04 99.765 1459.45 Q96.7095 1454.85 96.7095 1446.12 Q96.7095 1437.37 99.765 1432.79 Q102.844 1428.18 108.654 1428.18 Z\" fill=\"#000000\" fill-rule=\"nonzero\" fill-opacity=\"1\" /><path clip-path=\"url(#clip030)\" d=\"M138.816 1431.88 Q135.205 1431.88 133.376 1435.45 Q131.57 1438.99 131.57 1446.12 Q131.57 1453.23 133.376 1456.79 Q135.205 1460.33 138.816 1460.33 Q142.45 1460.33 144.256 1456.79 Q146.084 1453.23 146.084 1446.12 Q146.084 1438.99 144.256 1435.45 Q142.45 1431.88 138.816 1431.88 M138.816 1428.18 Q144.626 1428.18 147.681 1432.79 Q150.76 1437.37 150.76 1446.12 Q150.76 1454.85 147.681 1459.45 Q144.626 1464.04 138.816 1464.04 Q133.006 1464.04 129.927 1459.45 Q126.871 1454.85 126.871 1446.12 Q126.871 1437.37 129.927 1432.79 Q133.006 1428.18 138.816 1428.18 Z\" fill=\"#000000\" fill-rule=\"nonzero\" fill-opacity=\"1\" /><path clip-path=\"url(#clip030)\" d=\"M168.978 1431.88 Q165.367 1431.88 163.538 1435.45 Q161.732 1438.99 161.732 1446.12 Q161.732 1453.23 163.538 1456.79 Q165.367 1460.33 168.978 1460.33 Q172.612 1460.33 174.417 1456.79 Q176.246 1453.23 176.246 1446.12 Q176.246 1438.99 174.417 1435.45 Q172.612 1431.88 168.978 1431.88 M168.978 1428.18 Q174.788 1428.18 177.843 1432.79 Q180.922 1437.37 180.922 1446.12 Q180.922 1454.85 177.843 1459.45 Q174.788 1464.04 168.978 1464.04 Q163.167 1464.04 160.089 1459.45 Q157.033 1454.85 157.033 1446.12 Q157.033 1437.37 160.089 1432.79 Q163.167 1428.18 168.978 1428.18 Z\" fill=\"#000000\" fill-rule=\"nonzero\" fill-opacity=\"1\" /><path clip-path=\"url(#clip030)\" d=\"M64.6495 1222.79 Q61.0384 1222.79 59.2097 1226.35 Q57.4041 1229.89 57.4041 1237.02 Q57.4041 1244.13 59.2097 1247.69 Q61.0384 1251.24 64.6495 1251.24 Q68.2837 1251.24 70.0892 1247.69 Q71.9179 1244.13 71.9179 1237.02 Q71.9179 1229.89 70.0892 1226.35 Q68.2837 1222.79 64.6495 1222.79 M64.6495 1219.08 Q70.4596 1219.08 73.5152 1223.69 Q76.5938 1228.27 76.5938 1237.02 Q76.5938 1245.75 73.5152 1250.36 Q70.4596 1254.94 64.6495 1254.94 Q58.8393 1254.94 55.7606 1250.36 Q52.7051 1245.75 52.7051 1237.02 Q52.7051 1228.27 55.7606 1223.69 Q58.8393 1219.08 64.6495 1219.08 Z\" fill=\"#000000\" fill-rule=\"nonzero\" fill-opacity=\"1\" /><path clip-path=\"url(#clip030)\" d=\"M84.8114 1248.39 L89.6956 1248.39 L89.6956 1254.27 L84.8114 1254.27 L84.8114 1248.39 Z\" fill=\"#000000\" fill-rule=\"nonzero\" fill-opacity=\"1\" /><path clip-path=\"url(#clip030)\" d=\"M109.881 1222.79 Q106.27 1222.79 104.441 1226.35 Q102.635 1229.89 102.635 1237.02 Q102.635 1244.13 104.441 1247.69 Q106.27 1251.24 109.881 1251.24 Q113.515 1251.24 115.32 1247.69 Q117.149 1244.13 117.149 1237.02 Q117.149 1229.89 115.32 1226.35 Q113.515 1222.79 109.881 1222.79 M109.881 1219.08 Q115.691 1219.08 118.746 1223.69 Q121.825 1228.27 121.825 1237.02 Q121.825 1245.75 118.746 1250.36 Q115.691 1254.94 109.881 1254.94 Q104.071 1254.94 100.992 1250.36 Q97.9363 1245.75 97.9363 1237.02 Q97.9363 1228.27 100.992 1223.69 Q104.071 1219.08 109.881 1219.08 Z\" fill=\"#000000\" fill-rule=\"nonzero\" fill-opacity=\"1\" /><path clip-path=\"url(#clip030)\" d=\"M140.043 1222.79 Q136.431 1222.79 134.603 1226.35 Q132.797 1229.89 132.797 1237.02 Q132.797 1244.13 134.603 1247.69 Q136.431 1251.24 140.043 1251.24 Q143.677 1251.24 145.482 1247.69 Q147.311 1244.13 147.311 1237.02 Q147.311 1229.89 145.482 1226.35 Q143.677 1222.79 140.043 1222.79 M140.043 1219.08 Q145.853 1219.08 148.908 1223.69 Q151.987 1228.27 151.987 1237.02 Q151.987 1245.75 148.908 1250.36 Q145.853 1254.94 140.043 1254.94 Q134.232 1254.94 131.154 1250.36 Q128.098 1245.75 128.098 1237.02 Q128.098 1228.27 131.154 1223.69 Q134.232 1219.08 140.043 1219.08 Z\" fill=\"#000000\" fill-rule=\"nonzero\" fill-opacity=\"1\" /><path clip-path=\"url(#clip030)\" d=\"M161.015 1250.33 L168.654 1250.33 L168.654 1223.97 L160.343 1225.63 L160.343 1221.38 L168.607 1219.71 L173.283 1219.71 L173.283 1250.33 L180.922 1250.33 L180.922 1254.27 L161.015 1254.27 L161.015 1250.33 Z\" fill=\"#000000\" fill-rule=\"nonzero\" fill-opacity=\"1\" /><path clip-path=\"url(#clip030)\" d=\"M65.0198 1013.69 Q61.4087 1013.69 59.58 1017.26 Q57.7745 1020.8 57.7745 1027.93 Q57.7745 1035.03 59.58 1038.6 Q61.4087 1042.14 65.0198 1042.14 Q68.6541 1042.14 70.4596 1038.6 Q72.2883 1035.03 72.2883 1027.93 Q72.2883 1020.8 70.4596 1017.26 Q68.6541 1013.69 65.0198 1013.69 M65.0198 1009.99 Q70.83 1009.99 73.8855 1014.6 Q76.9642 1019.18 76.9642 1027.93 Q76.9642 1036.66 73.8855 1041.26 Q70.83 1045.84 65.0198 1045.84 Q59.2097 1045.84 56.131 1041.26 Q53.0754 1036.66 53.0754 1027.93 Q53.0754 1019.18 56.131 1014.6 Q59.2097 1009.99 65.0198 1009.99 Z\" fill=\"#000000\" fill-rule=\"nonzero\" fill-opacity=\"1\" /><path clip-path=\"url(#clip030)\" d=\"M85.1818 1039.29 L90.066 1039.29 L90.066 1045.17 L85.1818 1045.17 L85.1818 1039.29 Z\" fill=\"#000000\" fill-rule=\"nonzero\" fill-opacity=\"1\" /><path clip-path=\"url(#clip030)\" d=\"M110.251 1013.69 Q106.64 1013.69 104.811 1017.26 Q103.006 1020.8 103.006 1027.93 Q103.006 1035.03 104.811 1038.6 Q106.64 1042.14 110.251 1042.14 Q113.885 1042.14 115.691 1038.6 Q117.52 1035.03 117.52 1027.93 Q117.52 1020.8 115.691 1017.26 Q113.885 1013.69 110.251 1013.69 M110.251 1009.99 Q116.061 1009.99 119.117 1014.6 Q122.195 1019.18 122.195 1027.93 Q122.195 1036.66 119.117 1041.26 Q116.061 1045.84 110.251 1045.84 Q104.441 1045.84 101.362 1041.26 Q98.3067 1036.66 98.3067 1027.93 Q98.3067 1019.18 101.362 1014.6 Q104.441 1009.99 110.251 1009.99 Z\" fill=\"#000000\" fill-rule=\"nonzero\" fill-opacity=\"1\" /><path clip-path=\"url(#clip030)\" d=\"M140.413 1013.69 Q136.802 1013.69 134.973 1017.26 Q133.168 1020.8 133.168 1027.93 Q133.168 1035.03 134.973 1038.6 Q136.802 1042.14 140.413 1042.14 Q144.047 1042.14 145.853 1038.6 Q147.681 1035.03 147.681 1027.93 Q147.681 1020.8 145.853 1017.26 Q144.047 1013.69 140.413 1013.69 M140.413 1009.99 Q146.223 1009.99 149.279 1014.6 Q152.357 1019.18 152.357 1027.93 Q152.357 1036.66 149.279 1041.26 Q146.223 1045.84 140.413 1045.84 Q134.603 1045.84 131.524 1041.26 Q128.469 1036.66 128.469 1027.93 Q128.469 1019.18 131.524 1014.6 Q134.603 1009.99 140.413 1009.99 Z\" fill=\"#000000\" fill-rule=\"nonzero\" fill-opacity=\"1\" /><path clip-path=\"url(#clip030)\" d=\"M164.603 1041.24 L180.922 1041.24 L180.922 1045.17 L158.978 1045.17 L158.978 1041.24 Q161.64 1038.48 166.223 1033.85 Q170.829 1029.2 172.01 1027.86 Q174.255 1025.34 175.135 1023.6 Q176.038 1021.84 176.038 1020.15 Q176.038 1017.4 174.093 1015.66 Q172.172 1013.92 169.07 1013.92 Q166.871 1013.92 164.417 1014.69 Q161.987 1015.45 159.209 1017 L159.209 1012.28 Q162.033 1011.15 164.487 1010.57 Q166.941 1009.99 168.978 1009.99 Q174.348 1009.99 177.542 1012.67 Q180.737 1015.36 180.737 1019.85 Q180.737 1021.98 179.927 1023.9 Q179.14 1025.8 177.033 1028.39 Q176.454 1029.06 173.353 1032.28 Q170.251 1035.47 164.603 1041.24 Z\" fill=\"#000000\" fill-rule=\"nonzero\" fill-opacity=\"1\" /><path clip-path=\"url(#clip030)\" d=\"M64.0708 804.597 Q60.4597 804.597 58.631 808.162 Q56.8254 811.704 56.8254 818.833 Q56.8254 825.94 58.631 829.504 Q60.4597 833.046 64.0708 833.046 Q67.705 833.046 69.5105 829.504 Q71.3392 825.94 71.3392 818.833 Q71.3392 811.704 69.5105 808.162 Q67.705 804.597 64.0708 804.597 M64.0708 800.893 Q69.8809 800.893 72.9365 805.5 Q76.0151 810.083 76.0151 818.833 Q76.0151 827.56 72.9365 832.166 Q69.8809 836.75 64.0708 836.75 Q58.2606 836.75 55.1819 832.166 Q52.1264 827.56 52.1264 818.833 Q52.1264 810.083 55.1819 805.5 Q58.2606 800.893 64.0708 800.893 Z\" fill=\"#000000\" fill-rule=\"nonzero\" fill-opacity=\"1\" /><path clip-path=\"url(#clip030)\" d=\"M84.2327 830.199 L89.1169 830.199 L89.1169 836.078 L84.2327 836.078 L84.2327 830.199 Z\" fill=\"#000000\" fill-rule=\"nonzero\" fill-opacity=\"1\" /><path clip-path=\"url(#clip030)\" d=\"M109.302 804.597 Q105.691 804.597 103.862 808.162 Q102.057 811.704 102.057 818.833 Q102.057 825.94 103.862 829.504 Q105.691 833.046 109.302 833.046 Q112.936 833.046 114.742 829.504 Q116.57 825.94 116.57 818.833 Q116.57 811.704 114.742 808.162 Q112.936 804.597 109.302 804.597 M109.302 800.893 Q115.112 800.893 118.168 805.5 Q121.246 810.083 121.246 818.833 Q121.246 827.56 118.168 832.166 Q115.112 836.75 109.302 836.75 Q103.492 836.75 100.413 832.166 Q97.3576 827.56 97.3576 818.833 Q97.3576 810.083 100.413 805.5 Q103.492 800.893 109.302 800.893 Z\" fill=\"#000000\" fill-rule=\"nonzero\" fill-opacity=\"1\" /><path clip-path=\"url(#clip030)\" d=\"M139.464 804.597 Q135.853 804.597 134.024 808.162 Q132.219 811.704 132.219 818.833 Q132.219 825.94 134.024 829.504 Q135.853 833.046 139.464 833.046 Q143.098 833.046 144.904 829.504 Q146.732 825.94 146.732 818.833 Q146.732 811.704 144.904 808.162 Q143.098 804.597 139.464 804.597 M139.464 800.893 Q145.274 800.893 148.33 805.5 Q151.408 810.083 151.408 818.833 Q151.408 827.56 148.33 832.166 Q145.274 836.75 139.464 836.75 Q133.654 836.75 130.575 832.166 Q127.519 827.56 127.519 818.833 Q127.519 810.083 130.575 805.5 Q133.654 800.893 139.464 800.893 Z\" fill=\"#000000\" fill-rule=\"nonzero\" fill-opacity=\"1\" /><path clip-path=\"url(#clip030)\" d=\"M173.792 817.444 Q177.149 818.162 179.024 820.43 Q180.922 822.699 180.922 826.032 Q180.922 831.148 177.403 833.949 Q173.885 836.75 167.404 836.75 Q165.228 836.75 162.913 836.31 Q160.621 835.893 158.167 835.037 L158.167 830.523 Q160.112 831.657 162.427 832.236 Q164.742 832.815 167.265 832.815 Q171.663 832.815 173.954 831.078 Q176.269 829.342 176.269 826.032 Q176.269 822.977 174.116 821.264 Q171.987 819.528 168.167 819.528 L164.14 819.528 L164.14 815.685 L168.353 815.685 Q171.802 815.685 173.63 814.319 Q175.459 812.93 175.459 810.338 Q175.459 807.676 173.561 806.264 Q171.686 804.829 168.167 804.829 Q166.246 804.829 164.047 805.245 Q161.848 805.662 159.209 806.542 L159.209 802.375 Q161.871 801.634 164.186 801.264 Q166.524 800.893 168.584 800.893 Q173.908 800.893 177.01 803.324 Q180.112 805.731 180.112 809.852 Q180.112 812.722 178.468 814.713 Q176.825 816.68 173.792 817.444 Z\" fill=\"#000000\" fill-rule=\"nonzero\" fill-opacity=\"1\" /><path clip-path=\"url(#clip030)\" d=\"M62.9365 595.502 Q59.3254 595.502 57.4967 599.067 Q55.6912 602.608 55.6912 609.738 Q55.6912 616.844 57.4967 620.409 Q59.3254 623.951 62.9365 623.951 Q66.5707 623.951 68.3763 620.409 Q70.205 616.844 70.205 609.738 Q70.205 602.608 68.3763 599.067 Q66.5707 595.502 62.9365 595.502 M62.9365 591.798 Q68.7467 591.798 71.8022 596.405 Q74.8809 600.988 74.8809 609.738 Q74.8809 618.465 71.8022 623.071 Q68.7467 627.654 62.9365 627.654 Q57.1264 627.654 54.0477 623.071 Q50.9921 618.465 50.9921 609.738 Q50.9921 600.988 54.0477 596.405 Q57.1264 591.798 62.9365 591.798 Z\" fill=\"#000000\" fill-rule=\"nonzero\" fill-opacity=\"1\" /><path clip-path=\"url(#clip030)\" d=\"M83.0984 621.104 L87.9827 621.104 L87.9827 626.983 L83.0984 626.983 L83.0984 621.104 Z\" fill=\"#000000\" fill-rule=\"nonzero\" fill-opacity=\"1\" /><path clip-path=\"url(#clip030)\" d=\"M108.168 595.502 Q104.557 595.502 102.728 599.067 Q100.922 602.608 100.922 609.738 Q100.922 616.844 102.728 620.409 Q104.557 623.951 108.168 623.951 Q111.802 623.951 113.608 620.409 Q115.436 616.844 115.436 609.738 Q115.436 602.608 113.608 599.067 Q111.802 595.502 108.168 595.502 M108.168 591.798 Q113.978 591.798 117.033 596.405 Q120.112 600.988 120.112 609.738 Q120.112 618.465 117.033 623.071 Q113.978 627.654 108.168 627.654 Q102.358 627.654 99.2789 623.071 Q96.2234 618.465 96.2234 609.738 Q96.2234 600.988 99.2789 596.405 Q102.358 591.798 108.168 591.798 Z\" fill=\"#000000\" fill-rule=\"nonzero\" fill-opacity=\"1\" /><path clip-path=\"url(#clip030)\" d=\"M138.33 595.502 Q134.719 595.502 132.89 599.067 Q131.084 602.608 131.084 609.738 Q131.084 616.844 132.89 620.409 Q134.719 623.951 138.33 623.951 Q141.964 623.951 143.769 620.409 Q145.598 616.844 145.598 609.738 Q145.598 602.608 143.769 599.067 Q141.964 595.502 138.33 595.502 M138.33 591.798 Q144.14 591.798 147.195 596.405 Q150.274 600.988 150.274 609.738 Q150.274 618.465 147.195 623.071 Q144.14 627.654 138.33 627.654 Q132.519 627.654 129.441 623.071 Q126.385 618.465 126.385 609.738 Q126.385 600.988 129.441 596.405 Q132.519 591.798 138.33 591.798 Z\" fill=\"#000000\" fill-rule=\"nonzero\" fill-opacity=\"1\" /><path clip-path=\"url(#clip030)\" d=\"M171.339 596.497 L159.533 614.946 L171.339 614.946 L171.339 596.497 M170.112 592.423 L175.991 592.423 L175.991 614.946 L180.922 614.946 L180.922 618.835 L175.991 618.835 L175.991 626.983 L171.339 626.983 L171.339 618.835 L155.737 618.835 L155.737 614.321 L170.112 592.423 Z\" fill=\"#000000\" fill-rule=\"nonzero\" fill-opacity=\"1\" /><path clip-path=\"url(#clip030)\" d=\"M64.418 386.407 Q60.8069 386.407 58.9782 389.971 Q57.1726 393.513 57.1726 400.643 Q57.1726 407.749 58.9782 411.314 Q60.8069 414.856 64.418 414.856 Q68.0522 414.856 69.8578 411.314 Q71.6865 407.749 71.6865 400.643 Q71.6865 393.513 69.8578 389.971 Q68.0522 386.407 64.418 386.407 M64.418 382.703 Q70.2281 382.703 73.2837 387.309 Q76.3624 391.893 76.3624 400.643 Q76.3624 409.369 73.2837 413.976 Q70.2281 418.559 64.418 418.559 Q58.6078 418.559 55.5291 413.976 Q52.4736 409.369 52.4736 400.643 Q52.4736 391.893 55.5291 387.309 Q58.6078 382.703 64.418 382.703 Z\" fill=\"#000000\" fill-rule=\"nonzero\" fill-opacity=\"1\" /><path clip-path=\"url(#clip030)\" d=\"M84.5799 412.008 L89.4641 412.008 L89.4641 417.888 L84.5799 417.888 L84.5799 412.008 Z\" fill=\"#000000\" fill-rule=\"nonzero\" fill-opacity=\"1\" /><path clip-path=\"url(#clip030)\" d=\"M109.649 386.407 Q106.038 386.407 104.209 389.971 Q102.404 393.513 102.404 400.643 Q102.404 407.749 104.209 411.314 Q106.038 414.856 109.649 414.856 Q113.283 414.856 115.089 411.314 Q116.918 407.749 116.918 400.643 Q116.918 393.513 115.089 389.971 Q113.283 386.407 109.649 386.407 M109.649 382.703 Q115.459 382.703 118.515 387.309 Q121.594 391.893 121.594 400.643 Q121.594 409.369 118.515 413.976 Q115.459 418.559 109.649 418.559 Q103.839 418.559 100.76 413.976 Q97.7048 409.369 97.7048 400.643 Q97.7048 391.893 100.76 387.309 Q103.839 382.703 109.649 382.703 Z\" fill=\"#000000\" fill-rule=\"nonzero\" fill-opacity=\"1\" /><path clip-path=\"url(#clip030)\" d=\"M139.811 386.407 Q136.2 386.407 134.371 389.971 Q132.566 393.513 132.566 400.643 Q132.566 407.749 134.371 411.314 Q136.2 414.856 139.811 414.856 Q143.445 414.856 145.251 411.314 Q147.08 407.749 147.08 400.643 Q147.08 393.513 145.251 389.971 Q143.445 386.407 139.811 386.407 M139.811 382.703 Q145.621 382.703 148.677 387.309 Q151.755 391.893 151.755 400.643 Q151.755 409.369 148.677 413.976 Q145.621 418.559 139.811 418.559 Q134.001 418.559 130.922 413.976 Q127.867 409.369 127.867 400.643 Q127.867 391.893 130.922 387.309 Q134.001 382.703 139.811 382.703 Z\" fill=\"#000000\" fill-rule=\"nonzero\" fill-opacity=\"1\" /><path clip-path=\"url(#clip030)\" d=\"M160.019 383.328 L178.376 383.328 L178.376 387.263 L164.302 387.263 L164.302 395.735 Q165.32 395.388 166.339 395.226 Q167.357 395.041 168.376 395.041 Q174.163 395.041 177.542 398.212 Q180.922 401.383 180.922 406.8 Q180.922 412.379 177.45 415.481 Q173.978 418.559 167.658 418.559 Q165.482 418.559 163.214 418.189 Q160.968 417.818 158.561 417.078 L158.561 412.379 Q160.644 413.513 162.867 414.068 Q165.089 414.624 167.566 414.624 Q171.57 414.624 173.908 412.518 Q176.246 410.411 176.246 406.8 Q176.246 403.189 173.908 401.082 Q171.57 398.976 167.566 398.976 Q165.691 398.976 163.816 399.393 Q161.964 399.809 160.019 400.689 L160.019 383.328 Z\" fill=\"#000000\" fill-rule=\"nonzero\" fill-opacity=\"1\" /><path clip-path=\"url(#clip030)\" d=\"M63.2606 177.311 Q59.6495 177.311 57.8208 180.876 Q56.0152 184.418 56.0152 191.547 Q56.0152 198.654 57.8208 202.219 Q59.6495 205.76 63.2606 205.76 Q66.8948 205.76 68.7004 202.219 Q70.5291 198.654 70.5291 191.547 Q70.5291 184.418 68.7004 180.876 Q66.8948 177.311 63.2606 177.311 M63.2606 173.608 Q69.0707 173.608 72.1263 178.214 Q75.205 182.797 75.205 191.547 Q75.205 200.274 72.1263 204.881 Q69.0707 209.464 63.2606 209.464 Q57.4504 209.464 54.3717 204.881 Q51.3162 200.274 51.3162 191.547 Q51.3162 182.797 54.3717 178.214 Q57.4504 173.608 63.2606 173.608 Z\" fill=\"#000000\" fill-rule=\"nonzero\" fill-opacity=\"1\" /><path clip-path=\"url(#clip030)\" d=\"M83.4225 202.913 L88.3067 202.913 L88.3067 208.793 L83.4225 208.793 L83.4225 202.913 Z\" fill=\"#000000\" fill-rule=\"nonzero\" fill-opacity=\"1\" /><path clip-path=\"url(#clip030)\" d=\"M108.492 177.311 Q104.881 177.311 103.052 180.876 Q101.246 184.418 101.246 191.547 Q101.246 198.654 103.052 202.219 Q104.881 205.76 108.492 205.76 Q112.126 205.76 113.932 202.219 Q115.76 198.654 115.76 191.547 Q115.76 184.418 113.932 180.876 Q112.126 177.311 108.492 177.311 M108.492 173.608 Q114.302 173.608 117.358 178.214 Q120.436 182.797 120.436 191.547 Q120.436 200.274 117.358 204.881 Q114.302 209.464 108.492 209.464 Q102.682 209.464 99.603 204.881 Q96.5474 200.274 96.5474 191.547 Q96.5474 182.797 99.603 178.214 Q102.682 173.608 108.492 173.608 Z\" fill=\"#000000\" fill-rule=\"nonzero\" fill-opacity=\"1\" /><path clip-path=\"url(#clip030)\" d=\"M138.654 177.311 Q135.043 177.311 133.214 180.876 Q131.408 184.418 131.408 191.547 Q131.408 198.654 133.214 202.219 Q135.043 205.76 138.654 205.76 Q142.288 205.76 144.093 202.219 Q145.922 198.654 145.922 191.547 Q145.922 184.418 144.093 180.876 Q142.288 177.311 138.654 177.311 M138.654 173.608 Q144.464 173.608 147.519 178.214 Q150.598 182.797 150.598 191.547 Q150.598 200.274 147.519 204.881 Q144.464 209.464 138.654 209.464 Q132.844 209.464 129.765 204.881 Q126.709 200.274 126.709 191.547 Q126.709 182.797 129.765 178.214 Q132.844 173.608 138.654 173.608 Z\" fill=\"#000000\" fill-rule=\"nonzero\" fill-opacity=\"1\" /><path clip-path=\"url(#clip030)\" d=\"M169.394 189.649 Q166.246 189.649 164.394 191.802 Q162.566 193.955 162.566 197.705 Q162.566 201.432 164.394 203.608 Q166.246 205.76 169.394 205.76 Q172.542 205.76 174.371 203.608 Q176.223 201.432 176.223 197.705 Q176.223 193.955 174.371 191.802 Q172.542 189.649 169.394 189.649 M178.677 174.997 L178.677 179.256 Q176.917 178.422 175.112 177.983 Q173.329 177.543 171.57 177.543 Q166.941 177.543 164.487 180.668 Q162.056 183.793 161.709 190.112 Q163.075 188.098 165.135 187.034 Q167.195 185.946 169.672 185.946 Q174.88 185.946 177.89 189.117 Q180.922 192.265 180.922 197.705 Q180.922 203.029 177.774 206.246 Q174.626 209.464 169.394 209.464 Q163.399 209.464 160.228 204.881 Q157.056 200.274 157.056 191.547 Q157.056 183.353 160.945 178.492 Q164.834 173.608 171.385 173.608 Q173.144 173.608 174.927 173.955 Q176.732 174.302 178.677 174.997 Z\" fill=\"#000000\" fill-rule=\"nonzero\" fill-opacity=\"1\" /><polyline clip-path=\"url(#clip032)\" style=\"stroke:#009af9; stroke-linecap:round; stroke-linejoin:round; stroke-width:4; stroke-opacity:1; fill:none\" points=\"277.37,1445.72 278.379,1445.17 279.387,1444.37 280.396,1443.31 281.404,1441.99 282.413,1440.44 283.421,1438.7 284.429,1436.8 285.438,1434.77 286.446,1432.66 287.455,1430.5 288.463,1428.31 289.472,1426.13 290.48,1423.98 291.489,1421.86 292.497,1419.79 293.506,1417.77 294.514,1415.81 295.523,1413.89 296.531,1412.02 298.548,1408.38 299.557,1406.6 300.565,1404.82 302.582,1401.25 303.591,1399.44 305.607,1395.77 307.624,1392 308.633,1390.08 310.65,1386.17 312.667,1382.24 314.684,1378.34 317.709,1372.66 319.726,1369.06 321.743,1365.67 324.769,1361.05 327.794,1356.99 330.819,1353.42 333.845,1350.21 336.87,1347.29 339.896,1344.46 343.93,1340.71 347.964,1336.84 351.997,1332.79 356.031,1328.66 361.074,1323.47 366.116,1318.47 371.159,1313.81 376.201,1309.51 382.252,1304.71 387.294,1300.95 394.353,1295.77 400.404,1291.26 407.464,1285.93 415.532,1279.75 422.591,1274.34 431.667,1267.51 439.735,1261.51 448.811,1254.78 458.896,1247.25 468.981,1239.59 480.074,1231.02 492.176,1221.56 504.278,1211.99 516.379,1202.28 530.498,1190.76 544.617,1179.04 559.744,1166.27 575.879,1152.43 592.015,1138.37 610.168,1122.32 628.32,1106.04 648.49,1087.73 669.668,1068.29 691.854,1047.74 715.049,1026.09 739.253,1003.4 765.473,978.738 792.702,953.125 821.948,925.679 852.202,897.433 884.473,867.544 918.762,836.14 954.058,804.272 992.381,770.278 1032.72,735.257 1075.08,699.399 1119.45,662.903 1166.85,625.185 1216.26,587.298 1269.71,547.999 1325.18,509.077 1383.67,470.076 1445.19,431.289 1510.74,392.415 1580.32,353.83 1652.93,316.388 1730.59,279.372 1811.26,244.03 1896.98,209.727 1987.75,176.779 2083.55,145.454 2185.41,115.686 2292.31,87.9803 \"/>\n",
       "<polyline clip-path=\"url(#clip032)\" style=\"stroke:#e26f46; stroke-linecap:round; stroke-linejoin:round; stroke-width:4; stroke-opacity:1; fill:none\" points=\"277.37,1445.72 278.379,1445.17 279.387,1444.37 280.396,1443.31 281.404,1441.99 282.413,1440.45 283.421,1438.7 284.429,1436.8 285.438,1434.78 286.446,1432.66 287.455,1430.5 288.463,1428.31 289.472,1426.13 290.48,1423.98 291.489,1421.86 292.497,1419.79 293.506,1417.77 294.514,1415.8 295.523,1413.89 296.531,1412.02 298.548,1408.39 299.557,1406.6 300.565,1404.82 302.582,1401.26 303.591,1399.45 305.607,1395.78 307.624,1392.01 308.633,1390.08 310.65,1386.18 312.667,1382.24 314.684,1378.32 317.709,1372.62 319.726,1369.01 321.743,1365.62 324.769,1360.99 327.794,1356.91 330.819,1353.34 333.845,1350.17 336.87,1347.25 339.896,1344.44 343.93,1340.71 347.964,1336.84 351.997,1332.79 356.031,1328.62 361.074,1323.41 366.116,1318.39 371.159,1313.71 376.201,1309.4 382.252,1304.64 387.294,1300.89 394.353,1295.71 400.404,1291.23 407.464,1285.87 415.532,1279.67 422.591,1274.26 431.667,1267.42 439.735,1261.43 448.811,1254.71 458.896,1247.18 468.981,1239.52 480.074,1230.96 492.176,1221.5 504.278,1211.93 516.379,1202.22 530.498,1190.7 544.617,1178.97 559.744,1166.2 575.879,1152.35 592.015,1138.29 610.168,1122.23 628.32,1105.95 648.49,1087.63 669.668,1068.19 691.854,1047.63 715.049,1025.98 739.253,1003.27 765.473,978.607 792.702,952.986 821.948,925.532 852.202,897.277 884.473,867.379 918.762,835.965 954.058,804.086 992.381,770.083 1032.72,735.05 1075.08,699.181 1119.45,662.673 1166.85,624.943 1216.26,587.044 1269.71,547.732 1325.18,508.797 1383.67,469.784 1445.19,430.985 1510.74,392.095 1580.32,353.498 1652.93,316.044 1730.59,279.016 1811.26,243.662 1896.98,209.347 1987.75,176.388 2083.55,145.05 2185.41,115.273 2292.31,87.9763 \"/>\n",
       "<path clip-path=\"url(#clip030)\" d=\"M288.116 250.738 L554.13 250.738 L554.13 95.2176 L288.116 95.2176  Z\" fill=\"#ffffff\" fill-rule=\"evenodd\" fill-opacity=\"1\"/>\n",
       "<polyline clip-path=\"url(#clip030)\" style=\"stroke:#000000; stroke-linecap:round; stroke-linejoin:round; stroke-width:4; stroke-opacity:1; fill:none\" points=\"288.116,250.738 554.13,250.738 554.13,95.2176 288.116,95.2176 288.116,250.738 \"/>\n",
       "<polyline clip-path=\"url(#clip030)\" style=\"stroke:#009af9; stroke-linecap:round; stroke-linejoin:round; stroke-width:4; stroke-opacity:1; fill:none\" points=\"311.848,147.058 454.237,147.058 \"/>\n",
       "<path clip-path=\"url(#clip030)\" d=\"M491.811 166.745 Q490.005 171.375 488.292 172.787 Q486.579 174.199 483.709 174.199 L480.306 174.199 L480.306 170.634 L482.806 170.634 Q484.566 170.634 485.538 169.8 Q486.51 168.967 487.691 165.865 L488.454 163.921 L477.968 138.412 L482.482 138.412 L490.584 158.689 L498.686 138.412 L503.2 138.412 L491.811 166.745 Z\" fill=\"#000000\" fill-rule=\"nonzero\" fill-opacity=\"1\" /><path clip-path=\"url(#clip030)\" d=\"M510.491 160.402 L518.13 160.402 L518.13 134.037 L509.82 135.703 L509.82 131.444 L518.084 129.778 L522.76 129.778 L522.76 160.402 L530.399 160.402 L530.399 164.338 L510.491 164.338 L510.491 160.402 Z\" fill=\"#000000\" fill-rule=\"nonzero\" fill-opacity=\"1\" /><polyline clip-path=\"url(#clip030)\" style=\"stroke:#e26f46; stroke-linecap:round; stroke-linejoin:round; stroke-width:4; stroke-opacity:1; fill:none\" points=\"311.848,198.898 454.237,198.898 \"/>\n",
       "<path clip-path=\"url(#clip030)\" d=\"M491.811 218.585 Q490.005 223.215 488.292 224.627 Q486.579 226.039 483.709 226.039 L480.306 226.039 L480.306 222.474 L482.806 222.474 Q484.566 222.474 485.538 221.64 Q486.51 220.807 487.691 217.705 L488.454 215.761 L477.968 190.252 L482.482 190.252 L490.584 210.529 L498.686 190.252 L503.2 190.252 L491.811 218.585 Z\" fill=\"#000000\" fill-rule=\"nonzero\" fill-opacity=\"1\" /><path clip-path=\"url(#clip030)\" d=\"M513.709 212.242 L530.028 212.242 L530.028 216.178 L508.084 216.178 L508.084 212.242 Q510.746 209.488 515.329 204.858 Q519.936 200.205 521.116 198.863 Q523.362 196.34 524.241 194.604 Q525.144 192.844 525.144 191.155 Q525.144 188.4 523.2 186.664 Q521.278 184.928 518.176 184.928 Q515.977 184.928 513.524 185.692 Q511.093 186.455 508.315 188.006 L508.315 183.284 Q511.139 182.15 513.593 181.571 Q516.047 180.993 518.084 180.993 Q523.454 180.993 526.649 183.678 Q529.843 186.363 529.843 190.854 Q529.843 192.983 529.033 194.905 Q528.246 196.803 526.139 199.395 Q525.561 200.067 522.459 203.284 Q519.357 206.479 513.709 212.242 Z\" fill=\"#000000\" fill-rule=\"nonzero\" fill-opacity=\"1\" /></svg>\n"
      ]
     },
     "execution_count": 38,
     "metadata": {},
     "output_type": "execute_result"
    }
   ],
   "source": [
    "plot(ell, ell .* (ell .+1 ) .*fang_gs_reshaped[:,1,1])\n",
    "plot!(ell, ell .* (ell .+1 ) .*gl_reshaped[:,1,1])"
   ]
  },
  {
   "cell_type": "code",
   "execution_count": 39,
   "id": "a26425cd-6a25-41e4-a6af-0f778e073307",
   "metadata": {},
   "outputs": [],
   "source": [
    "total_limb_CL = cat(Cℓ_CL_limb_nl,Cℓ_CL_limb,dims=1)\n",
    "total_limb_LL = cat(Cℓ_LL_limb_nl,Cℓ_LL_limb,dims=1)\n",
    "total_limb_CC = cat(Cℓ_CC_limb_nl,Cℓ_CC_limb,dims=1);"
   ]
  },
  {
   "cell_type": "code",
   "execution_count": 40,
   "id": "4ecf5979-4768-419f-943f-e6bcc9a0b76f",
   "metadata": {},
   "outputs": [],
   "source": [
    "int_limb_CC = zeros(length(ell), 10, 10)\n",
    "int_limb_CL = zeros(length(ell), 10, 5)\n",
    "int_limb_LL = zeros(length(ell), 5, 5)\n",
    "\n",
    "for i in 1:10\n",
    "    for j in i:10\n",
    "        interpol = chebinterp(reverse(elle.*elle.*total_limb_CC[:,i,j]), ℓ_min, ℓ_max)\n",
    "        int_limb_CC[:,i,j] = interpol.(ell)./(ell.*ell)\n",
    "        int_limb_CC[:,j,i] = int_limb_CC[:,i,j]\n",
    "    end\n",
    "end\n",
    "\n",
    "for i in 1:10\n",
    "    for j in 1:5\n",
    "        interpol = chebinterp(reverse(elle.*elle.*total_limb_CL[:,i,j]),ℓ_min, ℓ_max)\n",
    "        int_limb_CL[:,i,j] = interpol.(ell)./(ell.*ell)\n",
    "    end\n",
    "end\n",
    "\n",
    "for i in 1:5\n",
    "    for j in i:5\n",
    "        interpol = chebinterp(reverse(elle.*elle.*total_limb_LL[:,i,j]), ℓ_min, ℓ_max)\n",
    "        int_limb_LL[:,i,j] = interpol.(ell)./(ell.*ell)\n",
    "        int_limb_LL[:,j,i] = int_limb_LL[:,i,j]\n",
    "    end\n",
    "end"
   ]
  },
  {
   "cell_type": "code",
   "execution_count": 41,
   "id": "86120455-ab89-40c6-a7c9-10abfdcbbd76",
   "metadata": {},
   "outputs": [
    {
     "name": "stdout",
     "output_type": "stream",
     "text": [
      "  0.000055 seconds (6 allocations: 141.062 KiB)\n"
     ]
    }
   ],
   "source": [
    "@time begin \n",
    "    m_CC_limb = MAER(int_limb_CC, gg_reshaped, σ_CC)\n",
    "    m_LL_limb = MAER(int_limb_LL, ll_reshaped, σ_LL)\n",
    "    m_CL_limb = MAER(int_limb_CL, gl_reshaped, σ_CL)\n",
    "end;"
   ]
  },
  {
   "cell_type": "raw",
   "id": "cf8f0a58-9686-41f6-8e75-c748e4c7adbf",
   "metadata": {},
   "source": [
    "npzwrite(\"m_CC_limb.npy\", m_CC_limb)\n",
    "npzwrite(\"m_LL_limb.npy\", m_LL_limb)\n",
    "npzwrite(\"m_CL_limb.npy\", m_CL_limb)"
   ]
  },
  {
   "cell_type": "code",
   "execution_count": null,
   "id": "b84a9b53-4653-478f-acbc-da4c3cd5f052",
   "metadata": {},
   "outputs": [],
   "source": []
  }
 ],
 "metadata": {
  "kernelspec": {
   "display_name": "julia-nthreads8 1.10.0",
   "language": "julia",
   "name": "julia-nthreads8-1.10"
  },
  "language_info": {
   "file_extension": ".jl",
   "mimetype": "application/julia",
   "name": "julia",
   "version": "1.10.0"
  }
 },
 "nbformat": 4,
 "nbformat_minor": 5
}
