{
 "cells": [
  {
   "cell_type": "code",
   "execution_count": 1,
   "id": "44d3f150-32a4-4519-8ae8-60c4c872a565",
   "metadata": {},
   "outputs": [
    {
     "name": "stderr",
     "output_type": "stream",
     "text": [
      "\u001b[32m\u001b[1m  Activating\u001b[22m\u001b[39m project at `~/Desktop/PhD_Stuff/cheb_bessel_tests-main`\n"
     ]
    }
   ],
   "source": [
    "using Pkg\n",
    "Pkg.activate(\".\")"
   ]
  },
  {
   "cell_type": "code",
   "execution_count": 2,
   "id": "9a57d69a-2f83-40b7-b311-2d20becb8caa",
   "metadata": {},
   "outputs": [],
   "source": [
    "using BenchmarkTools\n",
    "using LinearAlgebra\n",
    "using DataInterpolations\n",
    "using SpecialFunctions\n",
    "using HCubature\n",
    "using QuadGK\n",
    "using Polynomials\n",
    "using Plots\n",
    "using FastChebInterp\n",
    "using ProgressBars\n",
    "using LaTeXStrings\n",
    "using Bessels\n",
    "using Tullio\n",
    "using FFTW\n",
    "using LoopVectorization\n",
    "using NPZ\n",
    "using Cubature\n",
    "using FastTransforms\n",
    "using Interpolations\n",
    "using Dierckx\n",
    "using DelimitedFiles"
   ]
  },
  {
   "cell_type": "code",
   "execution_count": 3,
   "id": "c4f568e9-d04f-4942-a12d-a03229f84a00",
   "metadata": {},
   "outputs": [],
   "source": [
    "using Revise\n",
    "using Will"
   ]
  },
  {
   "cell_type": "markdown",
   "id": "996fedc6-b89c-43e0-8cdb-e4837b46fe06",
   "metadata": {},
   "source": [
    "### Adapting N5K stuff"
   ]
  },
  {
   "cell_type": "code",
   "execution_count": 4,
   "id": "5f990669-0853-4d88-bac5-e1d42d1b0f59",
   "metadata": {},
   "outputs": [],
   "source": [
    "z_b = npzread(\"background/z.npy\")\n",
    "χ = npzread(\"background/chi.npy\")\n",
    "z_of_χ = DataInterpolations.AkimaInterpolation(z_b, χ);"
   ]
  },
  {
   "cell_type": "code",
   "execution_count": 5,
   "id": "41785464-735b-4f41-82d3-89bf4c1599b0",
   "metadata": {},
   "outputs": [],
   "source": [
    "pk_dict = npzread(\"../N5K/input/pk.npz\")\n",
    "Pklin = pk_dict[\"pk_lin\"]\n",
    "Pknonlin = pk_dict[\"pk_nl\"]\n",
    "k = pk_dict[\"k\"]\n",
    "z = pk_dict[\"z\"];"
   ]
  },
  {
   "cell_type": "code",
   "execution_count": 6,
   "id": "1d667063-9b80-4b31-bcbe-b8f49306f3b9",
   "metadata": {},
   "outputs": [],
   "source": [
    "y = LinRange(log10(first(k)),log10(last(k)), length(k))\n",
    "x = LinRange(first(z), last(z), length(z))\n",
    "InterpPmm = Interpolations.interpolate(log10.(Pklin),BSpline(Cubic(Line(OnGrid()))))\n",
    "InterpPmm = scale(InterpPmm, x, y)\n",
    "InterpPmm = Interpolations.extrapolate(InterpPmm, Line());"
   ]
  },
  {
   "cell_type": "code",
   "execution_count": 7,
   "id": "a8f5524d-fa7b-49ce-b7c7-8402ebd400f8",
   "metadata": {},
   "outputs": [],
   "source": [
    "y = LinRange(log10(first(k)),log10(last(k)), length(k))\n",
    "x = LinRange(first(z), last(z), length(z))\n",
    "InterpPmm_nl = Interpolations.interpolate(log10.(Pknonlin),BSpline(Cubic(Line(OnGrid()))))\n",
    "InterpPmm_nl = scale(InterpPmm_nl, x, y)\n",
    "InterpPmm_nl = Interpolations.extrapolate(InterpPmm_nl, Line());"
   ]
  },
  {
   "cell_type": "code",
   "execution_count": 8,
   "id": "8f15355f-1029-48f1-8f00-f03b5b93eab3",
   "metadata": {},
   "outputs": [],
   "source": [
    "power_spectrum(k, χ1, χ2) = @. sqrt(10^InterpPmm(z_of_χ(χ1),log10(k)) * 10^InterpPmm(z_of_χ(χ2),log10(k)));"
   ]
  },
  {
   "cell_type": "code",
   "execution_count": 9,
   "id": "8131c2e2-733f-4c02-a8d4-86b503f2c08f",
   "metadata": {},
   "outputs": [],
   "source": [
    "power_spectrum_nl(k, χ1, χ2) = @. sqrt(10^InterpPmm_nl(z_of_χ(χ1),log10(k)) * 10^InterpPmm_nl(z_of_χ(χ2),log10(k)));"
   ]
  },
  {
   "cell_type": "markdown",
   "id": "857ff587-5a21-4962-b54d-b4d99ef93125",
   "metadata": {},
   "source": [
    "### Loading N5K stuff"
   ]
  },
  {
   "cell_type": "code",
   "execution_count": 10,
   "id": "3046fdcb-9961-473c-8be2-e52bf269317b",
   "metadata": {},
   "outputs": [],
   "source": [
    "#N5K Cℓ's \n",
    "benchmark_gg = npzread(\"../N5K/tests/benchmarks_nl_full_clgg.npz\")\n",
    "benchmark_ll = npzread(\"../N5K/tests/benchmarks_nl_full_clss.npz\")\n",
    "benchmark_gl = npzread(\"../N5K/tests/benchmarks_nl_full_clgs.npz\");"
   ]
  },
  {
   "cell_type": "code",
   "execution_count": 11,
   "id": "c0dcb6db-eb57-4112-aea4-73e218ee82d1",
   "metadata": {},
   "outputs": [],
   "source": [
    "gg = benchmark_gg[\"cls\"]\n",
    "ll = benchmark_ll[\"cls\"]\n",
    "gl = benchmark_gl[\"cls\"]\n",
    "ell = benchmark_gg[\"ls\"];"
   ]
  },
  {
   "cell_type": "code",
   "execution_count": 12,
   "id": "bb3f262f-6020-41dc-8ed5-503d395aaa5c",
   "metadata": {},
   "outputs": [],
   "source": [
    "gg_reshaped = zeros(length(ell), 10, 10)\n",
    "counter = 1\n",
    "\n",
    "for i in 1:10\n",
    "    for j in i:10\n",
    "        gg_reshaped[:,i,j] = gg[counter, :]\n",
    "        gg_reshaped[:,j,i] = gg_reshaped[:,i,j]\n",
    "        counter += 1\n",
    "    end\n",
    "end"
   ]
  },
  {
   "cell_type": "code",
   "execution_count": 13,
   "id": "7db0bb97-c255-4a3d-88a2-654c144898f2",
   "metadata": {},
   "outputs": [],
   "source": [
    "ll_reshaped = zeros(length(ell), 5, 5)\n",
    "counter = 1\n",
    "\n",
    "for i in 1:5\n",
    "    for j in i:5\n",
    "        ll_reshaped[:,i,j] = ll[counter, :]\n",
    "        ll_reshaped[:,j,i] = ll_reshaped[:,i,j]\n",
    "        counter += 1\n",
    "    end\n",
    "end"
   ]
  },
  {
   "cell_type": "code",
   "execution_count": 14,
   "id": "d6ceb140-a4c8-44ef-99af-763e224a51a6",
   "metadata": {},
   "outputs": [],
   "source": [
    "gl_reshaped = zeros(length(ell), 10, 5)\n",
    "counter = 1\n",
    "\n",
    "for i in 1:10\n",
    "    for j in i:5\n",
    "        gl_reshaped[:,i,j] = gl[counter, :]\n",
    "        gl_reshaped[:,j,i] = gl_reshaped[:,i,j]\n",
    "        counter += 1\n",
    "    end\n",
    "end"
   ]
  },
  {
   "cell_type": "markdown",
   "id": "56c28c9c-97be-417b-971a-4f4b558c4f13",
   "metadata": {},
   "source": [
    "### Functions"
   ]
  },
  {
   "cell_type": "code",
   "execution_count": 15,
   "id": "ddadeda5-0042-4834-af4a-ef0eb9a4a029",
   "metadata": {},
   "outputs": [],
   "source": [
    "function load_Ts(folder, nχ, nR)\n",
    "    ell_vector = sort!(npzread(\"ell_vector.npy\")) \n",
    "    full_T = zeros(21, nχ, nR, 129)\n",
    "    for i in 1:21\n",
    "        l_string = string(round(ell_vector[i]; digits=1))\n",
    "        filename = folder * \"/T_tilde_l_$l_string.npy\"\n",
    "        full_T[i,:,:,:] = npzread(filename)\n",
    "    end\n",
    "    return full_T\n",
    "end;"
   ]
  },
  {
   "cell_type": "code",
   "execution_count": 16,
   "id": "80742165-13c1-4602-8af0-11c6d9996a8c",
   "metadata": {},
   "outputs": [],
   "source": [
    "function SimpsonWeightArray(n)\n",
    "    number_intervals = floor((n-1)/2)\n",
    "    weight_array = zeros(n)\n",
    "    if n == number_intervals*2+1\n",
    "        for i in 1:number_intervals\n",
    "            weight_array[Int((i-1)*2+1)] += 1/3\n",
    "            weight_array[Int((i-1)*2+2)] += 4/3\n",
    "            weight_array[Int((i-1)*2+3)] += 1/3\n",
    "        end\n",
    "    else\n",
    "        weight_array[1] += 0.5\n",
    "        weight_array[2] += 0.5\n",
    "        for i in 1:number_intervals\n",
    "            weight_array[Int((i-1)*2+1)+1] += 1/3\n",
    "            weight_array[Int((i-1)*2+2)+1] += 4/3\n",
    "            weight_array[Int((i-1)*2+3)+1] += 1/3\n",
    "        end\n",
    "        weight_array[length(weight_array)]   += 0.5\n",
    "        weight_array[length(weight_array)-1] += 0.5\n",
    "        for i in 1:number_intervals\n",
    "            weight_array[Int((i-1)*2+1)] += 1/3\n",
    "            weight_array[Int((i-1)*2+2)] += 4/3\n",
    "            weight_array[Int((i-1)*2+3)] += 1/3\n",
    "        end\n",
    "        weight_array ./= 2\n",
    "    end\n",
    "    return weight_array\n",
    "end;"
   ]
  },
  {
   "cell_type": "code",
   "execution_count": 17,
   "id": "c0107b55-4caf-4ecc-b982-318ccd1b3004",
   "metadata": {},
   "outputs": [],
   "source": [
    "function make_grid(χ, R)\n",
    "    return vec(χ * R')\n",
    "end;"
   ]
  },
  {
   "cell_type": "code",
   "execution_count": 18,
   "id": "ff750680-fad3-4d82-a3d5-cbc40b1eba9d",
   "metadata": {},
   "outputs": [],
   "source": [
    "function grid_interpolator(W, χ, grid)\n",
    "\n",
    "    W_interp = zeros(length(W[:,1]), length(grid))\n",
    "    \n",
    "    for i in 1:length(W[:,1])\n",
    "        interp = AkimaInterpolation(W[i,:], χ, extrapolate=true)#BSplineInterpolation(W[i,:], χ, 3, :ArcLen, :Average, extrapolate=true)\n",
    "        W_interp[i,:] = interp.(grid)\n",
    "    end\n",
    "\n",
    "    return W_interp\n",
    "end;"
   ]
  },
  {
   "cell_type": "code",
   "execution_count": 19,
   "id": "800fcb5c-a6f0-4998-852b-52a5b3f7cd8d",
   "metadata": {},
   "outputs": [],
   "source": [
    "function grid_interpolator(W, grid, label::String)\n",
    "    if label == \"C\"\n",
    "        W_array = W[\"kernels_cl\"]\n",
    "    elseif label == \"L\"\n",
    "        W_array = W[\"kernels_sh\"]\n",
    "    else\n",
    "        error(\"Label must be C or L!!!!!!!\")\n",
    "    end\n",
    "\n",
    "    χ = W[\"chi_sh\"]\n",
    "\n",
    "    return grid_interpolator(W_array, χ, grid)\n",
    "end;"
   ]
  },
  {
   "cell_type": "code",
   "execution_count": 20,
   "id": "881afd7f-e10f-4bbd-9771-35cc66ef5efb",
   "metadata": {},
   "outputs": [],
   "source": [
    "function compute_kernels(W, χ, R)\n",
    "\n",
    "    nχ = length(χ)\n",
    "    nR = length(R)\n",
    "    \n",
    "    W_C = reshape(grid_interpolator(W, make_grid(χ, R), \"C\"), 10, nχ, nR)\n",
    "    \n",
    "    χ2_app = zeros(5, nχ*nR)\n",
    "    for i in 1:5\n",
    "        χ2_app[i,:] = make_grid(χ, R) .^ 2\n",
    "    end\n",
    "    \n",
    "    W_L = grid_interpolator(W, make_grid(χ, R), \"L\")\n",
    "    W_L = reshape( W_L./χ2_app , 5, nχ, nR)\n",
    "\n",
    "    \n",
    "\n",
    "    W_C_r1 = W_C[:,:,end]\n",
    "    W_L_r1 = W_L[:,:,end]\n",
    "\n",
    "    @tullio K_CC[i,j,c,r] := W_C_r1[i,c] * W_C[j,c,r] + W_C[i,c,r]*W_C_r1[j,c]\n",
    "\n",
    "    @tullio K_LL[i,j,c,r] := W_L_r1[i,c] * W_L[j,c,r] + W_L[i,c,r]*W_L_r1[j,c]\n",
    "\n",
    "    @tullio K_CL[i,j,c,r] := W_C_r1[i,c] * W_L[j,c,r] + W_C[i,c,r]*W_L_r1[j,c]\n",
    "\n",
    "    return K_CC, K_CL, K_LL\n",
    "end;"
   ]
  },
  {
   "cell_type": "code",
   "execution_count": 21,
   "id": "b03e9ee8-bdaa-4e37-9946-7c648055b5f0",
   "metadata": {},
   "outputs": [],
   "source": [
    "function C_ell_computation_simpson(w, K) \n",
    "    \n",
    "    nχ = length(w[1,:,1])\n",
    "    nR = length(w[1,1,:])\n",
    "\n",
    "    χ = LinRange(26,7000,nχ)\n",
    "    R = LinRange(0,1, nR+1)[2:end]\n",
    "\n",
    "    Δχ = ((last(χ)-first(χ))/(nχ-1))\n",
    "    pesi_χ = SimpsonWeightArray(nχ)\n",
    "    ΔR = ((last(R)-first(R))/(nR-1))\n",
    "    pesi_R = SimpsonWeightArray(nR)\n",
    "        \n",
    "    @tullio Cℓ[l,i,j] := χ[n]*K[i,j,n,m]*w[l,n,m]*pesi_χ[n]*pesi_R[m]*Δχ*ΔR\n",
    "    \n",
    "    return Cℓ\n",
    "    \n",
    "end;"
   ]
  },
  {
   "cell_type": "code",
   "execution_count": 22,
   "id": "2e316b70-d99a-4f4a-9fa9-26afab879b5a",
   "metadata": {},
   "outputs": [],
   "source": [
    "function C_ell_computation_simpson_uneven_grid(w, K) \n",
    "    nχ = length(w[1,:,1])\n",
    "    nR = length(w[1,1,:])\n",
    "\n",
    "    χ = LinRange(26,7000,nχ)\n",
    "    R1 = LinRange(0,0.9,300)[2:end]\n",
    "    R2 = LinRange(0.9,1,151)[2:end]\n",
    "    R = unique(vcat( R1, R2 ))\n",
    "\n",
    "    Δχ = ((last(χ)-first(χ))/(nχ-1))\n",
    "    pesi_χ = SimpsonWeightArray(nχ)\n",
    "    ΔR1 = ((last(R1)-first(R1))/(length(R1)-1))\n",
    "    pesi_R1 = SimpsonWeightArray(length(R1))\n",
    "    ΔR2 = ((last(R2)-first(R2))/(length(R2)-1))\n",
    "    pesi_R2 = SimpsonWeightArray(length(R2))\n",
    "\n",
    "    a = ones(length(R1))*ΔR1 \n",
    "    b = ones(length(R2))*ΔR2 \n",
    "    ΔR = vcat(a,b)\n",
    "    pesi_R = vcat(pesi_R1,pesi_R2)\n",
    "        \n",
    "    @tullio Cℓ[l,i,j] := χ[n]*K[i,j,n,m]*w[l,n,m]*pesi_χ[n]*pesi_R[m]*Δχ*ΔR[m]\n",
    "    \n",
    "    return Cℓ\n",
    "end;"
   ]
  },
  {
   "cell_type": "code",
   "execution_count": 23,
   "id": "a08d4ba4-1fd4-484c-a3f8-d5d59941f303",
   "metadata": {},
   "outputs": [],
   "source": [
    "function factorial_frac(n)\n",
    "    return (n-1)*n*(n+1)*(n+2)\n",
    "end;"
   ]
  },
  {
   "cell_type": "markdown",
   "id": "904a7f00-c56a-4b5c-ba2e-fcc4771afac0",
   "metadata": {},
   "source": [
    "### Loading my $w_\\ell$'s"
   ]
  },
  {
   "cell_type": "code",
   "execution_count": 24,
   "id": "c304adcc-2f25-4743-957d-69fbc0e4b2e5",
   "metadata": {},
   "outputs": [],
   "source": [
    "kmax = 200/13 \n",
    "kmin = 2.5/7000\n",
    "n_cheb = 128\n",
    "nχ = 100\n",
    "χ = LinRange(26, 7000, nχ)\n",
    "Rs = unique(vcat(LinRange(0,0.9,300)[2:end], LinRange(0.9,1,151)))\n",
    "nR = length(Rs)\n",
    "ℓ = npzread(\"ell_vector.npy\")[1:21]\n",
    "\n",
    "k_cheb = chebpoints(n_cheb, log10(kmin), log10(kmax));\n",
    "coeff = zeros(nχ,nR,n_cheb+1)\n",
    "\n",
    "for i in 1:nR\n",
    "    for j in 1:nχ\n",
    "        c = chebinterp(power_spectrum.(10 .^ k_cheb,χ[j],χ[j]*Rs[i]), log10(kmin), log10(kmax)); #the bug was probably here, i wasn't doing 10^k_cheb\n",
    "        coeff[j,i,:] = c.coefs\n",
    "    end\n",
    "end"
   ]
  },
  {
   "cell_type": "code",
   "execution_count": 25,
   "id": "bb2fa903-493c-4334-b452-b3b1b10205a0",
   "metadata": {},
   "outputs": [],
   "source": [
    "T_LL = load_Ts(\"Ts_4_real/T_tilde_LL\", nχ, nR+1)[:,:,2:end,:]\n",
    "T_CL = load_Ts(\"Ts_4_real/T_tilde_CL\", nχ, nR+1)[:,:,2:end,:]\n",
    "T_CC = load_Ts(\"Ts_4_real/T_tilde_CC\", nχ, nR+1)[:,:,2:end,:]\n",
    "\n",
    "\n",
    "w_LL = Will.w_ell_tullio(coeff, T_LL)\n",
    "w_CL = Will.w_ell_tullio(coeff, T_CL)\n",
    "w_CC = Will.w_ell_tullio(coeff, T_CC);"
   ]
  },
  {
   "cell_type": "markdown",
   "id": "840fbc6e-09c0-4acd-a399-570aeb23622d",
   "metadata": {},
   "source": [
    "### Limber!!"
   ]
  },
  {
   "cell_type": "raw",
   "id": "bf4ea9a3-d5de-44ab-bfda-d963dc9394e0",
   "metadata": {},
   "source": [
    "function power_spectrum_limber(ℓ, χ)\n",
    "    k = (ℓ+0.5) ./ χ\n",
    "    return @. 10^InterpPmm(z_of_χ(χ),log10(k)) \n",
    "end;\n",
    "\n",
    "function power_spectrum_nl_limber(ℓ, χ)\n",
    "    k = (ℓ+0.5) ./ χ\n",
    "    return @. 10^InterpPmm_nl(z_of_χ(χ),log10(k)) \n",
    "end;"
   ]
  },
  {
   "cell_type": "raw",
   "id": "9b0cb25c-3bd1-4273-b6b7-dcfc66cb050b",
   "metadata": {},
   "source": [
    "function Cℓ_limber_nl(ℓ, χ, tracers)\n",
    "    n = length(χ)\n",
    "    W = npzread(\"../N5K/input/kernels_fullwidth.npz\")\n",
    "    WA = W[\"kernels_sh\"]\n",
    "    WB = W[\"kernels_cl\"]\n",
    "    WA_interp = zeros(5,n)\n",
    "    WB_interp = zeros(10,n)\n",
    "    \n",
    "    for i in 1:5\n",
    "        interp = BSplineInterpolation(WA[i,:], W[\"chi_sh\"], 3, :ArcLen, :Average, extrapolate=true)\n",
    "        WA_interp[i,:] = interp.(χ)\n",
    "    end\n",
    "    \n",
    "    for i in 1:10\n",
    "        interp = BSplineInterpolation(WB[i,:], W[\"chi_cl\"], 3, :ArcLen, :Average, extrapolate=true)\n",
    "        WB_interp[i,:] = interp.(χ)\n",
    "    end\n",
    "\n",
    "    if tracers == \"CC\"\n",
    "        F = 1\n",
    "        KA = WB_interp\n",
    "        KB = WB_interp\n",
    "    elseif tracers == \"CL\"\n",
    "        F = sqrt.(factorial_frac(ℓ))*(ℓ+0.5)^(-2)\n",
    "        KA = WB_interp\n",
    "        KB = WA_interp\n",
    "    elseif tracers == \"LL\"\n",
    "        F = factorial_frac(ℓ)*(ℓ+0.5)^(-4)\n",
    "        KA = WA_interp\n",
    "        KB = WA_interp\n",
    "    end\n",
    "\n",
    "    Δχ = ((χ[n]-χ[1])/(n-1))\n",
    "    pesi = SimpsonWeightArray(n)\n",
    "\n",
    "    pk_over_chi = power_spectrum_nl_limber(ℓ, χ) ./ (χ .^ 2)\n",
    "    \n",
    "    @tullio Cℓ[i,j] := Δχ*pk_over_chi[m]*KA[i,m]*KB[j,m]*pesi[m]\n",
    "    return Cℓ\n",
    "end;"
   ]
  },
  {
   "cell_type": "raw",
   "id": "3cf981aa-b0aa-4ad6-adc0-b4a026f0571f",
   "metadata": {},
   "source": [
    "function Cℓ_limber(ℓ, χ, tracers)\n",
    "    n = length(χ)\n",
    "    W = npzread(\"../N5K/input/kernels_fullwidth.npz\")\n",
    "    WA = W[\"kernels_sh\"]\n",
    "    WB = W[\"kernels_cl\"]\n",
    "    WA_interp = zeros(5,n)\n",
    "    WB_interp = zeros(10,n)\n",
    "    \n",
    "    for i in 1:5\n",
    "        interp = BSplineInterpolation(WA[i,:], W[\"chi_sh\"], 3, :ArcLen, :Average, extrapolate=true)\n",
    "        WA_interp[i,:] = interp.(χ)\n",
    "    end\n",
    "    \n",
    "    for i in 1:10\n",
    "        interp = BSplineInterpolation(WB[i,:], W[\"chi_cl\"], 3, :ArcLen, :Average, extrapolate=true)\n",
    "        WB_interp[i,:] = interp.(χ)\n",
    "    end\n",
    "\n",
    "    if tracers == \"CC\"\n",
    "        F = 1\n",
    "        KA = WB_interp\n",
    "        KB = WB_interp\n",
    "    elseif tracers == \"CL\"\n",
    "        F = sqrt.(factorial_frac(ℓ))*(ℓ+0.5)^(-2)\n",
    "        KA = WB_interp\n",
    "        KB = WA_interp\n",
    "    elseif tracers == \"LL\"\n",
    "        F = factorial_frac(ℓ)*(ℓ+0.5)^(-4)\n",
    "        KA = WA_interp\n",
    "        KB = WA_interp\n",
    "    end\n",
    "\n",
    "    Δχ = ((χ[n]-χ[1])/(n-1))\n",
    "    pesi = SimpsonWeightArray(n)\n",
    "\n",
    "    pk_over_chi = power_spectrum_limber(ℓ, χ) ./ (χ .^ 2)\n",
    "    \n",
    "    @tullio Cℓ[i,j] := Δχ*pk_over_chi[m]*KA[i,m]*KB[j,m]*pesi[m]\n",
    "    return Cℓ\n",
    "end;"
   ]
  },
  {
   "cell_type": "raw",
   "id": "6f2cac22-1fe9-4012-9599-40a597017fcb",
   "metadata": {},
   "source": [
    "Cℓ_CC_limb = zeros(21,10,10)\n",
    "Cℓ_CL_limb = zeros(21,10,5)\n",
    "Cℓ_LL_limb = zeros(21,5,5)\n",
    "\n",
    "@time for (lindex, ell) in enumerate(ℓ)\n",
    "    println(\"Processing ℓ=$(ell)\")\n",
    "    Cℓ_CL_limb[lindex,:,:] = Cℓ_limber(ell, χ, \"CL\")\n",
    "    Cℓ_CC_limb[lindex,:,:] = Cℓ_limber(ell, χ, \"CC\")\n",
    "    Cℓ_LL_limb[lindex,:,:] = Cℓ_limber(ell, χ, \"LL\")\n",
    "end\n",
    "\n",
    "npzwrite(\"Cl_CC_limber_linear.npy\", Cℓ_CC_limb)\n",
    "npzwrite(\"Cl_CL_limber_linear.npy\", Cℓ_CL_limb)\n",
    "npzwrite(\"Cl_LL_limber_linear.npy\", Cℓ_LL_limb);"
   ]
  },
  {
   "cell_type": "raw",
   "id": "3a624461-8fbd-4431-91d0-cc091d755610",
   "metadata": {},
   "source": [
    "Cℓ_CC_limb_nl = zeros(21,10,10)\n",
    "Cℓ_CL_limb_nl = zeros(21,10,5)\n",
    "Cℓ_LL_limb_nl = zeros(21,5,5)\n",
    "\n",
    "@time for (lindex, ell) in enumerate(ℓ)\n",
    "    println(\"Processing ℓ=$(ell)\")\n",
    "    Cℓ_CL_limb_nl[lindex,:,:] = Cℓ_limber_nl(ell, χ, \"CL\")\n",
    "    Cℓ_CC_limb_nl[lindex,:,:] = Cℓ_limber_nl(ell, χ, \"CC\")\n",
    "    Cℓ_LL_limb_nl[lindex,:,:] = Cℓ_limber_nl(ell, χ, \"LL\")\n",
    "end\n",
    "\n",
    "npzwrite(\"Cl_CC_limber_nl.npy\", Cℓ_CC_limb_nl)\n",
    "npzwrite(\"Cl_CL_limber_nl.npy\", Cℓ_CL_limb_nl)\n",
    "npzwrite(\"Cl_LL_limber_nl.npy\", Cℓ_LL_limb_nl);"
   ]
  },
  {
   "cell_type": "code",
   "execution_count": 30,
   "id": "5afc8695-b785-4835-be23-0f667eec2791",
   "metadata": {},
   "outputs": [],
   "source": [
    "Cℓ_CC_limb = npzread(\"Cl_CC_limber_linear.npy\")\n",
    "Cℓ_CL_limb = npzread(\"Cl_CL_limber_linear.npy\")\n",
    "Cℓ_LL_limb = npzread(\"Cl_LL_limber_linear.npy\");"
   ]
  },
  {
   "cell_type": "code",
   "execution_count": 32,
   "id": "812ca7ae-673d-4564-9112-7786d54fa515",
   "metadata": {},
   "outputs": [],
   "source": [
    "Cℓ_CC_limb_nl = npzread(\"Cl_CC_limber_nl.npy\")\n",
    "Cℓ_CL_limb_nl = npzread(\"Cl_CL_limber_nl.npy\")\n",
    "Cℓ_LL_limb_nl = npzread(\"Cl_LL_limber_nl.npy\");"
   ]
  },
  {
   "cell_type": "markdown",
   "id": "48f06cd3-55b9-429c-ab43-b236f706ad76",
   "metadata": {},
   "source": [
    "# $C_\\ell$'s computation"
   ]
  },
  {
   "cell_type": "code",
   "execution_count": 33,
   "id": "05928fc9-a0e5-44af-83c5-ae6786d1b527",
   "metadata": {},
   "outputs": [
    {
     "name": "stdout",
     "output_type": "stream",
     "text": [
      "  1.719164 seconds (5.62 M allocations: 441.609 MiB, 3.39% gc time, 97.44% compilation time)\n"
     ]
    }
   ],
   "source": [
    "W = npzread(\"../N5K/input/kernels_fullwidth.npz\")\n",
    "@time K_CC, K_CL, K_LL = compute_kernels(W, χ, Rs);"
   ]
  },
  {
   "cell_type": "code",
   "execution_count": 34,
   "id": "8aca1f73-8705-490b-ae1e-2e79aee9bd27",
   "metadata": {},
   "outputs": [],
   "source": [
    "Cℓ_CC = C_ell_computation_simpson_uneven_grid(w_CC, K_CC);\n",
    "Cℓ_CL = C_ell_computation_simpson_uneven_grid(w_CL, K_CL);\n",
    "Cℓ_LL = C_ell_computation_simpson_uneven_grid(w_LL, K_LL);"
   ]
  },
  {
   "cell_type": "code",
   "execution_count": 37,
   "id": "19d4f6df-bd0b-4372-b6bd-c745fa48b909",
   "metadata": {},
   "outputs": [],
   "source": [
    "# ADDING ELL PREFACTORS\n",
    "Cℓ_CC = Cℓ_CC .* (2/π)\n",
    "\n",
    "for i in 1:length(ℓ)\n",
    "    Cℓ_LL[i,:,:] = Cℓ_LL[i,:,:] .* 2 .* factorial_frac(ℓ[i]) ./ π\n",
    "    Cℓ_CL[i,:,:] = Cℓ_CL[i,:,:] .* 2 .* sqrt.(factorial_frac(ℓ[i])) ./ π\n",
    "end"
   ]
  },
  {
   "cell_type": "code",
   "execution_count": 38,
   "id": "549f2d15-3f01-45c9-88dd-f7f6898cfd87",
   "metadata": {},
   "outputs": [],
   "source": [
    "final_Cℓ_CC = Cℓ_CC + Cℓ_CC_limb_nl - Cℓ_CC_limb\n",
    "final_Cℓ_CL = Cℓ_CL + Cℓ_CL_limb_nl - Cℓ_CL_limb\n",
    "final_Cℓ_LL = Cℓ_LL + Cℓ_LL_limb_nl - Cℓ_LL_limb;"
   ]
  },
  {
   "cell_type": "code",
   "execution_count": null,
   "id": "3f764160-00a6-47dc-a661-24ec9f5bc4ae",
   "metadata": {},
   "outputs": [],
   "source": []
  }
 ],
 "metadata": {
  "kernelspec": {
   "display_name": "julia-nthreads8 1.10.0",
   "language": "julia",
   "name": "julia-nthreads8-1.10"
  },
  "language_info": {
   "file_extension": ".jl",
   "mimetype": "application/julia",
   "name": "julia",
   "version": "1.10.0"
  }
 },
 "nbformat": 4,
 "nbformat_minor": 5
}
